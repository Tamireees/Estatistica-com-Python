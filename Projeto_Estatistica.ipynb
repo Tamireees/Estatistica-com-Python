{
  "nbformat": 4,
  "nbformat_minor": 0,
  "metadata": {
    "colab": {
      "provenance": []
    },
    "kernelspec": {
      "name": "python3",
      "display_name": "Python 3"
    },
    "language_info": {
      "name": "python"
    }
  },
  "cells": [
    {
      "cell_type": "markdown",
      "source": [
        "# Projeto Estatistica\n",
        "\n",
        "\n"
      ],
      "metadata": {
        "id": "gGZZRRYqm5Lc"
      }
    },
    {
      "cell_type": "code",
      "source": [
        "# 1) Faça\ta\tleitura\tdo\tarquivo\tExcel\tIdadeAltura.xlsx\tutilizando\tPandas\tque\tfaça\n",
        "# leitura\tda\tplanilha\tchamada\tIdadeAltura\te\tcalcule:\n",
        "# a) Média\tdo\tarranjo\n",
        "# b) Mediana\tdo\tarranjo\n",
        "# c) Modo\tdo\tarranjo\n",
        "# d) Desvio\tpadrão\tdo\tarranjo\n",
        "# e) Assimetria\tdo\tarranjo"
      ],
      "metadata": {
        "id": "AoqKYKAvm-cZ"
      },
      "execution_count": null,
      "outputs": []
    },
    {
      "cell_type": "code",
      "source": [
        "import pandas as pd"
      ],
      "metadata": {
        "id": "qWYlsNWjnWK6"
      },
      "execution_count": null,
      "outputs": []
    },
    {
      "cell_type": "code",
      "source": [
        "import numpy as np\n"
      ],
      "metadata": {
        "id": "fQ7yCVkIqtHY"
      },
      "execution_count": null,
      "outputs": []
    },
    {
      "cell_type": "code",
      "source": [
        "from scipy import stats"
      ],
      "metadata": {
        "id": "U4O8Rkxhnl__"
      },
      "execution_count": null,
      "outputs": []
    },
    {
      "cell_type": "code",
      "source": [
        "dataset = pd.read_excel('IdadeAltura.xlsx', sheet_name='IdadeAltura')"
      ],
      "metadata": {
        "id": "chmxsg8JnyvK"
      },
      "execution_count": null,
      "outputs": []
    },
    {
      "cell_type": "code",
      "source": [
        "type(dataset)"
      ],
      "metadata": {
        "colab": {
          "base_uri": "https://localhost:8080/"
        },
        "id": "CAA5iSxqoHEK",
        "outputId": "52befb04-c01f-4dbc-c828-3d262a18c22b"
      },
      "execution_count": null,
      "outputs": [
        {
          "output_type": "execute_result",
          "data": {
            "text/plain": [
              "pandas.core.frame.DataFrame"
            ]
          },
          "metadata": {},
          "execution_count": 41
        }
      ]
    },
    {
      "cell_type": "code",
      "source": [
        "dataset.head()"
      ],
      "metadata": {
        "colab": {
          "base_uri": "https://localhost:8080/",
          "height": 206
        },
        "id": "jIAuG9GgpGFb",
        "outputId": "fb6cd85a-5d9c-4439-9a1b-31cc0af705ff"
      },
      "execution_count": null,
      "outputs": [
        {
          "output_type": "execute_result",
          "data": {
            "text/plain": [
              "     nome  idade  altura\n",
              "0    Jose     20    1.67\n",
              "1    Joao     25    1.78\n",
              "2  Carlos     40    1.56\n",
              "3   Maria     56    1.57\n",
              "4  Fatima     23    1.52"
            ],
            "text/html": [
              "\n",
              "  <div id=\"df-b87289d1-68d2-4452-82a7-13c6add386ae\">\n",
              "    <div class=\"colab-df-container\">\n",
              "      <div>\n",
              "<style scoped>\n",
              "    .dataframe tbody tr th:only-of-type {\n",
              "        vertical-align: middle;\n",
              "    }\n",
              "\n",
              "    .dataframe tbody tr th {\n",
              "        vertical-align: top;\n",
              "    }\n",
              "\n",
              "    .dataframe thead th {\n",
              "        text-align: right;\n",
              "    }\n",
              "</style>\n",
              "<table border=\"1\" class=\"dataframe\">\n",
              "  <thead>\n",
              "    <tr style=\"text-align: right;\">\n",
              "      <th></th>\n",
              "      <th>nome</th>\n",
              "      <th>idade</th>\n",
              "      <th>altura</th>\n",
              "    </tr>\n",
              "  </thead>\n",
              "  <tbody>\n",
              "    <tr>\n",
              "      <th>0</th>\n",
              "      <td>Jose</td>\n",
              "      <td>20</td>\n",
              "      <td>1.67</td>\n",
              "    </tr>\n",
              "    <tr>\n",
              "      <th>1</th>\n",
              "      <td>Joao</td>\n",
              "      <td>25</td>\n",
              "      <td>1.78</td>\n",
              "    </tr>\n",
              "    <tr>\n",
              "      <th>2</th>\n",
              "      <td>Carlos</td>\n",
              "      <td>40</td>\n",
              "      <td>1.56</td>\n",
              "    </tr>\n",
              "    <tr>\n",
              "      <th>3</th>\n",
              "      <td>Maria</td>\n",
              "      <td>56</td>\n",
              "      <td>1.57</td>\n",
              "    </tr>\n",
              "    <tr>\n",
              "      <th>4</th>\n",
              "      <td>Fatima</td>\n",
              "      <td>23</td>\n",
              "      <td>1.52</td>\n",
              "    </tr>\n",
              "  </tbody>\n",
              "</table>\n",
              "</div>\n",
              "      <button class=\"colab-df-convert\" onclick=\"convertToInteractive('df-b87289d1-68d2-4452-82a7-13c6add386ae')\"\n",
              "              title=\"Convert this dataframe to an interactive table.\"\n",
              "              style=\"display:none;\">\n",
              "        \n",
              "  <svg xmlns=\"http://www.w3.org/2000/svg\" height=\"24px\"viewBox=\"0 0 24 24\"\n",
              "       width=\"24px\">\n",
              "    <path d=\"M0 0h24v24H0V0z\" fill=\"none\"/>\n",
              "    <path d=\"M18.56 5.44l.94 2.06.94-2.06 2.06-.94-2.06-.94-.94-2.06-.94 2.06-2.06.94zm-11 1L8.5 8.5l.94-2.06 2.06-.94-2.06-.94L8.5 2.5l-.94 2.06-2.06.94zm10 10l.94 2.06.94-2.06 2.06-.94-2.06-.94-.94-2.06-.94 2.06-2.06.94z\"/><path d=\"M17.41 7.96l-1.37-1.37c-.4-.4-.92-.59-1.43-.59-.52 0-1.04.2-1.43.59L10.3 9.45l-7.72 7.72c-.78.78-.78 2.05 0 2.83L4 21.41c.39.39.9.59 1.41.59.51 0 1.02-.2 1.41-.59l7.78-7.78 2.81-2.81c.8-.78.8-2.07 0-2.86zM5.41 20L4 18.59l7.72-7.72 1.47 1.35L5.41 20z\"/>\n",
              "  </svg>\n",
              "      </button>\n",
              "      \n",
              "  <style>\n",
              "    .colab-df-container {\n",
              "      display:flex;\n",
              "      flex-wrap:wrap;\n",
              "      gap: 12px;\n",
              "    }\n",
              "\n",
              "    .colab-df-convert {\n",
              "      background-color: #E8F0FE;\n",
              "      border: none;\n",
              "      border-radius: 50%;\n",
              "      cursor: pointer;\n",
              "      display: none;\n",
              "      fill: #1967D2;\n",
              "      height: 32px;\n",
              "      padding: 0 0 0 0;\n",
              "      width: 32px;\n",
              "    }\n",
              "\n",
              "    .colab-df-convert:hover {\n",
              "      background-color: #E2EBFA;\n",
              "      box-shadow: 0px 1px 2px rgba(60, 64, 67, 0.3), 0px 1px 3px 1px rgba(60, 64, 67, 0.15);\n",
              "      fill: #174EA6;\n",
              "    }\n",
              "\n",
              "    [theme=dark] .colab-df-convert {\n",
              "      background-color: #3B4455;\n",
              "      fill: #D2E3FC;\n",
              "    }\n",
              "\n",
              "    [theme=dark] .colab-df-convert:hover {\n",
              "      background-color: #434B5C;\n",
              "      box-shadow: 0px 1px 3px 1px rgba(0, 0, 0, 0.15);\n",
              "      filter: drop-shadow(0px 1px 2px rgba(0, 0, 0, 0.3));\n",
              "      fill: #FFFFFF;\n",
              "    }\n",
              "  </style>\n",
              "\n",
              "      <script>\n",
              "        const buttonEl =\n",
              "          document.querySelector('#df-b87289d1-68d2-4452-82a7-13c6add386ae button.colab-df-convert');\n",
              "        buttonEl.style.display =\n",
              "          google.colab.kernel.accessAllowed ? 'block' : 'none';\n",
              "\n",
              "        async function convertToInteractive(key) {\n",
              "          const element = document.querySelector('#df-b87289d1-68d2-4452-82a7-13c6add386ae');\n",
              "          const dataTable =\n",
              "            await google.colab.kernel.invokeFunction('convertToInteractive',\n",
              "                                                     [key], {});\n",
              "          if (!dataTable) return;\n",
              "\n",
              "          const docLinkHtml = 'Like what you see? Visit the ' +\n",
              "            '<a target=\"_blank\" href=https://colab.research.google.com/notebooks/data_table.ipynb>data table notebook</a>'\n",
              "            + ' to learn more about interactive tables.';\n",
              "          element.innerHTML = '';\n",
              "          dataTable['output_type'] = 'display_data';\n",
              "          await google.colab.output.renderOutput(dataTable, element);\n",
              "          const docLink = document.createElement('div');\n",
              "          docLink.innerHTML = docLinkHtml;\n",
              "          element.appendChild(docLink);\n",
              "        }\n",
              "      </script>\n",
              "    </div>\n",
              "  </div>\n",
              "  "
            ]
          },
          "metadata": {},
          "execution_count": 42
        }
      ]
    },
    {
      "cell_type": "code",
      "source": [
        "# a) Média\tdo\tarranjo\n",
        "dataset_media = dataset.mean()\n",
        "print(\"Valores médios da distribuição\")\n",
        "print(dataset_media)"
      ],
      "metadata": {
        "colab": {
          "base_uri": "https://localhost:8080/"
        },
        "id": "4xR3ZuT-pLPw",
        "outputId": "07ff1058-56a6-466f-eec5-c7ba668b71a4"
      },
      "execution_count": null,
      "outputs": [
        {
          "output_type": "stream",
          "name": "stdout",
          "text": [
            "Valores médios da distribuição\n",
            "idade     40.666667\n",
            "altura     1.662778\n",
            "dtype: float64\n"
          ]
        },
        {
          "output_type": "stream",
          "name": "stderr",
          "text": [
            "<ipython-input-49-60f27e8c9dc7>:2: FutureWarning: The default value of numeric_only in DataFrame.mean is deprecated. In a future version, it will default to False. In addition, specifying 'numeric_only=None' is deprecated. Select only valid columns or specify the value of numeric_only to silence this warning.\n",
            "  dataset_media = dataset.mean()\n"
          ]
        }
      ]
    },
    {
      "cell_type": "code",
      "source": [
        "# b) Mediana\tdo\tarranjo\n",
        "dataset_mediana = dataset.median()\n",
        "print(\"\\n\")\n",
        "print(\"Valores medianos da distribuição\")\n",
        "print(dataset_mediana)\n"
      ],
      "metadata": {
        "colab": {
          "base_uri": "https://localhost:8080/"
        },
        "id": "PFWa8qmGrYPn",
        "outputId": "195254bf-bddd-41b2-c30e-61b7553460b4"
      },
      "execution_count": null,
      "outputs": [
        {
          "output_type": "stream",
          "name": "stdout",
          "text": [
            "\n",
            "\n",
            "Valores medianos da distribuição\n",
            "idade     39.50\n",
            "altura     1.64\n",
            "dtype: float64\n"
          ]
        },
        {
          "output_type": "stream",
          "name": "stderr",
          "text": [
            "<ipython-input-51-71ca98dcf2f4>:2: FutureWarning: The default value of numeric_only in DataFrame.median is deprecated. In a future version, it will default to False. In addition, specifying 'numeric_only=None' is deprecated. Select only valid columns or specify the value of numeric_only to silence this warning.\n",
            "  dataset_mediana = dataset.median()\n"
          ]
        }
      ]
    },
    {
      "cell_type": "code",
      "source": [
        "# c) Modo\tdo\tarranjo\n",
        "dataset_moda = dataset.mode()\n",
        "print(\"\\n\")\n",
        "print(\"Exibindo modo da distribuição\")\n",
        "print(dataset_moda)\n"
      ],
      "metadata": {
        "colab": {
          "base_uri": "https://localhost:8080/"
        },
        "id": "YNWntcPetqSd",
        "outputId": "581e7d64-5f4d-4a25-9c8b-a8885d59b812"
      },
      "execution_count": null,
      "outputs": [
        {
          "output_type": "stream",
          "name": "stdout",
          "text": [
            "\n",
            "\n",
            "Exibindo modo da distribuição\n",
            "     nome  idade  altura\n",
            "0  Carlos   34.0    1.56\n",
            "1     NaN    NaN    1.64\n",
            "2     NaN    NaN    1.68\n",
            "3     NaN    NaN    1.78\n"
          ]
        }
      ]
    },
    {
      "cell_type": "code",
      "source": [
        "# d) Desvio\tpadrão\tdo\tarranjo\n",
        "dataset_desvio_padrao = dataset.std()\n",
        "print(\"\\n\")\n",
        "print(\"Exibindo desvio padrão da distribuição\")\n",
        "print(dataset_desvio_padrao)"
      ],
      "metadata": {
        "colab": {
          "base_uri": "https://localhost:8080/"
        },
        "id": "OFL9J6PBtr-W",
        "outputId": "f875107b-bcce-40bb-f778-ca39b20e579c"
      },
      "execution_count": null,
      "outputs": [
        {
          "output_type": "stream",
          "name": "stdout",
          "text": [
            "\n",
            "\n",
            "Exibindo desvio padrão da distribuição\n",
            "idade     19.363398\n",
            "altura     0.163951\n",
            "dtype: float64\n"
          ]
        },
        {
          "output_type": "stream",
          "name": "stderr",
          "text": [
            "<ipython-input-55-b42754ca4ea4>:2: FutureWarning: The default value of numeric_only in DataFrame.std is deprecated. In a future version, it will default to False. In addition, specifying 'numeric_only=None' is deprecated. Select only valid columns or specify the value of numeric_only to silence this warning.\n",
            "  dataset_desvio_padrao = dataset.std()\n"
          ]
        }
      ]
    },
    {
      "cell_type": "code",
      "source": [
        "# e) Assimetria\tdo\tarranjo\n",
        "dataset_assimentria = dataset.skew()\n",
        "print(\"\\n\")\n",
        "print(\"Exibindo assimetria da distribuição\")\n",
        "print(dataset_assimentria)"
      ],
      "metadata": {
        "colab": {
          "base_uri": "https://localhost:8080/"
        },
        "id": "WXDGfSZbtujc",
        "outputId": "5d2c6768-b71e-4ecf-b4b2-5708bcb231a6"
      },
      "execution_count": null,
      "outputs": [
        {
          "output_type": "stream",
          "name": "stdout",
          "text": [
            "\n",
            "\n",
            "Exibindo assimetria da distribuição\n",
            "idade     0.160048\n",
            "altura    0.420491\n",
            "dtype: float64\n"
          ]
        },
        {
          "output_type": "stream",
          "name": "stderr",
          "text": [
            "<ipython-input-56-7669b9fbafe9>:2: FutureWarning: The default value of numeric_only in DataFrame.skew is deprecated. In a future version, it will default to False. In addition, specifying 'numeric_only=None' is deprecated. Select only valid columns or specify the value of numeric_only to silence this warning.\n",
            "  dataset_assimentria = dataset.skew()\n"
          ]
        }
      ]
    },
    {
      "cell_type": "code",
      "source": [
        "# 2) Crie uma\tdistribuição\tnormal\tcom\t1000\tpontos\tque\ttenha\tmedia 0.5\te\tdesvio\n",
        "# padrão\tde\t0.1.\tGere\tum\thistograma\tdestes\tdados com\t20\tbins e sobreponha\ta\n",
        "# ele\tum\tgaussiana."
      ],
      "metadata": {
        "id": "-szw2gebvwn8"
      },
      "execution_count": null,
      "outputs": []
    },
    {
      "cell_type": "code",
      "source": [
        "import matplotlib.pyplot as plt"
      ],
      "metadata": {
        "id": "DXCJOSGZvzY5"
      },
      "execution_count": null,
      "outputs": []
    },
    {
      "cell_type": "code",
      "source": [
        "media = 0.5\n",
        "desvio_padrao = 0.1\n",
        "\n",
        "#Gerando distribuição normal com 1000 elementos\n",
        "normal_dist = np.random.normal(media, desvio_padrao, 1000)\n",
        "normal_dist"
      ],
      "metadata": {
        "colab": {
          "base_uri": "https://localhost:8080/"
        },
        "id": "ct80rKjmwDLf",
        "outputId": "c09daff4-c2d6-4dcd-9a84-250a33e4e105"
      },
      "execution_count": null,
      "outputs": [
        {
          "output_type": "execute_result",
          "data": {
            "text/plain": [
              "array([0.42015703, 0.42177677, 0.46449426, 0.58149001, 0.61461047,\n",
              "       0.42610783, 0.30492505, 0.49565001, 0.48994719, 0.44792991,\n",
              "       0.36972752, 0.45939906, 0.5702625 , 0.43284586, 0.56490904,\n",
              "       0.52319753, 0.46664002, 0.30152052, 0.52034318, 0.52389987,\n",
              "       0.42122527, 0.39316511, 0.5158819 , 0.34651855, 0.50242747,\n",
              "       0.61341199, 0.46519978, 0.51388827, 0.48276165, 0.48536609,\n",
              "       0.55629704, 0.6958545 , 0.40284565, 0.45266787, 0.65064764,\n",
              "       0.42759734, 0.59268602, 0.51567951, 0.56067116, 0.56353559,\n",
              "       0.55970104, 0.51027915, 0.34125706, 0.59556685, 0.503926  ,\n",
              "       0.58126291, 0.51482588, 0.64460947, 0.52880259, 0.32427328,\n",
              "       0.61703576, 0.37154126, 0.38916124, 0.44776413, 0.47849511,\n",
              "       0.59054198, 0.70364013, 0.32876605, 0.46871455, 0.34088958,\n",
              "       0.89277516, 0.37224345, 0.56723656, 0.53732167, 0.40837568,\n",
              "       0.68519451, 0.54061745, 0.43338247, 0.59257824, 0.53498213,\n",
              "       0.48766051, 0.52177928, 0.6205991 , 0.38459113, 0.50287539,\n",
              "       0.39455643, 0.53166056, 0.47319192, 0.59463851, 0.49732511,\n",
              "       0.36968461, 0.41469295, 0.58260759, 0.46711482, 0.3273509 ,\n",
              "       0.44649034, 0.38446129, 0.27588167, 0.58186924, 0.48654931,\n",
              "       0.44358335, 0.44891338, 0.38482022, 0.70122438, 0.3399902 ,\n",
              "       0.59360152, 0.52634578, 0.3856778 , 0.39128538, 0.55781976,\n",
              "       0.60880756, 0.40247487, 0.45905901, 0.56746358, 0.49400671,\n",
              "       0.54882911, 0.53550275, 0.4004099 , 0.46947408, 0.48691852,\n",
              "       0.73729989, 0.45707026, 0.39924393, 0.56825529, 0.46046804,\n",
              "       0.54228337, 0.42461891, 0.46082788, 0.46932651, 0.52670327,\n",
              "       0.54659202, 0.56365105, 0.49536659, 0.36395093, 0.46765797,\n",
              "       0.55193161, 0.58164959, 0.48040446, 0.57837886, 0.45409576,\n",
              "       0.41127783, 0.46303255, 0.45878882, 0.46877957, 0.46578714,\n",
              "       0.62993171, 0.60218503, 0.5115708 , 0.35439536, 0.73852344,\n",
              "       0.5381532 , 0.50241917, 0.37005749, 0.51988477, 0.45449107,\n",
              "       0.41803028, 0.55179843, 0.38290635, 0.51943547, 0.57854244,\n",
              "       0.51382408, 0.52443428, 0.59253047, 0.46757152, 0.38563374,\n",
              "       0.45192386, 0.51352802, 0.47652063, 0.452435  , 0.68286605,\n",
              "       0.31020541, 0.46499859, 0.48186924, 0.52718997, 0.41864857,\n",
              "       0.35156613, 0.55484694, 0.51703115, 0.51909661, 0.38244847,\n",
              "       0.48984171, 0.60034129, 0.54022299, 0.43254455, 0.5644737 ,\n",
              "       0.58126896, 0.41278488, 0.40154335, 0.4296916 , 0.51175282,\n",
              "       0.40083115, 0.53321052, 0.64072757, 0.58497896, 0.60585068,\n",
              "       0.52557936, 0.55576001, 0.57979318, 0.41184755, 0.53798863,\n",
              "       0.47774789, 0.44070581, 0.42704264, 0.45741417, 0.28084787,\n",
              "       0.46819501, 0.44302368, 0.61284349, 0.47463801, 0.59885588,\n",
              "       0.59019363, 0.50354917, 0.6281776 , 0.53207421, 0.35463257,\n",
              "       0.47558845, 0.47363937, 0.60234851, 0.57493416, 0.59395638,\n",
              "       0.59123192, 0.60236028, 0.60501204, 0.36071079, 0.55204499,\n",
              "       0.52508903, 0.45173419, 0.485143  , 0.41905655, 0.60102905,\n",
              "       0.63592862, 0.32469052, 0.71210171, 0.59951912, 0.77850299,\n",
              "       0.508651  , 0.58991173, 0.46516158, 0.48481253, 0.41088776,\n",
              "       0.60298776, 0.48302445, 0.44776977, 0.6994149 , 0.4644489 ,\n",
              "       0.44062913, 0.4831383 , 0.47436022, 0.51057177, 0.54560249,\n",
              "       0.50352217, 0.52345435, 0.54308199, 0.3278658 , 0.47947721,\n",
              "       0.52484328, 0.38849743, 0.29750295, 0.44543283, 0.37009378,\n",
              "       0.53487239, 0.45374018, 0.5725477 , 0.69050743, 0.41771839,\n",
              "       0.41252792, 0.70316738, 0.49421888, 0.62821422, 0.57141198,\n",
              "       0.39360401, 0.40545636, 0.54626819, 0.51911079, 0.52520376,\n",
              "       0.46097491, 0.54969626, 0.59086361, 0.63501959, 0.64369735,\n",
              "       0.48857345, 0.50047188, 0.37490094, 0.40419444, 0.44657514,\n",
              "       0.48057835, 0.58371822, 0.53064688, 0.46800909, 0.5267381 ,\n",
              "       0.49918629, 0.62649008, 0.32629072, 0.50607508, 0.71515198,\n",
              "       0.51123219, 0.52124939, 0.34383431, 0.32622774, 0.51695861,\n",
              "       0.47503993, 0.63651417, 0.71049695, 0.75260552, 0.64220687,\n",
              "       0.53834992, 0.48332964, 0.58322837, 0.51440372, 0.43304657,\n",
              "       0.49677727, 0.33350423, 0.52114255, 0.38064215, 0.32903314,\n",
              "       0.52781901, 0.65224677, 0.67542286, 0.59038123, 0.48317264,\n",
              "       0.5726699 , 0.52477759, 0.69272835, 0.57466253, 0.55169507,\n",
              "       0.53655949, 0.49772413, 0.63289807, 0.63064648, 0.38833406,\n",
              "       0.70952396, 0.5638714 , 0.41426919, 0.49460884, 0.54607352,\n",
              "       0.49322725, 0.44238085, 0.53488003, 0.50377736, 0.48020306,\n",
              "       0.38598215, 0.50870462, 0.77585823, 0.57722297, 0.44455339,\n",
              "       0.49193091, 0.36442037, 0.52588339, 0.49768081, 0.48888495,\n",
              "       0.52499441, 0.46117755, 0.68898073, 0.53698274, 0.29628967,\n",
              "       0.6125931 , 0.50534931, 0.49616418, 0.47236887, 0.3651967 ,\n",
              "       0.60859999, 0.70262627, 0.69996957, 0.54619329, 0.51895771,\n",
              "       0.4770833 , 0.57386927, 0.49949906, 0.47800577, 0.45873039,\n",
              "       0.5177143 , 0.59169624, 0.39416212, 0.32534495, 0.48535184,\n",
              "       0.44030787, 0.48094336, 0.3771153 , 0.62648665, 0.47743709,\n",
              "       0.4849139 , 0.54543402, 0.5145797 , 0.37290934, 0.66730132,\n",
              "       0.35663409, 0.43277883, 0.51348127, 0.53081563, 0.3999415 ,\n",
              "       0.61960925, 0.51708161, 0.41702649, 0.61096801, 0.40244236,\n",
              "       0.62830608, 0.46984474, 0.44956153, 0.51785335, 0.64023894,\n",
              "       0.52994464, 0.55124122, 0.46651876, 0.41600132, 0.43991522,\n",
              "       0.63024435, 0.48452913, 0.54016461, 0.32654901, 0.45559097,\n",
              "       0.43294312, 0.60023569, 0.55658809, 0.41413282, 0.50415125,\n",
              "       0.35485602, 0.51012545, 0.5677438 , 0.45932541, 0.35855721,\n",
              "       0.65688421, 0.59339708, 0.44533607, 0.4162579 , 0.56753699,\n",
              "       0.47552122, 0.36567337, 0.39983949, 0.61914064, 0.6385256 ,\n",
              "       0.46762887, 0.57474167, 0.57904842, 0.4831766 , 0.50153157,\n",
              "       0.46022666, 0.52638112, 0.39721487, 0.64976787, 0.51322921,\n",
              "       0.33585424, 0.4494631 , 0.50557912, 0.66850492, 0.57299125,\n",
              "       0.47601133, 0.54801837, 0.43297704, 0.40406637, 0.6113256 ,\n",
              "       0.55568955, 0.58595816, 0.52221912, 0.60105861, 0.3706812 ,\n",
              "       0.48991099, 0.53463743, 0.4359109 , 0.61271883, 0.45968196,\n",
              "       0.34680644, 0.56102709, 0.55128887, 0.51037275, 0.31016552,\n",
              "       0.43325432, 0.4741474 , 0.66148581, 0.44641293, 0.65296232,\n",
              "       0.69189288, 0.60302667, 0.48711452, 0.47888987, 0.43977656,\n",
              "       0.43941708, 0.56627481, 0.40460325, 0.39325701, 0.37325931,\n",
              "       0.36705783, 0.57025236, 0.40784276, 0.68213253, 0.46145012,\n",
              "       0.39571741, 0.38843087, 0.58382769, 0.67044301, 0.52348504,\n",
              "       0.46005827, 0.30238393, 0.35854415, 0.60102701, 0.50655786,\n",
              "       0.52784281, 0.50493841, 0.64987013, 0.39780902, 0.58436016,\n",
              "       0.54554292, 0.46307518, 0.30657716, 0.65113144, 0.58010796,\n",
              "       0.54401661, 0.55906366, 0.32749348, 0.5763953 , 0.58561758,\n",
              "       0.31603294, 0.40009501, 0.38658033, 0.51669398, 0.53232841,\n",
              "       0.49102036, 0.46134812, 0.33486105, 0.58552307, 0.54719685,\n",
              "       0.64602509, 0.63578644, 0.58212223, 0.45085414, 0.40507815,\n",
              "       0.26592195, 0.54930247, 0.60032529, 0.41442107, 0.43779973,\n",
              "       0.42944815, 0.44827144, 0.57080389, 0.45241066, 0.67876849,\n",
              "       0.39155564, 0.44070383, 0.4317066 , 0.47026018, 0.49348174,\n",
              "       0.50941183, 0.60747926, 0.53081724, 0.62641425, 0.63198998,\n",
              "       0.49048579, 0.50895035, 0.42177216, 0.6359437 , 0.4676158 ,\n",
              "       0.46960478, 0.76486413, 0.60460747, 0.48559369, 0.52489421,\n",
              "       0.31045029, 0.38728504, 0.58125295, 0.64435811, 0.5802661 ,\n",
              "       0.65451045, 0.64574672, 0.48516487, 0.44715449, 0.55483128,\n",
              "       0.46704328, 0.42804021, 0.60366006, 0.40898265, 0.57500488,\n",
              "       0.34497195, 0.41443686, 0.54242117, 0.60492147, 0.72793908,\n",
              "       0.62902308, 0.50344582, 0.52019521, 0.60726332, 0.53661016,\n",
              "       0.52729338, 0.44731287, 0.42919649, 0.40285933, 0.59640284,\n",
              "       0.51792917, 0.29877366, 0.39097452, 0.35679626, 0.67416645,\n",
              "       0.52137637, 0.44135236, 0.58448817, 0.46902954, 0.53520655,\n",
              "       0.52271338, 0.57116094, 0.58979668, 0.52425813, 0.30484198,\n",
              "       0.5157655 , 0.54703703, 0.57604305, 0.29019212, 0.55736566,\n",
              "       0.5168861 , 0.59425193, 0.55039909, 0.42051425, 0.36075311,\n",
              "       0.50097085, 0.48781812, 0.29391944, 0.47973417, 0.55857996,\n",
              "       0.47238522, 0.44894991, 0.52916663, 0.66670567, 0.54076445,\n",
              "       0.39928207, 0.55207663, 0.60256424, 0.55060862, 0.4612605 ,\n",
              "       0.3696534 , 0.39241778, 0.43449774, 0.59781492, 0.58509724,\n",
              "       0.5291344 , 0.503119  , 0.53355632, 0.44297292, 0.35316262,\n",
              "       0.63128406, 0.43517415, 0.3585983 , 0.54454649, 0.36346198,\n",
              "       0.45402389, 0.43785366, 0.40929806, 0.42865994, 0.65620453,\n",
              "       0.58603037, 0.6156837 , 0.47222278, 0.60459474, 0.62421229,\n",
              "       0.48490665, 0.48806557, 0.56124265, 0.48542858, 0.34860231,\n",
              "       0.52402673, 0.33723952, 0.46384635, 0.42778338, 0.52283433,\n",
              "       0.45128784, 0.48929591, 0.57320398, 0.34116251, 0.55160718,\n",
              "       0.56162498, 0.56631655, 0.47093957, 0.61656718, 0.37251982,\n",
              "       0.37415843, 0.41093041, 0.62367904, 0.37794687, 0.62804225,\n",
              "       0.54166473, 0.58524083, 0.59983784, 0.47019034, 0.57628581,\n",
              "       0.49008798, 0.24539865, 0.534434  , 0.44151841, 0.4115533 ,\n",
              "       0.61183351, 0.49819819, 0.34851323, 0.42682254, 0.51488989,\n",
              "       0.55015775, 0.64771739, 0.4872023 , 0.43282386, 0.42539648,\n",
              "       0.41281615, 0.52003261, 0.47296959, 0.50848105, 0.5208991 ,\n",
              "       0.46575291, 0.56698615, 0.57194959, 0.29370791, 0.54042325,\n",
              "       0.48037039, 0.47841144, 0.58938123, 0.40910742, 0.67876651,\n",
              "       0.52128069, 0.41151801, 0.55713158, 0.51801829, 0.51102326,\n",
              "       0.48964823, 0.63425037, 0.43759151, 0.5282294 , 0.3516049 ,\n",
              "       0.64414979, 0.50844389, 0.50096883, 0.69773503, 0.33414603,\n",
              "       0.58624644, 0.36739986, 0.54707182, 0.49460669, 0.42576178,\n",
              "       0.49274228, 0.69348072, 0.46388758, 0.55130104, 0.66428657,\n",
              "       0.39030898, 0.54868132, 0.7112865 , 0.45491073, 0.54300247,\n",
              "       0.54613713, 0.26483358, 0.56147832, 0.53877458, 0.6595535 ,\n",
              "       0.44247657, 0.37453349, 0.53094367, 0.58610212, 0.45208088,\n",
              "       0.30213204, 0.505867  , 0.61499039, 0.63648811, 0.526969  ,\n",
              "       0.53361482, 0.3314377 , 0.59253939, 0.50299767, 0.41131879,\n",
              "       0.55132839, 0.44770549, 0.45342215, 0.64579436, 0.55368104,\n",
              "       0.51324744, 0.55328905, 0.49775706, 0.35142369, 0.42612677,\n",
              "       0.38985104, 0.4334401 , 0.44699016, 0.48732808, 0.45638031,\n",
              "       0.58448836, 0.40604115, 0.51169661, 0.56136658, 0.3419667 ,\n",
              "       0.4556988 , 0.4412286 , 0.59343697, 0.52824206, 0.46663469,\n",
              "       0.68046932, 0.16147392, 0.43745933, 0.38912911, 0.60790453,\n",
              "       0.44678999, 0.60538542, 0.58032073, 0.583388  , 0.48927596,\n",
              "       0.42796935, 0.50457621, 0.45169057, 0.50669362, 0.63506328,\n",
              "       0.64785251, 0.43002905, 0.53094948, 0.62881697, 0.4331768 ,\n",
              "       0.47241076, 0.53575584, 0.49615056, 0.56547206, 0.49087464,\n",
              "       0.36098642, 0.55433018, 0.5298697 , 0.44962012, 0.40478124,\n",
              "       0.33513817, 0.58102191, 0.48792295, 0.36531631, 0.64557516,\n",
              "       0.5858182 , 0.44971445, 0.62905493, 0.62868579, 0.44814434,\n",
              "       0.31157239, 0.44354463, 0.62533174, 0.43884372, 0.61252548,\n",
              "       0.49768174, 0.40774169, 0.45378481, 0.5570505 , 0.37802081,\n",
              "       0.48389728, 0.47806038, 0.615796  , 0.47476256, 0.49646119,\n",
              "       0.53890125, 0.54592465, 0.59889739, 0.54492298, 0.50481038,\n",
              "       0.43015431, 0.56117607, 0.41041964, 0.52810456, 0.47599914,\n",
              "       0.29863461, 0.2571578 , 0.55938614, 0.47466066, 0.5612465 ,\n",
              "       0.47206379, 0.42198388, 0.57362207, 0.521212  , 0.19543791,\n",
              "       0.68168757, 0.28645079, 0.47207775, 0.59395658, 0.65145378,\n",
              "       0.54337045, 0.34569853, 0.57413504, 0.52743575, 0.72607091,\n",
              "       0.4429539 , 0.47399886, 0.51771198, 0.37534012, 0.54912414,\n",
              "       0.45337339, 0.50236208, 0.58860594, 0.5179543 , 0.47349347,\n",
              "       0.4378963 , 0.50180709, 0.20278159, 0.38907475, 0.50417229,\n",
              "       0.54350403, 0.41275515, 0.41442775, 0.66411952, 0.65815689,\n",
              "       0.64105143, 0.45357361, 0.41408523, 0.6585321 , 0.58576025,\n",
              "       0.55919978, 0.57808235, 0.45238964, 0.56295048, 0.48669295,\n",
              "       0.5442416 , 0.53699196, 0.52048952, 0.4609927 , 0.44814692,\n",
              "       0.3836496 , 0.35063827, 0.55843277, 0.42092681, 0.39344901,\n",
              "       0.66693319, 0.5223719 , 0.60447551, 0.50795472, 0.62839069,\n",
              "       0.56612059, 0.61774034, 0.53187768, 0.51951537, 0.34089037,\n",
              "       0.46597825, 0.38479216, 0.58678473, 0.62835438, 0.48012377,\n",
              "       0.44086215, 0.58199144, 0.3956783 , 0.42838517, 0.38688697,\n",
              "       0.4767412 , 0.49308287, 0.51651238, 0.63719084, 0.46284597,\n",
              "       0.34366396, 0.58562372, 0.47868624, 0.39683154, 0.50370794,\n",
              "       0.41741793, 0.69468239, 0.57442719, 0.51332007, 0.46254628,\n",
              "       0.53433075, 0.50036042, 0.505678  , 0.2433106 , 0.46017414,\n",
              "       0.39586808, 0.43339623, 0.4641881 , 0.73912873, 0.50712508,\n",
              "       0.4034216 , 0.48714321, 0.83651893, 0.46273523, 0.44192419,\n",
              "       0.6437414 , 0.58687745, 0.79984612, 0.43446047, 0.67266409,\n",
              "       0.30168917, 0.41982426, 0.44186659, 0.31271656, 0.54709685,\n",
              "       0.55689842, 0.4933875 , 0.43523324, 0.42009418, 0.65040807,\n",
              "       0.55393312, 0.48917098, 0.55379536, 0.6155932 , 0.64821588,\n",
              "       0.30456713, 0.46044741, 0.52304063, 0.50114877, 0.53289608,\n",
              "       0.56987575, 0.6163272 , 0.46178758, 0.46395319, 0.60090133,\n",
              "       0.51245981, 0.45117457, 0.49281875, 0.38026179, 0.38226323,\n",
              "       0.41126139, 0.72947872, 0.47166451, 0.47924233, 0.33917249,\n",
              "       0.45962232, 0.56486204, 0.67823351, 0.3521963 , 0.56506906,\n",
              "       0.47319222, 0.47489495, 0.40643312, 0.29336123, 0.46572755])"
            ]
          },
          "metadata": {},
          "execution_count": 61
        }
      ]
    },
    {
      "cell_type": "code",
      "source": [
        "#Graficando dados num histograma com n_bins\n",
        "n_bins = 20\n",
        "count, bins, ignored = plt.hist(normal_dist, n_bins, normed=True,color='red')"
      ],
      "metadata": {
        "colab": {
          "base_uri": "https://localhost:8080/",
          "height": 758
        },
        "id": "EDqitNiMwUtq",
        "outputId": "55edb3ca-3bb0-460e-aa18-239b338af61f"
      },
      "execution_count": null,
      "outputs": [
        {
          "output_type": "error",
          "ename": "AttributeError",
          "evalue": "ignored",
          "traceback": [
            "\u001b[0;31m---------------------------------------------------------------------------\u001b[0m",
            "\u001b[0;31mAttributeError\u001b[0m                            Traceback (most recent call last)",
            "\u001b[0;32m<ipython-input-62-0f59d6fb5b0d>\u001b[0m in \u001b[0;36m<cell line: 3>\u001b[0;34m()\u001b[0m\n\u001b[1;32m      1\u001b[0m \u001b[0;31m#Graficando dados num histograma com n_bins\u001b[0m\u001b[0;34m\u001b[0m\u001b[0;34m\u001b[0m\u001b[0m\n\u001b[1;32m      2\u001b[0m \u001b[0mn_bins\u001b[0m \u001b[0;34m=\u001b[0m \u001b[0;36m20\u001b[0m\u001b[0;34m\u001b[0m\u001b[0;34m\u001b[0m\u001b[0m\n\u001b[0;32m----> 3\u001b[0;31m \u001b[0mcount\u001b[0m\u001b[0;34m,\u001b[0m \u001b[0mbins\u001b[0m\u001b[0;34m,\u001b[0m \u001b[0mignored\u001b[0m \u001b[0;34m=\u001b[0m \u001b[0mplt\u001b[0m\u001b[0;34m.\u001b[0m\u001b[0mhist\u001b[0m\u001b[0;34m(\u001b[0m\u001b[0mnormal_dist\u001b[0m\u001b[0;34m,\u001b[0m \u001b[0mn_bins\u001b[0m\u001b[0;34m,\u001b[0m \u001b[0mnormed\u001b[0m\u001b[0;34m=\u001b[0m\u001b[0;32mTrue\u001b[0m\u001b[0;34m,\u001b[0m\u001b[0mcolor\u001b[0m\u001b[0;34m=\u001b[0m\u001b[0;34m'red'\u001b[0m\u001b[0;34m)\u001b[0m\u001b[0;34m\u001b[0m\u001b[0;34m\u001b[0m\u001b[0m\n\u001b[0m",
            "\u001b[0;32m/usr/local/lib/python3.9/dist-packages/matplotlib/pyplot.py\u001b[0m in \u001b[0;36mhist\u001b[0;34m(x, bins, range, density, weights, cumulative, bottom, histtype, align, orientation, rwidth, log, color, label, stacked, data, **kwargs)\u001b[0m\n\u001b[1;32m   2643\u001b[0m         \u001b[0morientation\u001b[0m\u001b[0;34m=\u001b[0m\u001b[0;34m'vertical'\u001b[0m\u001b[0;34m,\u001b[0m \u001b[0mrwidth\u001b[0m\u001b[0;34m=\u001b[0m\u001b[0;32mNone\u001b[0m\u001b[0;34m,\u001b[0m \u001b[0mlog\u001b[0m\u001b[0;34m=\u001b[0m\u001b[0;32mFalse\u001b[0m\u001b[0;34m,\u001b[0m \u001b[0mcolor\u001b[0m\u001b[0;34m=\u001b[0m\u001b[0;32mNone\u001b[0m\u001b[0;34m,\u001b[0m\u001b[0;34m\u001b[0m\u001b[0;34m\u001b[0m\u001b[0m\n\u001b[1;32m   2644\u001b[0m         label=None, stacked=False, *, data=None, **kwargs):\n\u001b[0;32m-> 2645\u001b[0;31m     return gca().hist(\n\u001b[0m\u001b[1;32m   2646\u001b[0m         \u001b[0mx\u001b[0m\u001b[0;34m,\u001b[0m \u001b[0mbins\u001b[0m\u001b[0;34m=\u001b[0m\u001b[0mbins\u001b[0m\u001b[0;34m,\u001b[0m \u001b[0mrange\u001b[0m\u001b[0;34m=\u001b[0m\u001b[0mrange\u001b[0m\u001b[0;34m,\u001b[0m \u001b[0mdensity\u001b[0m\u001b[0;34m=\u001b[0m\u001b[0mdensity\u001b[0m\u001b[0;34m,\u001b[0m \u001b[0mweights\u001b[0m\u001b[0;34m=\u001b[0m\u001b[0mweights\u001b[0m\u001b[0;34m,\u001b[0m\u001b[0;34m\u001b[0m\u001b[0;34m\u001b[0m\u001b[0m\n\u001b[1;32m   2647\u001b[0m         \u001b[0mcumulative\u001b[0m\u001b[0;34m=\u001b[0m\u001b[0mcumulative\u001b[0m\u001b[0;34m,\u001b[0m \u001b[0mbottom\u001b[0m\u001b[0;34m=\u001b[0m\u001b[0mbottom\u001b[0m\u001b[0;34m,\u001b[0m \u001b[0mhisttype\u001b[0m\u001b[0;34m=\u001b[0m\u001b[0mhisttype\u001b[0m\u001b[0;34m,\u001b[0m\u001b[0;34m\u001b[0m\u001b[0;34m\u001b[0m\u001b[0m\n",
            "\u001b[0;32m/usr/local/lib/python3.9/dist-packages/matplotlib/__init__.py\u001b[0m in \u001b[0;36minner\u001b[0;34m(ax, data, *args, **kwargs)\u001b[0m\n\u001b[1;32m   1440\u001b[0m     \u001b[0;32mdef\u001b[0m \u001b[0minner\u001b[0m\u001b[0;34m(\u001b[0m\u001b[0max\u001b[0m\u001b[0;34m,\u001b[0m \u001b[0;34m*\u001b[0m\u001b[0margs\u001b[0m\u001b[0;34m,\u001b[0m \u001b[0mdata\u001b[0m\u001b[0;34m=\u001b[0m\u001b[0;32mNone\u001b[0m\u001b[0;34m,\u001b[0m \u001b[0;34m**\u001b[0m\u001b[0mkwargs\u001b[0m\u001b[0;34m)\u001b[0m\u001b[0;34m:\u001b[0m\u001b[0;34m\u001b[0m\u001b[0;34m\u001b[0m\u001b[0m\n\u001b[1;32m   1441\u001b[0m         \u001b[0;32mif\u001b[0m \u001b[0mdata\u001b[0m \u001b[0;32mis\u001b[0m \u001b[0;32mNone\u001b[0m\u001b[0;34m:\u001b[0m\u001b[0;34m\u001b[0m\u001b[0;34m\u001b[0m\u001b[0m\n\u001b[0;32m-> 1442\u001b[0;31m             \u001b[0;32mreturn\u001b[0m \u001b[0mfunc\u001b[0m\u001b[0;34m(\u001b[0m\u001b[0max\u001b[0m\u001b[0;34m,\u001b[0m \u001b[0;34m*\u001b[0m\u001b[0mmap\u001b[0m\u001b[0;34m(\u001b[0m\u001b[0msanitize_sequence\u001b[0m\u001b[0;34m,\u001b[0m \u001b[0margs\u001b[0m\u001b[0;34m)\u001b[0m\u001b[0;34m,\u001b[0m \u001b[0;34m**\u001b[0m\u001b[0mkwargs\u001b[0m\u001b[0;34m)\u001b[0m\u001b[0;34m\u001b[0m\u001b[0;34m\u001b[0m\u001b[0m\n\u001b[0m\u001b[1;32m   1443\u001b[0m \u001b[0;34m\u001b[0m\u001b[0m\n\u001b[1;32m   1444\u001b[0m         \u001b[0mbound\u001b[0m \u001b[0;34m=\u001b[0m \u001b[0mnew_sig\u001b[0m\u001b[0;34m.\u001b[0m\u001b[0mbind\u001b[0m\u001b[0;34m(\u001b[0m\u001b[0max\u001b[0m\u001b[0;34m,\u001b[0m \u001b[0;34m*\u001b[0m\u001b[0margs\u001b[0m\u001b[0;34m,\u001b[0m \u001b[0;34m**\u001b[0m\u001b[0mkwargs\u001b[0m\u001b[0;34m)\u001b[0m\u001b[0;34m\u001b[0m\u001b[0;34m\u001b[0m\u001b[0m\n",
            "\u001b[0;32m/usr/local/lib/python3.9/dist-packages/matplotlib/axes/_axes.py\u001b[0m in \u001b[0;36mhist\u001b[0;34m(self, x, bins, range, density, weights, cumulative, bottom, histtype, align, orientation, rwidth, log, color, label, stacked, **kwargs)\u001b[0m\n\u001b[1;32m   6941\u001b[0m             \u001b[0;32mif\u001b[0m \u001b[0mpatch\u001b[0m\u001b[0;34m:\u001b[0m\u001b[0;34m\u001b[0m\u001b[0;34m\u001b[0m\u001b[0m\n\u001b[1;32m   6942\u001b[0m                 \u001b[0mp\u001b[0m \u001b[0;34m=\u001b[0m \u001b[0mpatch\u001b[0m\u001b[0;34m[\u001b[0m\u001b[0;36m0\u001b[0m\u001b[0;34m]\u001b[0m\u001b[0;34m\u001b[0m\u001b[0;34m\u001b[0m\u001b[0m\n\u001b[0;32m-> 6943\u001b[0;31m                 \u001b[0mp\u001b[0m\u001b[0;34m.\u001b[0m\u001b[0m_internal_update\u001b[0m\u001b[0;34m(\u001b[0m\u001b[0mkwargs\u001b[0m\u001b[0;34m)\u001b[0m\u001b[0;34m\u001b[0m\u001b[0;34m\u001b[0m\u001b[0m\n\u001b[0m\u001b[1;32m   6944\u001b[0m                 \u001b[0;32mif\u001b[0m \u001b[0mlbl\u001b[0m \u001b[0;32mis\u001b[0m \u001b[0;32mnot\u001b[0m \u001b[0;32mNone\u001b[0m\u001b[0;34m:\u001b[0m\u001b[0;34m\u001b[0m\u001b[0;34m\u001b[0m\u001b[0m\n\u001b[1;32m   6945\u001b[0m                     \u001b[0mp\u001b[0m\u001b[0;34m.\u001b[0m\u001b[0mset_label\u001b[0m\u001b[0;34m(\u001b[0m\u001b[0mlbl\u001b[0m\u001b[0;34m)\u001b[0m\u001b[0;34m\u001b[0m\u001b[0;34m\u001b[0m\u001b[0m\n",
            "\u001b[0;32m/usr/local/lib/python3.9/dist-packages/matplotlib/artist.py\u001b[0m in \u001b[0;36m_internal_update\u001b[0;34m(self, kwargs)\u001b[0m\n\u001b[1;32m   1221\u001b[0m         \u001b[0mThe\u001b[0m \u001b[0mlack\u001b[0m \u001b[0mof\u001b[0m \u001b[0mprenormalization\u001b[0m \u001b[0;32mis\u001b[0m \u001b[0mto\u001b[0m \u001b[0mmaintain\u001b[0m \u001b[0mbackcompatibility\u001b[0m\u001b[0;34m.\u001b[0m\u001b[0;34m\u001b[0m\u001b[0;34m\u001b[0m\u001b[0m\n\u001b[1;32m   1222\u001b[0m         \"\"\"\n\u001b[0;32m-> 1223\u001b[0;31m         return self._update_props(\n\u001b[0m\u001b[1;32m   1224\u001b[0m             \u001b[0mkwargs\u001b[0m\u001b[0;34m,\u001b[0m \u001b[0;34m\"{cls.__name__}.set() got an unexpected keyword argument \"\u001b[0m\u001b[0;34m\u001b[0m\u001b[0;34m\u001b[0m\u001b[0m\n\u001b[1;32m   1225\u001b[0m             \"{prop_name!r}\")\n",
            "\u001b[0;32m/usr/local/lib/python3.9/dist-packages/matplotlib/artist.py\u001b[0m in \u001b[0;36m_update_props\u001b[0;34m(self, props, errfmt)\u001b[0m\n\u001b[1;32m   1195\u001b[0m                     \u001b[0mfunc\u001b[0m \u001b[0;34m=\u001b[0m \u001b[0mgetattr\u001b[0m\u001b[0;34m(\u001b[0m\u001b[0mself\u001b[0m\u001b[0;34m,\u001b[0m \u001b[0;34mf\"set_{k}\"\u001b[0m\u001b[0;34m,\u001b[0m \u001b[0;32mNone\u001b[0m\u001b[0;34m)\u001b[0m\u001b[0;34m\u001b[0m\u001b[0;34m\u001b[0m\u001b[0m\n\u001b[1;32m   1196\u001b[0m                     \u001b[0;32mif\u001b[0m \u001b[0;32mnot\u001b[0m \u001b[0mcallable\u001b[0m\u001b[0;34m(\u001b[0m\u001b[0mfunc\u001b[0m\u001b[0;34m)\u001b[0m\u001b[0;34m:\u001b[0m\u001b[0;34m\u001b[0m\u001b[0;34m\u001b[0m\u001b[0m\n\u001b[0;32m-> 1197\u001b[0;31m                         raise AttributeError(\n\u001b[0m\u001b[1;32m   1198\u001b[0m                             errfmt.format(cls=type(self), prop_name=k))\n\u001b[1;32m   1199\u001b[0m                     \u001b[0mret\u001b[0m\u001b[0;34m.\u001b[0m\u001b[0mappend\u001b[0m\u001b[0;34m(\u001b[0m\u001b[0mfunc\u001b[0m\u001b[0;34m(\u001b[0m\u001b[0mv\u001b[0m\u001b[0;34m)\u001b[0m\u001b[0;34m)\u001b[0m\u001b[0;34m\u001b[0m\u001b[0;34m\u001b[0m\u001b[0m\n",
            "\u001b[0;31mAttributeError\u001b[0m: Rectangle.set() got an unexpected keyword argument 'normed'"
          ]
        },
        {
          "output_type": "display_data",
          "data": {
            "text/plain": [
              "<Figure size 640x480 with 1 Axes>"
            ],
            "image/png": "[encoded data removed]"
          },
          "metadata": {}
        }
      ]
    },
    {
      "cell_type": "code",
      "source": [
        "#Calculando gaussiana através dos dados\n",
        "gaussiana = 1/(desvio_padrao * np.sqrt(2*np.pi)) * np.exp(-(bins - media)**2/ (2*desvio_padrao**2))\n"
      ],
      "metadata": {
        "colab": {
          "base_uri": "https://localhost:8080/",
          "height": 183
        },
        "id": "QgBa3xOlwicu",
        "outputId": "c4eb4e25-e48a-400d-d391-94a3103cd959"
      },
      "execution_count": null,
      "outputs": [
        {
          "output_type": "error",
          "ename": "NameError",
          "evalue": "ignored",
          "traceback": [
            "\u001b[0;31m---------------------------------------------------------------------------\u001b[0m",
            "\u001b[0;31mNameError\u001b[0m                                 Traceback (most recent call last)",
            "\u001b[0;32m<ipython-input-65-1b1794158682>\u001b[0m in \u001b[0;36m<cell line: 2>\u001b[0;34m()\u001b[0m\n\u001b[1;32m      1\u001b[0m \u001b[0;31m#Calculando gaussiana através dos dados\u001b[0m\u001b[0;34m\u001b[0m\u001b[0;34m\u001b[0m\u001b[0m\n\u001b[0;32m----> 2\u001b[0;31m \u001b[0mgaussiana\u001b[0m \u001b[0;34m=\u001b[0m \u001b[0;36m1\u001b[0m\u001b[0;34m/\u001b[0m\u001b[0;34m(\u001b[0m\u001b[0mdesvio_padrao\u001b[0m \u001b[0;34m*\u001b[0m \u001b[0mnp\u001b[0m\u001b[0;34m.\u001b[0m\u001b[0msqrt\u001b[0m\u001b[0;34m(\u001b[0m\u001b[0;36m2\u001b[0m\u001b[0;34m*\u001b[0m\u001b[0mnp\u001b[0m\u001b[0;34m.\u001b[0m\u001b[0mpi\u001b[0m\u001b[0;34m)\u001b[0m\u001b[0;34m)\u001b[0m \u001b[0;34m*\u001b[0m \u001b[0mnp\u001b[0m\u001b[0;34m.\u001b[0m\u001b[0mexp\u001b[0m\u001b[0;34m(\u001b[0m\u001b[0;34m-\u001b[0m\u001b[0;34m(\u001b[0m\u001b[0mbins\u001b[0m \u001b[0;34m-\u001b[0m \u001b[0mmedia\u001b[0m\u001b[0;34m)\u001b[0m\u001b[0;34m**\u001b[0m\u001b[0;36m2\u001b[0m\u001b[0;34m/\u001b[0m \u001b[0;34m(\u001b[0m\u001b[0;36m2\u001b[0m\u001b[0;34m*\u001b[0m\u001b[0mdesvio_padrao\u001b[0m\u001b[0;34m**\u001b[0m\u001b[0;36m2\u001b[0m\u001b[0;34m)\u001b[0m\u001b[0;34m)\u001b[0m\u001b[0;34m\u001b[0m\u001b[0;34m\u001b[0m\u001b[0m\n\u001b[0m",
            "\u001b[0;31mNameError\u001b[0m: name 'bins' is not defined"
          ]
        }
      ]
    },
    {
      "cell_type": "code",
      "source": [
        "import numpy as np\n",
        "import matplotlib.pyplot as plt\n",
        "\n",
        "mu = 0.5\n",
        "sigma = 0.1\n",
        "\n",
        "#Gerando distribuição normal com 1000 elementos\n",
        "normal_dist = np.random.normal(mu, sigma, 1000)\n",
        "\n",
        "#Graficando dados num histograma com n_bins\n",
        "n_bins = 20\n",
        "count, bins, ignored = plt.hist(normal_dist, n_bins, normed=True,color='red')\n",
        "\n",
        "#Calculando gaussiana através dos dados\n",
        "gaussiana = 1/(sigma*np.sqrt(2*np.pi))*np.exp(-(bins-mu)**2/(2*sigma**2))\n",
        "\n",
        "plt.plot(bins,gaussiana,linewidth=3, color='blue')\n",
        "plt.xlabel('Intervalo')\n",
        "plt.ylabel('Contagem')\n",
        "plt.title('Distribuição normal')\n",
        "\n",
        "plt.show()"
      ],
      "metadata": {
        "colab": {
          "base_uri": "https://localhost:8080/",
          "height": 793
        },
        "id": "KpCBjS_Bwpfs",
        "outputId": "5790c83c-0cc7-4d32-f764-f1f7d599fb48"
      },
      "execution_count": null,
      "outputs": [
        {
          "output_type": "error",
          "ename": "AttributeError",
          "evalue": "ignored",
          "traceback": [
            "\u001b[0;31m---------------------------------------------------------------------------\u001b[0m",
            "\u001b[0;31mAttributeError\u001b[0m                            Traceback (most recent call last)",
            "\u001b[0;32m<ipython-input-66-6a99184831d1>\u001b[0m in \u001b[0;36m<cell line: 12>\u001b[0;34m()\u001b[0m\n\u001b[1;32m     10\u001b[0m \u001b[0;31m#Graficando dados num histograma com n_bins\u001b[0m\u001b[0;34m\u001b[0m\u001b[0;34m\u001b[0m\u001b[0m\n\u001b[1;32m     11\u001b[0m \u001b[0mn_bins\u001b[0m \u001b[0;34m=\u001b[0m \u001b[0;36m20\u001b[0m\u001b[0;34m\u001b[0m\u001b[0;34m\u001b[0m\u001b[0m\n\u001b[0;32m---> 12\u001b[0;31m \u001b[0mcount\u001b[0m\u001b[0;34m,\u001b[0m \u001b[0mbins\u001b[0m\u001b[0;34m,\u001b[0m \u001b[0mignored\u001b[0m \u001b[0;34m=\u001b[0m \u001b[0mplt\u001b[0m\u001b[0;34m.\u001b[0m\u001b[0mhist\u001b[0m\u001b[0;34m(\u001b[0m\u001b[0mnormal_dist\u001b[0m\u001b[0;34m,\u001b[0m \u001b[0mn_bins\u001b[0m\u001b[0;34m,\u001b[0m \u001b[0mnormed\u001b[0m\u001b[0;34m=\u001b[0m\u001b[0;32mTrue\u001b[0m\u001b[0;34m,\u001b[0m\u001b[0mcolor\u001b[0m\u001b[0;34m=\u001b[0m\u001b[0;34m'red'\u001b[0m\u001b[0;34m)\u001b[0m\u001b[0;34m\u001b[0m\u001b[0;34m\u001b[0m\u001b[0m\n\u001b[0m\u001b[1;32m     13\u001b[0m \u001b[0;34m\u001b[0m\u001b[0m\n\u001b[1;32m     14\u001b[0m \u001b[0;31m#Calculando gaussiana através dos dados\u001b[0m\u001b[0;34m\u001b[0m\u001b[0;34m\u001b[0m\u001b[0m\n",
            "\u001b[0;32m/usr/local/lib/python3.9/dist-packages/matplotlib/pyplot.py\u001b[0m in \u001b[0;36mhist\u001b[0;34m(x, bins, range, density, weights, cumulative, bottom, histtype, align, orientation, rwidth, log, color, label, stacked, data, **kwargs)\u001b[0m\n\u001b[1;32m   2643\u001b[0m         \u001b[0morientation\u001b[0m\u001b[0;34m=\u001b[0m\u001b[0;34m'vertical'\u001b[0m\u001b[0;34m,\u001b[0m \u001b[0mrwidth\u001b[0m\u001b[0;34m=\u001b[0m\u001b[0;32mNone\u001b[0m\u001b[0;34m,\u001b[0m \u001b[0mlog\u001b[0m\u001b[0;34m=\u001b[0m\u001b[0;32mFalse\u001b[0m\u001b[0;34m,\u001b[0m \u001b[0mcolor\u001b[0m\u001b[0;34m=\u001b[0m\u001b[0;32mNone\u001b[0m\u001b[0;34m,\u001b[0m\u001b[0;34m\u001b[0m\u001b[0;34m\u001b[0m\u001b[0m\n\u001b[1;32m   2644\u001b[0m         label=None, stacked=False, *, data=None, **kwargs):\n\u001b[0;32m-> 2645\u001b[0;31m     return gca().hist(\n\u001b[0m\u001b[1;32m   2646\u001b[0m         \u001b[0mx\u001b[0m\u001b[0;34m,\u001b[0m \u001b[0mbins\u001b[0m\u001b[0;34m=\u001b[0m\u001b[0mbins\u001b[0m\u001b[0;34m,\u001b[0m \u001b[0mrange\u001b[0m\u001b[0;34m=\u001b[0m\u001b[0mrange\u001b[0m\u001b[0;34m,\u001b[0m \u001b[0mdensity\u001b[0m\u001b[0;34m=\u001b[0m\u001b[0mdensity\u001b[0m\u001b[0;34m,\u001b[0m \u001b[0mweights\u001b[0m\u001b[0;34m=\u001b[0m\u001b[0mweights\u001b[0m\u001b[0;34m,\u001b[0m\u001b[0;34m\u001b[0m\u001b[0;34m\u001b[0m\u001b[0m\n\u001b[1;32m   2647\u001b[0m         \u001b[0mcumulative\u001b[0m\u001b[0;34m=\u001b[0m\u001b[0mcumulative\u001b[0m\u001b[0;34m,\u001b[0m \u001b[0mbottom\u001b[0m\u001b[0;34m=\u001b[0m\u001b[0mbottom\u001b[0m\u001b[0;34m,\u001b[0m \u001b[0mhisttype\u001b[0m\u001b[0;34m=\u001b[0m\u001b[0mhisttype\u001b[0m\u001b[0;34m,\u001b[0m\u001b[0;34m\u001b[0m\u001b[0;34m\u001b[0m\u001b[0m\n",
            "\u001b[0;32m/usr/local/lib/python3.9/dist-packages/matplotlib/__init__.py\u001b[0m in \u001b[0;36minner\u001b[0;34m(ax, data, *args, **kwargs)\u001b[0m\n\u001b[1;32m   1440\u001b[0m     \u001b[0;32mdef\u001b[0m \u001b[0minner\u001b[0m\u001b[0;34m(\u001b[0m\u001b[0max\u001b[0m\u001b[0;34m,\u001b[0m \u001b[0;34m*\u001b[0m\u001b[0margs\u001b[0m\u001b[0;34m,\u001b[0m \u001b[0mdata\u001b[0m\u001b[0;34m=\u001b[0m\u001b[0;32mNone\u001b[0m\u001b[0;34m,\u001b[0m \u001b[0;34m**\u001b[0m\u001b[0mkwargs\u001b[0m\u001b[0;34m)\u001b[0m\u001b[0;34m:\u001b[0m\u001b[0;34m\u001b[0m\u001b[0;34m\u001b[0m\u001b[0m\n\u001b[1;32m   1441\u001b[0m         \u001b[0;32mif\u001b[0m \u001b[0mdata\u001b[0m \u001b[0;32mis\u001b[0m \u001b[0;32mNone\u001b[0m\u001b[0;34m:\u001b[0m\u001b[0;34m\u001b[0m\u001b[0;34m\u001b[0m\u001b[0m\n\u001b[0;32m-> 1442\u001b[0;31m             \u001b[0;32mreturn\u001b[0m \u001b[0mfunc\u001b[0m\u001b[0;34m(\u001b[0m\u001b[0max\u001b[0m\u001b[0;34m,\u001b[0m \u001b[0;34m*\u001b[0m\u001b[0mmap\u001b[0m\u001b[0;34m(\u001b[0m\u001b[0msanitize_sequence\u001b[0m\u001b[0;34m,\u001b[0m \u001b[0margs\u001b[0m\u001b[0;34m)\u001b[0m\u001b[0;34m,\u001b[0m \u001b[0;34m**\u001b[0m\u001b[0mkwargs\u001b[0m\u001b[0;34m)\u001b[0m\u001b[0;34m\u001b[0m\u001b[0;34m\u001b[0m\u001b[0m\n\u001b[0m\u001b[1;32m   1443\u001b[0m \u001b[0;34m\u001b[0m\u001b[0m\n\u001b[1;32m   1444\u001b[0m         \u001b[0mbound\u001b[0m \u001b[0;34m=\u001b[0m \u001b[0mnew_sig\u001b[0m\u001b[0;34m.\u001b[0m\u001b[0mbind\u001b[0m\u001b[0;34m(\u001b[0m\u001b[0max\u001b[0m\u001b[0;34m,\u001b[0m \u001b[0;34m*\u001b[0m\u001b[0margs\u001b[0m\u001b[0;34m,\u001b[0m \u001b[0;34m**\u001b[0m\u001b[0mkwargs\u001b[0m\u001b[0;34m)\u001b[0m\u001b[0;34m\u001b[0m\u001b[0;34m\u001b[0m\u001b[0m\n",
            "\u001b[0;32m/usr/local/lib/python3.9/dist-packages/matplotlib/axes/_axes.py\u001b[0m in \u001b[0;36mhist\u001b[0;34m(self, x, bins, range, density, weights, cumulative, bottom, histtype, align, orientation, rwidth, log, color, label, stacked, **kwargs)\u001b[0m\n\u001b[1;32m   6941\u001b[0m             \u001b[0;32mif\u001b[0m \u001b[0mpatch\u001b[0m\u001b[0;34m:\u001b[0m\u001b[0;34m\u001b[0m\u001b[0;34m\u001b[0m\u001b[0m\n\u001b[1;32m   6942\u001b[0m                 \u001b[0mp\u001b[0m \u001b[0;34m=\u001b[0m \u001b[0mpatch\u001b[0m\u001b[0;34m[\u001b[0m\u001b[0;36m0\u001b[0m\u001b[0;34m]\u001b[0m\u001b[0;34m\u001b[0m\u001b[0;34m\u001b[0m\u001b[0m\n\u001b[0;32m-> 6943\u001b[0;31m                 \u001b[0mp\u001b[0m\u001b[0;34m.\u001b[0m\u001b[0m_internal_update\u001b[0m\u001b[0;34m(\u001b[0m\u001b[0mkwargs\u001b[0m\u001b[0;34m)\u001b[0m\u001b[0;34m\u001b[0m\u001b[0;34m\u001b[0m\u001b[0m\n\u001b[0m\u001b[1;32m   6944\u001b[0m                 \u001b[0;32mif\u001b[0m \u001b[0mlbl\u001b[0m \u001b[0;32mis\u001b[0m \u001b[0;32mnot\u001b[0m \u001b[0;32mNone\u001b[0m\u001b[0;34m:\u001b[0m\u001b[0;34m\u001b[0m\u001b[0;34m\u001b[0m\u001b[0m\n\u001b[1;32m   6945\u001b[0m                     \u001b[0mp\u001b[0m\u001b[0;34m.\u001b[0m\u001b[0mset_label\u001b[0m\u001b[0;34m(\u001b[0m\u001b[0mlbl\u001b[0m\u001b[0;34m)\u001b[0m\u001b[0;34m\u001b[0m\u001b[0;34m\u001b[0m\u001b[0m\n",
            "\u001b[0;32m/usr/local/lib/python3.9/dist-packages/matplotlib/artist.py\u001b[0m in \u001b[0;36m_internal_update\u001b[0;34m(self, kwargs)\u001b[0m\n\u001b[1;32m   1221\u001b[0m         \u001b[0mThe\u001b[0m \u001b[0mlack\u001b[0m \u001b[0mof\u001b[0m \u001b[0mprenormalization\u001b[0m \u001b[0;32mis\u001b[0m \u001b[0mto\u001b[0m \u001b[0mmaintain\u001b[0m \u001b[0mbackcompatibility\u001b[0m\u001b[0;34m.\u001b[0m\u001b[0;34m\u001b[0m\u001b[0;34m\u001b[0m\u001b[0m\n\u001b[1;32m   1222\u001b[0m         \"\"\"\n\u001b[0;32m-> 1223\u001b[0;31m         return self._update_props(\n\u001b[0m\u001b[1;32m   1224\u001b[0m             \u001b[0mkwargs\u001b[0m\u001b[0;34m,\u001b[0m \u001b[0;34m\"{cls.__name__}.set() got an unexpected keyword argument \"\u001b[0m\u001b[0;34m\u001b[0m\u001b[0;34m\u001b[0m\u001b[0m\n\u001b[1;32m   1225\u001b[0m             \"{prop_name!r}\")\n",
            "\u001b[0;32m/usr/local/lib/python3.9/dist-packages/matplotlib/artist.py\u001b[0m in \u001b[0;36m_update_props\u001b[0;34m(self, props, errfmt)\u001b[0m\n\u001b[1;32m   1195\u001b[0m                     \u001b[0mfunc\u001b[0m \u001b[0;34m=\u001b[0m \u001b[0mgetattr\u001b[0m\u001b[0;34m(\u001b[0m\u001b[0mself\u001b[0m\u001b[0;34m,\u001b[0m \u001b[0;34mf\"set_{k}\"\u001b[0m\u001b[0;34m,\u001b[0m \u001b[0;32mNone\u001b[0m\u001b[0;34m)\u001b[0m\u001b[0;34m\u001b[0m\u001b[0;34m\u001b[0m\u001b[0m\n\u001b[1;32m   1196\u001b[0m                     \u001b[0;32mif\u001b[0m \u001b[0;32mnot\u001b[0m \u001b[0mcallable\u001b[0m\u001b[0;34m(\u001b[0m\u001b[0mfunc\u001b[0m\u001b[0;34m)\u001b[0m\u001b[0;34m:\u001b[0m\u001b[0;34m\u001b[0m\u001b[0;34m\u001b[0m\u001b[0m\n\u001b[0;32m-> 1197\u001b[0;31m                         raise AttributeError(\n\u001b[0m\u001b[1;32m   1198\u001b[0m                             errfmt.format(cls=type(self), prop_name=k))\n\u001b[1;32m   1199\u001b[0m                     \u001b[0mret\u001b[0m\u001b[0;34m.\u001b[0m\u001b[0mappend\u001b[0m\u001b[0;34m(\u001b[0m\u001b[0mfunc\u001b[0m\u001b[0;34m(\u001b[0m\u001b[0mv\u001b[0m\u001b[0;34m)\u001b[0m\u001b[0;34m)\u001b[0m\u001b[0;34m\u001b[0m\u001b[0;34m\u001b[0m\u001b[0m\n",
            "\u001b[0;31mAttributeError\u001b[0m: Rectangle.set() got an unexpected keyword argument 'normed'"
          ]
        },
        {
          "output_type": "display_data",
          "data": {
            "text/plain": [
              "<Figure size 640x480 with 1 Axes>"
            ],
            "image/png": "[encoded data removed]"
          },
          "metadata": {}
        }
      ]
    },
    {
      "cell_type": "code",
      "source": [],
      "metadata": {
        "id": "cxwg-fq6xcLz"
      },
      "execution_count": null,
      "outputs": []
    }
  ]
}