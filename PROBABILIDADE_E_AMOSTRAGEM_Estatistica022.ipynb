{
  "cells": [
    {
      "cell_type": "markdown",
      "metadata": {
        "id": "WvMflodMjQKe"
      },
      "source": [
        "***\n",
        "# <font color=green size=10>CURSO DE ESTATÍSTICA - PARTE 2</font>\n",
        "***"
      ]
    },
    {
      "cell_type": "markdown",
      "metadata": {
        "id": "cVgsZ_E3jQKg"
      },
      "source": [
        "# <font color=green>1 CONHECENDO OS DADOS</font>\n",
        "***"
      ]
    },
    {
      "cell_type": "markdown",
      "metadata": {
        "id": "TDjqYYNojQKh"
      },
      "source": [
        "## <font color=green>1.1 Dataset do projeto</font>\n",
        "***"
      ]
    },
    {
      "cell_type": "markdown",
      "metadata": {
        "id": "iN1gIbaKjQKh"
      },
      "source": [
        "### Pesquisa Nacional por Amostra de Domicílios - 2015\n",
        "\n",
        "A **Pesquisa Nacional por Amostra de Domicílios - PNAD** investiga anualmente, de forma permanente, características gerais da população, de educação, trabalho, rendimento e habitação e outras, com periodicidade variável, de acordo com as necessidades de informação para o país, como as características sobre migração, fecundidade, nupcialidade, saúde, segurança alimentar, entre outros temas. O levantamento dessas estatísticas constitui, ao longo dos 49 anos de realização da pesquisa, um importante instrumento para formulação, validação e avaliação de políticas orientadas para o desenvolvimento socioeconômico e a melhoria das condições de vida no Brasil."
      ]
    },
    {
      "cell_type": "markdown",
      "metadata": {
        "id": "U6V7br1RjQKi"
      },
      "source": [
        "### Fonte dos Dados\n",
        "\n",
        "https://ww2.ibge.gov.br/home/estatistica/populacao/trabalhoerendimento/pnad2015/microdados.shtm"
      ]
    },
    {
      "cell_type": "markdown",
      "metadata": {
        "id": "r0Fe_qnzjQKj"
      },
      "source": [
        "### Variáveis utilizadas\n",
        "\n",
        "> ### Renda\n",
        "> ***\n",
        "\n",
        "Rendimento mensal do trabalho principal para pessoas de 10 anos ou mais de idade.\n",
        "\n",
        "> ### Idade\n",
        "> ***\n",
        "\n",
        "Idade do morador na data de referência em anos.\n",
        "\n",
        "> ### Altura (elaboração própria)\n",
        "> ***\n",
        "\n",
        "Altura do morador em metros.\n",
        "\n",
        "> ### UF\n",
        "> ***\n",
        "\n",
        "|Código|Descrição|\n",
        "|---|---|\n",
        "|11|Rondônia|\n",
        "|12|Acre|\n",
        "|13|Amazonas|\n",
        "|14|Roraima|\n",
        "|15|Pará|\n",
        "|16|Amapá|\n",
        "|17|Tocantins|\n",
        "|21|Maranhão|\n",
        "|22|Piauí|\n",
        "|23|Ceará|\n",
        "|24|Rio Grande do Norte|\n",
        "|25|Paraíba|\n",
        "|26|Pernambuco|\n",
        "|27|Alagoas|\n",
        "|28|Sergipe|\n",
        "|29|Bahia|\n",
        "|31|Minas Gerais|\n",
        "|32|Espírito Santo|\n",
        "|33|Rio de Janeiro|\n",
        "|35|São Paulo|\n",
        "|41|Paraná|\n",
        "|42|Santa Catarina|\n",
        "|43|Rio Grande do Sul|\n",
        "|50|Mato Grosso do Sul|\n",
        "|51|Mato Grosso|\n",
        "|52|Goiás|\n",
        "|53|Distrito Federal|\n",
        "\n",
        "> ### Sexo\n",
        "> ***\n",
        "\n",
        "|Código|Descrição|\n",
        "|---|---|\n",
        "|0|Masculino|\n",
        "|1|Feminino|\n",
        "\n",
        "> ### Anos de Estudo\n",
        "> ***\n",
        "\n",
        "|Código|Descrição|\n",
        "|---|---|\n",
        "|1|Sem instrução e menos de 1 ano|\n",
        "|2|1 ano|\n",
        "|3|2 anos|\n",
        "|4|3 anos|\n",
        "|5|4 anos|\n",
        "|6|5 anos|\n",
        "|7|6 anos|\n",
        "|8|7 anos|\n",
        "|9|8 anos|\n",
        "|10|9 anos|\n",
        "|11|10 anos|\n",
        "|12|11 anos|\n",
        "|13|12 anos|\n",
        "|14|13 anos|\n",
        "|15|14 anos|\n",
        "|16|15 anos ou mais|\n",
        "|17|Não determinados|\n",
        "||Não aplicável|\n",
        "\n",
        "> ### Cor\n",
        "> ***\n",
        "\n",
        "|Código|Descrição|\n",
        "|---|---|\n",
        "|0|Indígena|\n",
        "|2|Branca|\n",
        "|4|Preta|\n",
        "|6|Amarela|\n",
        "|8|Parda|\n",
        "|9|Sem declaração|"
      ]
    },
    {
      "cell_type": "markdown",
      "metadata": {
        "id": "OK1IQH5cX7Gb"
      },
      "source": [
        "#### <font color='red'>Observação</font>\n",
        "***\n",
        "> Os seguintes tratamentos foram realizados nos dados originais:\n",
        "> 1. Foram eliminados os registros onde a **Renda** era inválida (999 999 999 999);\n",
        "> 2. Foram eliminados os registros onde a **Renda** era missing;\n",
        "> 3. Foram considerados somente os registros das **Pessoas de Referência** de cada domicílio (responsável pelo domicílio)."
      ]
    },
    {
      "cell_type": "markdown",
      "metadata": {
        "id": "8Rw70V6ojQKk"
      },
      "source": [
        "### Importando pandas e lendo o dataset do projeto\n",
        "\n",
        "https://pandas.pydata.org/"
      ]
    },
    {
      "cell_type": "code",
      "execution_count": null,
      "metadata": {
        "id": "8QgOpE-wjQKl"
      },
      "outputs": [],
      "source": [
        "import pandas as pd"
      ]
    },
    {
      "cell_type": "code",
      "execution_count": null,
      "metadata": {
        "id": "ufRZ7TLwjQKo"
      },
      "outputs": [],
      "source": [
        "dados = pd.read_csv('dados.csv')"
      ]
    },
    {
      "cell_type": "code",
      "execution_count": null,
      "metadata": {
        "colab": {
          "base_uri": "https://localhost:8080/",
          "height": 206
        },
        "id": "GsC_WhLFjQKq",
        "outputId": "1138872f-7c20-442c-dafa-556878f06b4e",
        "scrolled": true
      },
      "outputs": [
        {
          "output_type": "execute_result",
          "data": {
            "text/plain": [
              "   UF  Sexo  Idade  Cor  Anos de Estudo  Renda    Altura\n",
              "0  11     0     23    8              12    800  1.603808\n",
              "1  11     1     23    2              12   1150  1.739790\n",
              "2  11     1     35    8              15    880  1.760444\n",
              "3  11     0     46    2               6   3500  1.783158\n",
              "4  11     1     47    8               9    150  1.690631"
            ],
            "text/html": [
              "\n",
              "  <div id=\"df-8061d804-ee8e-4614-b13c-cc7058ff56ed\">\n",
              "    <div class=\"colab-df-container\">\n",
              "      <div>\n",
              "<style scoped>\n",
              "    .dataframe tbody tr th:only-of-type {\n",
              "        vertical-align: middle;\n",
              "    }\n",
              "\n",
              "    .dataframe tbody tr th {\n",
              "        vertical-align: top;\n",
              "    }\n",
              "\n",
              "    .dataframe thead th {\n",
              "        text-align: right;\n",
              "    }\n",
              "</style>\n",
              "<table border=\"1\" class=\"dataframe\">\n",
              "  <thead>\n",
              "    <tr style=\"text-align: right;\">\n",
              "      <th></th>\n",
              "      <th>UF</th>\n",
              "      <th>Sexo</th>\n",
              "      <th>Idade</th>\n",
              "      <th>Cor</th>\n",
              "      <th>Anos de Estudo</th>\n",
              "      <th>Renda</th>\n",
              "      <th>Altura</th>\n",
              "    </tr>\n",
              "  </thead>\n",
              "  <tbody>\n",
              "    <tr>\n",
              "      <th>0</th>\n",
              "      <td>11</td>\n",
              "      <td>0</td>\n",
              "      <td>23</td>\n",
              "      <td>8</td>\n",
              "      <td>12</td>\n",
              "      <td>800</td>\n",
              "      <td>1.603808</td>\n",
              "    </tr>\n",
              "    <tr>\n",
              "      <th>1</th>\n",
              "      <td>11</td>\n",
              "      <td>1</td>\n",
              "      <td>23</td>\n",
              "      <td>2</td>\n",
              "      <td>12</td>\n",
              "      <td>1150</td>\n",
              "      <td>1.739790</td>\n",
              "    </tr>\n",
              "    <tr>\n",
              "      <th>2</th>\n",
              "      <td>11</td>\n",
              "      <td>1</td>\n",
              "      <td>35</td>\n",
              "      <td>8</td>\n",
              "      <td>15</td>\n",
              "      <td>880</td>\n",
              "      <td>1.760444</td>\n",
              "    </tr>\n",
              "    <tr>\n",
              "      <th>3</th>\n",
              "      <td>11</td>\n",
              "      <td>0</td>\n",
              "      <td>46</td>\n",
              "      <td>2</td>\n",
              "      <td>6</td>\n",
              "      <td>3500</td>\n",
              "      <td>1.783158</td>\n",
              "    </tr>\n",
              "    <tr>\n",
              "      <th>4</th>\n",
              "      <td>11</td>\n",
              "      <td>1</td>\n",
              "      <td>47</td>\n",
              "      <td>8</td>\n",
              "      <td>9</td>\n",
              "      <td>150</td>\n",
              "      <td>1.690631</td>\n",
              "    </tr>\n",
              "  </tbody>\n",
              "</table>\n",
              "</div>\n",
              "      <button class=\"colab-df-convert\" onclick=\"convertToInteractive('df-8061d804-ee8e-4614-b13c-cc7058ff56ed')\"\n",
              "              title=\"Convert this dataframe to an interactive table.\"\n",
              "              style=\"display:none;\">\n",
              "        \n",
              "  <svg xmlns=\"http://www.w3.org/2000/svg\" height=\"24px\"viewBox=\"0 0 24 24\"\n",
              "       width=\"24px\">\n",
              "    <path d=\"M0 0h24v24H0V0z\" fill=\"none\"/>\n",
              "    <path d=\"M18.56 5.44l.94 2.06.94-2.06 2.06-.94-2.06-.94-.94-2.06-.94 2.06-2.06.94zm-11 1L8.5 8.5l.94-2.06 2.06-.94-2.06-.94L8.5 2.5l-.94 2.06-2.06.94zm10 10l.94 2.06.94-2.06 2.06-.94-2.06-.94-.94-2.06-.94 2.06-2.06.94z\"/><path d=\"M17.41 7.96l-1.37-1.37c-.4-.4-.92-.59-1.43-.59-.52 0-1.04.2-1.43.59L10.3 9.45l-7.72 7.72c-.78.78-.78 2.05 0 2.83L4 21.41c.39.39.9.59 1.41.59.51 0 1.02-.2 1.41-.59l7.78-7.78 2.81-2.81c.8-.78.8-2.07 0-2.86zM5.41 20L4 18.59l7.72-7.72 1.47 1.35L5.41 20z\"/>\n",
              "  </svg>\n",
              "      </button>\n",
              "      \n",
              "  <style>\n",
              "    .colab-df-container {\n",
              "      display:flex;\n",
              "      flex-wrap:wrap;\n",
              "      gap: 12px;\n",
              "    }\n",
              "\n",
              "    .colab-df-convert {\n",
              "      background-color: #E8F0FE;\n",
              "      border: none;\n",
              "      border-radius: 50%;\n",
              "      cursor: pointer;\n",
              "      display: none;\n",
              "      fill: #1967D2;\n",
              "      height: 32px;\n",
              "      padding: 0 0 0 0;\n",
              "      width: 32px;\n",
              "    }\n",
              "\n",
              "    .colab-df-convert:hover {\n",
              "      background-color: #E2EBFA;\n",
              "      box-shadow: 0px 1px 2px rgba(60, 64, 67, 0.3), 0px 1px 3px 1px rgba(60, 64, 67, 0.15);\n",
              "      fill: #174EA6;\n",
              "    }\n",
              "\n",
              "    [theme=dark] .colab-df-convert {\n",
              "      background-color: #3B4455;\n",
              "      fill: #D2E3FC;\n",
              "    }\n",
              "\n",
              "    [theme=dark] .colab-df-convert:hover {\n",
              "      background-color: #434B5C;\n",
              "      box-shadow: 0px 1px 3px 1px rgba(0, 0, 0, 0.15);\n",
              "      filter: drop-shadow(0px 1px 2px rgba(0, 0, 0, 0.3));\n",
              "      fill: #FFFFFF;\n",
              "    }\n",
              "  </style>\n",
              "\n",
              "      <script>\n",
              "        const buttonEl =\n",
              "          document.querySelector('#df-8061d804-ee8e-4614-b13c-cc7058ff56ed button.colab-df-convert');\n",
              "        buttonEl.style.display =\n",
              "          google.colab.kernel.accessAllowed ? 'block' : 'none';\n",
              "\n",
              "        async function convertToInteractive(key) {\n",
              "          const element = document.querySelector('#df-8061d804-ee8e-4614-b13c-cc7058ff56ed');\n",
              "          const dataTable =\n",
              "            await google.colab.kernel.invokeFunction('convertToInteractive',\n",
              "                                                     [key], {});\n",
              "          if (!dataTable) return;\n",
              "\n",
              "          const docLinkHtml = 'Like what you see? Visit the ' +\n",
              "            '<a target=\"_blank\" href=https://colab.research.google.com/notebooks/data_table.ipynb>data table notebook</a>'\n",
              "            + ' to learn more about interactive tables.';\n",
              "          element.innerHTML = '';\n",
              "          dataTable['output_type'] = 'display_data';\n",
              "          await google.colab.output.renderOutput(dataTable, element);\n",
              "          const docLink = document.createElement('div');\n",
              "          docLink.innerHTML = docLinkHtml;\n",
              "          element.appendChild(docLink);\n",
              "        }\n",
              "      </script>\n",
              "    </div>\n",
              "  </div>\n",
              "  "
            ]
          },
          "metadata": {},
          "execution_count": 3
        }
      ],
      "source": [
        "dados.head()"
      ]
    },
    {
      "cell_type": "markdown",
      "metadata": {
        "id": "-z3bLQIUG3Hv"
      },
      "source": [
        "---\n",
        "---"
      ]
    },
    {
      "cell_type": "markdown",
      "metadata": {
        "id": "tL9xVLwTX07g"
      },
      "source": [
        "# <font color=green>2 DISTRIBUIÇÕES DE PROBABILIDADE</font>\n",
        "***"
      ]
    },
    {
      "cell_type": "markdown",
      "metadata": {
        "id": "3nlvC-5qG3Bj"
      },
      "source": [
        "## <font color=red>Problema</font>\n",
        "***"
      ]
    },
    {
      "cell_type": "markdown",
      "metadata": {
        "id": "8CclIz9oG3Bk"
      },
      "source": [
        "Em um concurso para preencher uma vaga de cientista de dados temos um total de **10 questões** de múltipla escolha com **3 alternativas possíveis** em cada questão. **Cada questão tem o mesmo valor.** Suponha que um candidato resolva se aventurar sem ter estudado absolutamente nada. Ele resolve fazer a prova de olhos vendados e chutar todas as resposta. Assumindo que a prova **vale 10 pontos e a nota de corte seja 5**, obtenha a probabilidade deste candidato **acertar 5 questões** e também a probabilidade deste candidato **passar para a próxima etapa do processo seletivo**."
      ]
    },
    {
      "cell_type": "markdown",
      "metadata": {
        "id": "KJxd2KFSYLML"
      },
      "source": [
        "## <font color=green>2.1 Distribuição Binomial</font>\n",
        "***"
      ]
    },
    {
      "cell_type": "markdown",
      "metadata": {
        "id": "mcbl3KbnG3Bq"
      },
      "source": [
        "Um evento **binomial** é caracterizado pela possibilidade de ocorrência de apenas duas categorias. Estas categorias somadas representam todo o espaço amostral, sendo também mutuamente excludentes, ou seja, a ocorrência de uma implica na não ocorrência da outra.\n",
        "\n",
        "Em análises estatísticas o uso mais comum da distribuição binomial é na solução de problemas que envolvem situações de **sucesso** e **fracasso**."
      ]
    },
    {
      "cell_type": "markdown",
      "metadata": {
        "id": "iLoYAuJ9G3Bs"
      },
      "source": [
        "# $$P(k)=\\binom{n}{k} p^k q^{n-k}$$\n",
        "\n",
        "Onde:\n",
        "\n",
        "$p$ = probabilidade de sucesso\n",
        "\n",
        "$q = (1 - p)$ = probabilidade de fracasso\n",
        "\n",
        "$n$ = número de eventos estudados\n",
        "\n",
        "$k$ = número de eventos desejados que tenham sucesso"
      ]
    },
    {
      "cell_type": "markdown",
      "metadata": {
        "id": "PxEgWbFdG3Bt"
      },
      "source": [
        "### Experimento Binomial"
      ]
    },
    {
      "cell_type": "markdown",
      "metadata": {
        "id": "eqQK3Ny-G3Bv"
      },
      "source": [
        "1. Realização de $n$ ensaios idênticos.\n",
        "\n",
        "2. Os ensaios são independentes.\n",
        "\n",
        "3. Somente dois resultados são possíveis, exemplo: Verdadeiro ou falso; Cara ou coroa; Sucesso ou fracasso.\n",
        "\n",
        "4. A probabilidade de sucesso é representada por $p$ e a de fracasso por $1-p=q$. Estas probabilidades não se modificam de ensaio para ensaio."
      ]
    },
    {
      "cell_type": "markdown",
      "metadata": {
        "id": "mT77udQ0G3Bx"
      },
      "source": [
        "### Média da distribuição binomial"
      ]
    },
    {
      "cell_type": "markdown",
      "metadata": {
        "id": "EGiuemgqG3By"
      },
      "source": [
        "O valor esperado ou a média da distribuição binomial é igual ao número de experimentos realizados multiplicado pela chance de ocorrência do evento.\n",
        "\n",
        "# $$\\mu = n \\times p$$"
      ]
    },
    {
      "cell_type": "markdown",
      "metadata": {
        "id": "1fDLi96OG3Bz"
      },
      "source": [
        "### Desvio padrão da distribuição binomial"
      ]
    },
    {
      "cell_type": "markdown",
      "metadata": {
        "id": "EZojizotG3B1"
      },
      "source": [
        "O desvio padrão é o produto entre o número de experimentos, a probabilidade de sucesso e a probabilidade de fracasso.\n",
        "\n",
        "# $$\\sigma = \\sqrt{n \\times p \\times q}$$"
      ]
    },
    {
      "cell_type": "markdown",
      "metadata": {
        "id": "udqnjFnsG3B2"
      },
      "source": [
        "### Importando bibliotecas\n",
        "https://docs.scipy.org/doc/scipy/reference/generated/scipy.special.comb.html"
      ]
    },
    {
      "cell_type": "code",
      "execution_count": null,
      "metadata": {
        "id": "-U2sGssNG3B4"
      },
      "outputs": [],
      "source": [
        "from scipy.special import comb"
      ]
    },
    {
      "cell_type": "markdown",
      "metadata": {
        "id": "MxxuJNSwG3B7"
      },
      "source": [
        "### Combinações\n",
        "\n",
        "Número de combinações de $n$ objetos, tomados $k$ a cada vez, é:\n",
        "\n",
        "# $$C_{k}^{n} = \\binom{n}{k} = \\frac{n!}{k!(n - k)!}$$\n",
        "\n",
        "Onde\n",
        "\n",
        "## $$n! = n\\times(n-1)\\times(n-2)\\times...\\times(2)\\times(1)$$\n",
        "## $$k! = k\\times(k-1)\\times(k-2)\\times...\\times(2)\\times(1)$$\n",
        "\n",
        "Por definição\n",
        "\n",
        "## $$0! = 1$$"
      ]
    },
    {
      "cell_type": "markdown",
      "metadata": {
        "id": "Udz87Pq3G3B8"
      },
      "source": [
        "## <font color='blue'>Exemplo: Mega Sena</font>"
      ]
    },
    {
      "cell_type": "markdown",
      "metadata": {
        "id": "h1Mo9AxyG3B8"
      },
      "source": [
        "Em um volante de loteria da Mega Sena temos um total de **60 números** para escolher onde a aposta mínima é de **seis números**. Você que é curiosa(o) resolve calcular a probabilidade de se acertar na Mega Sena com apenas **um jogo**. Para isso precisamos saber quantas **combinações de seis números podem ser formadas com os 60 números disponíveis**.\n",
        "\n",
        "### $$C_{6}^{60} = \\binom{60}{6} = \\frac{60!}{6!(60 - 6)!}$$"
      ]
    },
    {
      "cell_type": "code",
      "execution_count": null,
      "metadata": {
        "colab": {
          "base_uri": "https://localhost:8080/"
        },
        "id": "c2t7yHl7G3B9",
        "outputId": "3e39f776-4868-4759-89f0-5d968d9f26b3"
      },
      "outputs": [
        {
          "output_type": "execute_result",
          "data": {
            "text/plain": [
              "50063860.0"
            ]
          },
          "metadata": {},
          "execution_count": 5
        }
      ],
      "source": [
        "combinacoes = comb (60, 6)\n",
        "combinacoes"
      ]
    },
    {
      "cell_type": "code",
      "execution_count": null,
      "metadata": {
        "colab": {
          "base_uri": "https://localhost:8080/"
        },
        "id": "LpioeTSXG3CB",
        "outputId": "a4183fd8-2a8d-45a5-8f04-28f925620a07"
      },
      "outputs": [
        {
          "output_type": "stream",
          "name": "stdout",
          "text": [
            "0.000000019974489\n"
          ]
        }
      ],
      "source": [
        "probabilidade = 1 / combinacoes\n",
        "print('%0.15f' % probabilidade)\n",
        "# Como será um valor muito pequeno, formataremos o retorno com print() recebendo '%0.15f' entre aspas simples\n",
        "# para quinze casas decimais seguido de % e probabilidade para plotarmos em percentual."
      ]
    },
    {
      "cell_type": "code",
      "source": [
        "## Exercicio\n",
        "# Suponha que acabamos de criar um jogo de loteria, chamado Show de prêmios da Alura. Neste nosso novo jogo,\n",
        "# o apostador marca 20 números, dentre os 25 disponíveis no bilhete, e pode ganhar até 1 milhão de reais.\n",
        "\n",
        "# Determine qual o número de combinações possíveis (espaço amostral) e a probabilidade de se ganhar o prêmio jogando\n",
        "# apenas um bilhete (considere apenas quinze casas decimais)."
      ],
      "metadata": {
        "id": "GQkgy8MFWSv0"
      },
      "execution_count": null,
      "outputs": []
    },
    {
      "cell_type": "code",
      "source": [
        "combinacoes_1 = comb (25, 20)\n",
        "combinacoes_1"
      ],
      "metadata": {
        "colab": {
          "base_uri": "https://localhost:8080/"
        },
        "id": "INhYCqSvWSc0",
        "outputId": "fdfa3ed4-9b48-4440-89b4-fc6a2c0a0605"
      },
      "execution_count": null,
      "outputs": [
        {
          "output_type": "execute_result",
          "data": {
            "text/plain": [
              "53130.0"
            ]
          },
          "metadata": {},
          "execution_count": 8
        }
      ]
    },
    {
      "cell_type": "code",
      "source": [
        "probabilidade_1 = 1 / combinacoes_1\n",
        "print('Combinações = %d e Probabilidade = %0.15f' % (combinacoes_1, probabilidade_1))"
      ],
      "metadata": {
        "colab": {
          "base_uri": "https://localhost:8080/"
        },
        "id": "8prvAEpGWVoq",
        "outputId": "5e406ecd-c5af-493a-c4c4-432dec6501dd"
      },
      "execution_count": null,
      "outputs": [
        {
          "output_type": "stream",
          "name": "stdout",
          "text": [
            "Combinações = 53130 e Probabilidade = 0.000018821757952\n"
          ]
        }
      ]
    },
    {
      "cell_type": "code",
      "source": [
        "# Exercicio"
      ],
      "metadata": {
        "id": "M5vDAeWXkZ8j"
      },
      "execution_count": null,
      "outputs": []
    },
    {
      "cell_type": "code",
      "source": [
        "# Um dado, perfeitamente equilibrado, é lançado para o alto dez vezes. Utilizando a distribuição binomial, obtenha\n",
        "# a probabilidade de o dado cair com o número cinco voltado para cima pelo menos três vezes."
      ],
      "metadata": {
        "id": "CpUaAoV4k95C"
      },
      "execution_count": null,
      "outputs": []
    },
    {
      "cell_type": "code",
      "source": [
        "from scipy.stats import binom\n",
        "\n",
        "p = 1 / 6   # Probabilidade de sair o número CINCO\n",
        "n = 10      # Total de lançamentos\n",
        "\n",
        "print(\"{0:.2%}\".format(binom.sf(2, n, p)))"
      ],
      "metadata": {
        "colab": {
          "base_uri": "https://localhost:8080/"
        },
        "id": "BwXoB320lF6S",
        "outputId": "4f7984f0-f981-4ddf-bb66-b9a3efc7faaa"
      },
      "execution_count": null,
      "outputs": [
        {
          "output_type": "stream",
          "name": "stdout",
          "text": [
            "22.48%\n"
          ]
        }
      ]
    },
    {
      "cell_type": "code",
      "source": [
        "from scipy.stats import binom\n",
        "\n",
        "p = 1 / 2  # Probabilidade de sair COROA\n",
        "n = 4      # Total de lançamentos\n",
        "k = 2      # Total de sucessos (faces COROA voltada para cima)\n",
        "\n",
        "binom.pmf(k, n, p)"
      ],
      "metadata": {
        "colab": {
          "base_uri": "https://localhost:8080/"
        },
        "id": "LYJNHqzhkZoE",
        "outputId": "f55b6da3-e76b-4b4c-8830-34ebda53f401"
      },
      "execution_count": null,
      "outputs": [
        {
          "output_type": "execute_result",
          "data": {
            "text/plain": [
              "0.375"
            ]
          },
          "metadata": {},
          "execution_count": 13
        }
      ]
    },
    {
      "cell_type": "markdown",
      "metadata": {
        "id": "t1rA1yJpG3CF"
      },
      "source": [
        "## <font color='blue'>Exemplo: Concurso para cientista de dados</font>"
      ]
    },
    {
      "cell_type": "markdown",
      "metadata": {
        "id": "K0DPDD37G3CG"
      },
      "source": [
        "Em um concurso para preencher uma vaga de cientista de dados temos um total de **10 questões** de múltipla escolha com **3 alternativas possíveis** em cada questão. **Cada questão tem o mesmo valor.** Suponha que um candidato resolva se aventurar sem ter estudado absolutamente nada. Ele resolve fazer a prova de olhos vendados e chutar todas as resposta. Assumindo que a prova **vale 10 pontos e a nota de corte seja 5**, obtenha a probabilidade deste candidato **acertar 5 questões** e também a probabilidade deste candidato **passar para a próxima etapa do processo seletivo**."
      ]
    },
    {
      "cell_type": "markdown",
      "metadata": {
        "id": "sf-NMPfxG3CH"
      },
      "source": [
        "### Qual o número de ensaios ($n$)?"
      ]
    },
    {
      "cell_type": "code",
      "execution_count": null,
      "metadata": {
        "colab": {
          "base_uri": "https://localhost:8080/"
        },
        "id": "WmnjMTnYG3CH",
        "outputId": "4f0ddd25-b501-4c47-844c-4756a97eadbc"
      },
      "outputs": [
        {
          "output_type": "execute_result",
          "data": {
            "text/plain": [
              "10"
            ]
          },
          "metadata": {},
          "execution_count": 14
        }
      ],
      "source": [
        "n = 10\n",
        "n"
      ]
    },
    {
      "cell_type": "markdown",
      "metadata": {
        "id": "1USf9Ro8G3CK"
      },
      "source": [
        "### Os ensaios são independentes?"
      ]
    },
    {
      "cell_type": "markdown",
      "metadata": {
        "id": "82xf2XIkG3CM"
      },
      "source": [
        "Sim. A opção escolhida em uma questão não influencia em nada a opção escolhida em outra questão."
      ]
    },
    {
      "cell_type": "markdown",
      "metadata": {
        "id": "7jN0H5e7G3CN"
      },
      "source": [
        "### Somente dois resultados são possíveis em cada ensaio?"
      ]
    },
    {
      "cell_type": "markdown",
      "metadata": {
        "id": "gGxcY7K8G3CO"
      },
      "source": [
        "Sim. O candidato tem duas possibilidades, ACERTA ou ERRAR uma questão."
      ]
    },
    {
      "cell_type": "markdown",
      "metadata": {
        "id": "MZw2LDQjG3CR"
      },
      "source": [
        "### Qual a probabilidade de sucesso ($p$)?"
      ]
    },
    {
      "cell_type": "code",
      "execution_count": null,
      "metadata": {
        "colab": {
          "base_uri": "https://localhost:8080/"
        },
        "id": "AazGDtt0G3CS",
        "outputId": "a91fffd4-8c4c-40de-b5ea-083b6147c682"
      },
      "outputs": [
        {
          "output_type": "execute_result",
          "data": {
            "text/plain": [
              "0.3333333333333333"
            ]
          },
          "metadata": {},
          "execution_count": 15
        }
      ],
      "source": [
        "numero_de_alternativas_por_questao = 3\n",
        "p = 1 / numero_de_alternativas_por_questao\n",
        "p"
      ]
    },
    {
      "cell_type": "markdown",
      "metadata": {
        "id": "KPCw41OlG3CX"
      },
      "source": [
        "### Qual a probabilidade de fracasso ($q$)?"
      ]
    },
    {
      "cell_type": "code",
      "execution_count": null,
      "metadata": {
        "colab": {
          "base_uri": "https://localhost:8080/"
        },
        "id": "FRhmjCnpG3CZ",
        "outputId": "74061a2d-bf00-4058-f1e0-8931b9dddb18"
      },
      "outputs": [
        {
          "output_type": "execute_result",
          "data": {
            "text/plain": [
              "0.6666666666666667"
            ]
          },
          "metadata": {},
          "execution_count": 16
        }
      ],
      "source": [
        "q = 1 - p\n",
        "q"
      ]
    },
    {
      "cell_type": "markdown",
      "metadata": {
        "id": "W2htpmzaG3Ce"
      },
      "source": [
        "### Qual o total de eventos que se deseja obter sucesso ($k$)?"
      ]
    },
    {
      "cell_type": "code",
      "execution_count": null,
      "metadata": {
        "colab": {
          "base_uri": "https://localhost:8080/"
        },
        "id": "MmHpiIIuG3Cj",
        "outputId": "bf09647e-c491-43e5-bf64-a6e39d919662"
      },
      "outputs": [
        {
          "output_type": "execute_result",
          "data": {
            "text/plain": [
              "5"
            ]
          },
          "metadata": {},
          "execution_count": 17
        }
      ],
      "source": [
        "k = 5\n",
        "k"
      ]
    },
    {
      "cell_type": "markdown",
      "metadata": {
        "id": "r8TZ6DSuG3Cm"
      },
      "source": [
        "### Solução 1"
      ]
    },
    {
      "cell_type": "code",
      "execution_count": null,
      "metadata": {
        "colab": {
          "base_uri": "https://localhost:8080/"
        },
        "id": "tZBbMIzKG3Cn",
        "outputId": "16a1ca90-c95b-42ea-bcd3-7ad473daa49b"
      },
      "outputs": [
        {
          "output_type": "stream",
          "name": "stdout",
          "text": [
            "0.13656455\n"
          ]
        }
      ],
      "source": [
        "probabilidade = (comb(n, k) * (p**k) * (q ** (n - k)))\n",
        "print('%0.8f' % probabilidade)"
      ]
    },
    {
      "cell_type": "markdown",
      "metadata": {
        "id": "rDwUvW5UG3Cq"
      },
      "source": [
        "### Importando bibliotecas\n",
        "https://docs.scipy.org/doc/scipy/reference/generated/scipy.stats.binom.html"
      ]
    },
    {
      "cell_type": "code",
      "execution_count": null,
      "metadata": {
        "id": "rhlsI3iLG3Cr"
      },
      "outputs": [],
      "source": [
        "from scipy.stats import binom"
      ]
    },
    {
      "cell_type": "markdown",
      "metadata": {
        "id": "hvj2sYaSG3Ct"
      },
      "source": [
        "### Solução 2"
      ]
    },
    {
      "cell_type": "code",
      "execution_count": null,
      "metadata": {
        "colab": {
          "base_uri": "https://localhost:8080/"
        },
        "id": "OjS1xsz5G3Cu",
        "outputId": "5d7244bb-420f-4e61-dbbb-960ac6b3c029"
      },
      "outputs": [
        {
          "output_type": "stream",
          "name": "stdout",
          "text": [
            "0.13656455\n"
          ]
        }
      ],
      "source": [
        "protabilidade = binom.pmf(k, n, p)\n",
        "print('%0.8f' % probabilidade)"
      ]
    },
    {
      "cell_type": "markdown",
      "metadata": {
        "id": "5XmnPzpkMeAw"
      },
      "source": [
        "### Obter a probabilidade do candidato passar"
      ]
    },
    {
      "cell_type": "markdown",
      "metadata": {
        "id": "Nv2goNOeMeAw"
      },
      "source": [
        "### $$P(acertar \\geq 5) = P(5) + P(6) + P(7) + P(8) + P(9) + P10)$$"
      ]
    },
    {
      "cell_type": "code",
      "execution_count": null,
      "metadata": {
        "colab": {
          "base_uri": "https://localhost:8080/"
        },
        "id": "W-ONOaJyMeAx",
        "outputId": "66cecd96-eb4b-4610-fcc9-fd34c127c453"
      },
      "outputs": [
        {
          "output_type": "execute_result",
          "data": {
            "text/plain": [
              "0.21312808006909492"
            ]
          },
          "metadata": {},
          "execution_count": 21
        }
      ],
      "source": [
        "binom.pmf(5, n, p) + binom.pmf(6, n, p) + binom.pmf(7, n, p) + binom.pmf(8, n, p) + binom.pmf(9, n, p) + binom.pmf(10, n, p)"
      ]
    },
    {
      "cell_type": "code",
      "execution_count": null,
      "metadata": {
        "colab": {
          "base_uri": "https://localhost:8080/"
        },
        "id": "t7vU7HrpMeAx",
        "outputId": "591a9a19-7bf3-46b3-8018-a26ee4320d14"
      },
      "outputs": [
        {
          "output_type": "execute_result",
          "data": {
            "text/plain": [
              "0.21312808006909492"
            ]
          },
          "metadata": {},
          "execution_count": 22
        }
      ],
      "source": [
        "binom.pmf([5, 6, 7, 8, 9, 10], n, p).sum()"
      ]
    },
    {
      "cell_type": "code",
      "execution_count": null,
      "metadata": {
        "colab": {
          "base_uri": "https://localhost:8080/"
        },
        "id": "wYUR8oZmMeAx",
        "outputId": "66c31a65-f16a-4fb0-a706-0635704a7249"
      },
      "outputs": [
        {
          "output_type": "execute_result",
          "data": {
            "text/plain": [
              "0.21312808006909523"
            ]
          },
          "metadata": {},
          "execution_count": 23
        }
      ],
      "source": [
        "1 - binom.cdf(4, n, p)"
      ]
    },
    {
      "cell_type": "code",
      "execution_count": null,
      "metadata": {
        "colab": {
          "base_uri": "https://localhost:8080/"
        },
        "id": "LFJ7pAA4MeAy",
        "outputId": "52dd4025-b0ab-41aa-a7af-cf1533c28987"
      },
      "outputs": [
        {
          "output_type": "execute_result",
          "data": {
            "text/plain": [
              "0.21312808006909525"
            ]
          },
          "metadata": {},
          "execution_count": 24
        }
      ],
      "source": [
        "binom.sf(4, n, p)"
      ]
    },
    {
      "cell_type": "markdown",
      "metadata": {
        "id": "7hAZ4XkMG3Cx"
      },
      "source": [
        "## <font color='blue'>Exemplo: Gincana</font>"
      ]
    },
    {
      "cell_type": "markdown",
      "metadata": {
        "id": "l42alRhOG3Cy"
      },
      "source": [
        "Uma cidade do interior realiza todos os anos uma gincana para arrecadar fundos para o hospital da cidade. Na última gincana se sabe que a **proporção de participantes do sexo feminino foi de 60%**. **O total de equipes, com 12 integrantes, inscritas na gincana deste ano é de 30**. Com as informações acima responda: Quantas equipes deverão ser formadas por **8 mulheres**?"
      ]
    },
    {
      "cell_type": "markdown",
      "metadata": {
        "id": "dqBGf6d7G3C0"
      },
      "source": [
        "### Solução"
      ]
    },
    {
      "cell_type": "code",
      "execution_count": null,
      "metadata": {
        "colab": {
          "base_uri": "https://localhost:8080/"
        },
        "id": "Xw9b6ch3G3C1",
        "outputId": "1fc515b3-0ce6-4217-b2eb-0b955e205221"
      },
      "outputs": [
        {
          "output_type": "execute_result",
          "data": {
            "text/plain": [
              "0.6"
            ]
          },
          "metadata": {},
          "execution_count": 25
        }
      ],
      "source": [
        "p = 0.6\n",
        "p"
      ]
    },
    {
      "cell_type": "code",
      "execution_count": null,
      "metadata": {
        "id": "R3-RaxP5G3C3"
      },
      "outputs": [],
      "source": [
        "n = 12"
      ]
    },
    {
      "cell_type": "code",
      "execution_count": null,
      "metadata": {
        "colab": {
          "base_uri": "https://localhost:8080/"
        },
        "id": "otBHHyD0G3C6",
        "outputId": "90eb127b-d7d9-4c2c-f5ec-72daefd2b0db"
      },
      "outputs": [
        {
          "output_type": "execute_result",
          "data": {
            "text/plain": [
              "8"
            ]
          },
          "metadata": {},
          "execution_count": 27
        }
      ],
      "source": [
        "k = 8\n",
        "k"
      ]
    },
    {
      "cell_type": "code",
      "execution_count": null,
      "metadata": {
        "colab": {
          "base_uri": "https://localhost:8080/"
        },
        "id": "ZAoBvbQqG3C9",
        "outputId": "a355e1a0-ee9f-4e0d-c859-9ca1f303e06f"
      },
      "outputs": [
        {
          "output_type": "stream",
          "name": "stdout",
          "text": [
            "0.21284094\n"
          ]
        }
      ],
      "source": [
        "probabilidade = binom.pmf(k, n, p)\n",
        "print('%0.8f' % probabilidade)"
      ]
    },
    {
      "cell_type": "code",
      "execution_count": null,
      "metadata": {
        "colab": {
          "base_uri": "https://localhost:8080/"
        },
        "id": "Tg53uGL4G3DA",
        "outputId": "a31081b3-f45a-4285-e2b3-8eebd55ff8b7"
      },
      "outputs": [
        {
          "output_type": "execute_result",
          "data": {
            "text/plain": [
              "8.327859742603948"
            ]
          },
          "metadata": {},
          "execution_count": 201
        }
      ],
      "source": [
        "equipes = 30 * probabilidade\n",
        "equipes"
      ]
    },
    {
      "cell_type": "code",
      "source": [
        "# Exercicio\n",
        "# Suponha que a probabilidade de um casal ter filhos com olhos azuis seja de 22%. Em 50 famílias, com 3 crianças\n",
        "# cada uma, quantas podemos esperar que tenham dois filhos com olhos azuis?"
      ],
      "metadata": {
        "id": "JoI7d5Osoput"
      },
      "execution_count": null,
      "outputs": []
    },
    {
      "cell_type": "code",
      "source": [
        "from scipy.stats import binom\n",
        "\n",
        "p = 0.22\n",
        "n = 3\n",
        "k = 2\n",
        "N = 50\n",
        "\n",
        "probabilidade = binom.pmf(k, n, p)\n",
        "\n",
        "media = probabilidade * N"
      ],
      "metadata": {
        "id": "yeUe4rs-opYz"
      },
      "execution_count": null,
      "outputs": []
    },
    {
      "cell_type": "code",
      "source": [
        "media\n"
      ],
      "metadata": {
        "colab": {
          "base_uri": "https://localhost:8080/"
        },
        "id": "WaO5-iSfp4zC",
        "outputId": "a877821e-ad00-4b64-a54f-fe572648cba3"
      },
      "execution_count": null,
      "outputs": [
        {
          "output_type": "execute_result",
          "data": {
            "text/plain": [
              "5.662799999999996"
            ]
          },
          "metadata": {},
          "execution_count": 32
        }
      ]
    },
    {
      "cell_type": "markdown",
      "metadata": {
        "id": "49TiCQRvG3DC"
      },
      "source": [
        "---\n",
        "---"
      ]
    },
    {
      "cell_type": "markdown",
      "metadata": {
        "id": "X6bYonAZG3DE"
      },
      "source": [
        "## <font color=red>Problema</font>\n",
        "***"
      ]
    },
    {
      "cell_type": "markdown",
      "metadata": {
        "id": "Ccx-Bc9oG3DH"
      },
      "source": [
        "Um restaurante recebe em média **20 pedidos por hora**. Qual a chance de que, em determinada hora escolhida ao acaso, o restaurante receba **15 pedidos**?"
      ]
    },
    {
      "cell_type": "markdown",
      "metadata": {
        "id": "k-uV7bgsmand"
      },
      "source": [
        "## <font color=green>2.2 Distribuição Poisson</font>\n",
        "***"
      ]
    },
    {
      "cell_type": "markdown",
      "metadata": {
        "id": "H0jPtJICG3DM"
      },
      "source": [
        "É empregada para descrever o número de ocorrências em um intervalo de tempo ou espaço específico. Os eventos são caracterizados pela possibilidade de contagem dos sucessos, mas a não possibilidade de contagem dos fracassos.\n",
        "\n",
        "Como exemplos de processos onde podemos aplicar a distribuição de Poisson temos a determinação do número de clientes que entram em uma loja em determinada hora, o número de carros que chegam em um drive-thru de uma lanchonete na hora do almoço, a determinação do número de acidentes registrados em um trecho de estrada etc."
      ]
    },
    {
      "cell_type": "markdown",
      "metadata": {
        "id": "O_XqwANJG3DN"
      },
      "source": [
        "# $$P(k) = \\frac{e^{-\\mu}(\\mu)^k}{k!}$$\n",
        "\n",
        "Onde:\n",
        "\n",
        "$e$ = constante cujo valor aproximado é 2,718281828459045\n",
        "\n",
        "$\\mu$ = representa o número médio de ocorrências em um determinado intervalo de tempo ou espaço\n",
        "\n",
        "$k$ = número de sucessos no intervalo desejado"
      ]
    },
    {
      "cell_type": "markdown",
      "metadata": {
        "id": "FqquU8wOG3DO"
      },
      "source": [
        "### Experimento Poisson"
      ]
    },
    {
      "cell_type": "markdown",
      "metadata": {
        "id": "ir2odEW3G3DO"
      },
      "source": [
        "1. A probabilidade de uma ocorrência é a mesma em todo o intervalo observado.\n",
        "\n",
        "2. O número de ocorrências em determinado intervalo é independente do número de ocorrências em outros intervalos.\n",
        "\n",
        "3. A probabilidade de uma ocorrência é a mesma em intervalos de igual comprimento."
      ]
    },
    {
      "cell_type": "markdown",
      "metadata": {
        "id": "2INlWMa0G3DP"
      },
      "source": [
        "### Média da distribuição Poisson"
      ]
    },
    {
      "cell_type": "markdown",
      "metadata": {
        "id": "xywTsniCG3DP"
      },
      "source": [
        "# $$\\mu$$"
      ]
    },
    {
      "cell_type": "markdown",
      "metadata": {
        "id": "7-Lh-LpfG3DQ"
      },
      "source": [
        "### Desvio padrão da distribuição Poisson"
      ]
    },
    {
      "cell_type": "markdown",
      "metadata": {
        "id": "61uStWUsG3DQ"
      },
      "source": [
        "# $$\\sigma = \\sqrt{\\mu}$$"
      ]
    },
    {
      "cell_type": "markdown",
      "metadata": {
        "id": "vniBmzIMG3DR"
      },
      "source": [
        "### Importando bibliotecas\n",
        "\n",
        "http://www.numpy.org/"
      ]
    },
    {
      "cell_type": "code",
      "execution_count": null,
      "metadata": {
        "id": "w23fjVT-G3DS"
      },
      "outputs": [],
      "source": [
        "import numpy as np"
      ]
    },
    {
      "cell_type": "code",
      "execution_count": null,
      "metadata": {
        "colab": {
          "base_uri": "https://localhost:8080/"
        },
        "id": "rdNqMuFNG3DU",
        "outputId": "741ea3b1-25ab-4983-ed9d-e0cd70568c0d"
      },
      "outputs": [
        {
          "output_type": "execute_result",
          "data": {
            "text/plain": [
              "2.718281828459045"
            ]
          },
          "metadata": {},
          "execution_count": 34
        }
      ],
      "source": [
        "np.e"
      ]
    },
    {
      "cell_type": "markdown",
      "metadata": {
        "id": "RKQWuVgMG3DW"
      },
      "source": [
        "## <font color='blue'>Exemplo: Delivery</font>"
      ]
    },
    {
      "cell_type": "markdown",
      "metadata": {
        "id": "ZKc__49bG3DX"
      },
      "source": [
        "Um restaurante recebe em média **20 pedidos por hora**. Qual a chance de que, em determinada hora escolhida ao acaso, o restaurante receba **15 pedidos**?"
      ]
    },
    {
      "cell_type": "markdown",
      "metadata": {
        "id": "W-MJ4XBkG3DX"
      },
      "source": [
        "### Qual o número médio de ocorrências por hora ($\\mu$)?"
      ]
    },
    {
      "cell_type": "code",
      "execution_count": null,
      "metadata": {
        "id": "2fVfJxdSG3DY"
      },
      "outputs": [],
      "source": [
        "media = 20"
      ]
    },
    {
      "cell_type": "markdown",
      "metadata": {
        "id": "3SagRtPvG3Da"
      },
      "source": [
        "### Qual o número de ocorrências que queremos obter no período ($k$)?"
      ]
    },
    {
      "cell_type": "code",
      "execution_count": null,
      "metadata": {
        "id": "yXB3QhWyG3Da"
      },
      "outputs": [],
      "source": [
        "k = 15"
      ]
    },
    {
      "cell_type": "markdown",
      "metadata": {
        "id": "3wFh3lFCG3De"
      },
      "source": [
        "### Solução 1"
      ]
    },
    {
      "cell_type": "code",
      "execution_count": null,
      "metadata": {
        "colab": {
          "base_uri": "https://localhost:8080/"
        },
        "id": "IEGO31WCG3Df",
        "outputId": "420e8a16-4fbd-4256-9a8c-48b7dbbf86ed"
      },
      "outputs": [
        {
          "output_type": "stream",
          "name": "stdout",
          "text": [
            "0.05164885\n"
          ]
        }
      ],
      "source": [
        "probabilidade = ((np.e ** (-media)) * (media ** k)) / (np.math.factorial(k))\n",
        "print('%0.8f' % probabilidade)"
      ]
    },
    {
      "cell_type": "markdown",
      "metadata": {
        "id": "GoIBvH62G3Di"
      },
      "source": [
        "### Importando bibliotecas"
      ]
    },
    {
      "cell_type": "markdown",
      "metadata": {
        "id": "iFSF_9Y4G3Dj"
      },
      "source": [
        "https://docs.scipy.org/doc/scipy/reference/generated/scipy.stats.poisson.html"
      ]
    },
    {
      "cell_type": "markdown",
      "metadata": {
        "id": "yAyXh0euG3Dk"
      },
      "source": [
        "### Solução 2"
      ]
    },
    {
      "cell_type": "code",
      "execution_count": null,
      "metadata": {
        "id": "sNw4oCAyG3Dk"
      },
      "outputs": [],
      "source": [
        "from scipy.stats import poisson"
      ]
    },
    {
      "cell_type": "code",
      "source": [
        "probabilidade = poisson.pmf(k, media)\n",
        "print('%0.8f' % probabilidade)\n"
      ],
      "metadata": {
        "colab": {
          "base_uri": "https://localhost:8080/"
        },
        "id": "25RBoMf0z9Fx",
        "outputId": "24a25d90-51dc-4a8c-ccc0-9323518b2609"
      },
      "execution_count": null,
      "outputs": [
        {
          "output_type": "stream",
          "name": "stdout",
          "text": [
            "0.05164885\n"
          ]
        }
      ]
    },
    {
      "cell_type": "code",
      "source": [
        "# Exercicio"
      ],
      "metadata": {
        "id": "Ph_1U0U20hCz"
      },
      "execution_count": null,
      "outputs": []
    },
    {
      "cell_type": "code",
      "source": [
        "# O número médio de clientes que entram em uma padaria por hora é igual a 20.\n",
        "# Obtenha a probabilidade de, na próxima hora, entrarem exatamente 25 clientes."
      ],
      "metadata": {
        "id": "RWXV98Ns0gLG"
      },
      "execution_count": null,
      "outputs": []
    },
    {
      "cell_type": "code",
      "source": [
        "# Solucao 1\n",
        "media = 20\n",
        "k = 25\n",
        "probabilidade = ((np.e ** (-media)) * (media ** k)) / (np.math.factorial(k))\n",
        "print(\"{0:.2%}\".format(probabilidade))"
      ],
      "metadata": {
        "colab": {
          "base_uri": "https://localhost:8080/"
        },
        "id": "ki0ACh3B0soe",
        "outputId": "db3821a5-41c0-4edb-da04-6090ac29f0a6"
      },
      "execution_count": null,
      "outputs": [
        {
          "output_type": "stream",
          "name": "stdout",
          "text": [
            "4.46%\n"
          ]
        }
      ]
    },
    {
      "cell_type": "code",
      "source": [
        "# Solucao 2\n",
        "probabilidade = poisson.pmf(k, media)\n",
        "print(\"{0:.2%}\".format(probabilidade))\n"
      ],
      "metadata": {
        "colab": {
          "base_uri": "https://localhost:8080/"
        },
        "id": "_PkQfmZp0sTR",
        "outputId": "aea9c799-7955-4614-f254-ac55df20fbd6"
      },
      "execution_count": null,
      "outputs": [
        {
          "output_type": "stream",
          "name": "stdout",
          "text": [
            "4.46%\n"
          ]
        }
      ]
    },
    {
      "cell_type": "code",
      "source": [],
      "metadata": {
        "id": "aUy2vFIE0sAO"
      },
      "execution_count": null,
      "outputs": []
    },
    {
      "cell_type": "markdown",
      "metadata": {
        "id": "g3ng8tQFG3Do"
      },
      "source": [
        "---\n",
        "---"
      ]
    },
    {
      "cell_type": "markdown",
      "metadata": {
        "id": "tVPUT9kEG3Dp"
      },
      "source": [
        "## <font color=red>Problema</font>\n",
        "***"
      ]
    },
    {
      "cell_type": "markdown",
      "metadata": {
        "id": "j7zVDN0kG3Dq"
      },
      "source": [
        "Em um estudo sobre as alturas dos moradores de uma cidade verificou-se que o conjunto de dados segue uma **distribuição aproximadamente normal**, com **média 1,70** e **desvio padrão de 0,1**. Com estas informações obtenha o seguinte conjunto de probabilidades:\n",
        "\n",
        "> **A.** probabilidade de uma pessoa, selecionada ao acaso, ter menos de 1,80 metros.\n",
        "\n",
        "> **B.** probabilidade de uma pessoa, selecionada ao acaso, ter entre 1,60 metros e 1,80 metros.    \n",
        "\n",
        "> **C.** probabilidade de uma pessoa, selecionada ao acaso, ter mais de 1,90 metros."
      ]
    },
    {
      "cell_type": "markdown",
      "metadata": {
        "id": "AowcVaKqpvf2"
      },
      "source": [
        "## <font color=green>2.3 Distribuição Normal</font>\n",
        "***"
      ]
    },
    {
      "cell_type": "markdown",
      "metadata": {
        "id": "YOBD21hGG3Dw"
      },
      "source": [
        "A distribuição normal é uma das mais utilizadas em estatística. É uma distribuição contínua, onde a distribuição de frequências de uma variável quantitativa apresenta a forma de sino e é simétrica em relação a sua média."
      ]
    },
    {
      "cell_type": "markdown",
      "metadata": {
        "id": "kbPy2ORqqKJA"
      },
      "source": [
        "![Normal](https://caelum-online-public.s3.amazonaws.com/1178-estatistica-parte2/01/img001.png)"
      ]
    },
    {
      "cell_type": "markdown",
      "metadata": {
        "id": "J3eKESHTG3Dx"
      },
      "source": [
        "### Características importantes"
      ]
    },
    {
      "cell_type": "markdown",
      "metadata": {
        "id": "z8GxAzWZG3Dx"
      },
      "source": [
        "1. É simétrica em torno da média;\n",
        "\n",
        "2. A área sob a curva corresponde à proporção 1 ou 100%;\n",
        "\n",
        "3. As medidas de tendência central (média, mediana e moda) apresentam o mesmo valor;\n",
        "\n",
        "4. Os extremos da curva tendem ao infinito em ambas as direções e, teoricamente, jamais tocam o eixo $x$;\n",
        "\n",
        "5. O desvio padrão define o achatamento e largura da distribuição. Curvas mais largas e mais achatadas apresentam valores maiores de desvio padrão;\n",
        "\n",
        "6. A distribuição é definida por sua média e desvio padrão;\n",
        "\n",
        "7. A probabilidade sempre será igual à área sob a curva, delimitada pelos limites inferior e superior."
      ]
    },
    {
      "cell_type": "markdown",
      "metadata": {
        "id": "hoWLlOiwG3Dy"
      },
      "source": [
        "# $$f(x) = \\frac{1}{\\sqrt{2\\pi\\sigma}}e^{-\\frac{1}{2}\\left(\\frac{x-\\mu}{\\sigma}\\right)^2}$$\n",
        "\n",
        "Onde:\n",
        "\n",
        "$x$ = variável normal\n",
        "\n",
        "$\\sigma$ = desvio padrão\n",
        "\n",
        "$\\mu$ = média"
      ]
    },
    {
      "cell_type": "markdown",
      "metadata": {
        "id": "8n03Z0VlG3Dz"
      },
      "source": [
        "A probabilidade é obtida a partir da área sob a curva, delimitada pelos limites inferior e superior especificados. Um exemplo pode ser visto na figura abaixo."
      ]
    },
    {
      "cell_type": "markdown",
      "metadata": {
        "id": "X1UgmFoxG3Dz"
      },
      "source": [
        "![alt text](https://caelum-online-public.s3.amazonaws.com/1178-estatistica-parte2/01/img002.png)\n"
      ]
    },
    {
      "cell_type": "markdown",
      "metadata": {
        "id": "rtKiApHLG3D0"
      },
      "source": [
        "Para obter a área acima basta calcular a integral da função para os intervalos determinados. Conforme equação abaixo:"
      ]
    },
    {
      "cell_type": "markdown",
      "metadata": {
        "id": "0r_9CbSOG3D0"
      },
      "source": [
        "# $$P(L_i<x<L_s) = \\int_{L_i}^{L_s}\\frac{1}{\\sqrt{2\\pi\\sigma}}e^{-\\frac{1}{2}\\left(\\frac{x-\\mu}{\\sigma}\\right)^2}$$\n",
        "\n",
        "Onde:\n",
        "\n",
        "$x$ = variável normal\n",
        "\n",
        "$\\sigma$ = desvio padrão\n",
        "\n",
        "$\\mu$ = média\n",
        "\n",
        "$L_i$ = limite inferior\n",
        "\n",
        "$L_s$ = limite superior"
      ]
    },
    {
      "cell_type": "markdown",
      "metadata": {
        "id": "qP-Ye-leG3D1"
      },
      "source": [
        "### Tabelas padronizadas"
      ]
    },
    {
      "cell_type": "markdown",
      "metadata": {
        "id": "Z1VnLK11G3D1"
      },
      "source": [
        "As tabelas padronizadas foram criadas para facilitar a obtenção dos valores das áreas sob a curva normal e eliminar a necessidade de solucionar integrais definidas.\n",
        "\n",
        "Para consultarmos os valores em uma tabela padronizada basta transformarmos nossa variável em uma variável padronizada $Z$.\n",
        "\n",
        "Esta variável $Z$ representa o afastamento em desvios padrões de um valor da variável original em relação à média."
      ]
    },
    {
      "cell_type": "markdown",
      "metadata": {
        "id": "HJcdgdsgG3D2"
      },
      "source": [
        "# $$Z = \\frac{x-\\mu}{\\sigma}$$\n",
        "\n",
        "Onde:\n",
        "\n",
        "$x$ = variável normal com média $\\mu$ e desvio padrão $\\sigma$\n",
        "\n",
        "$\\sigma$ = desvio padrão\n",
        "\n",
        "$\\mu$ = média"
      ]
    },
    {
      "cell_type": "markdown",
      "metadata": {
        "id": "hUrVKJH3G3D2"
      },
      "source": [
        "### Construindo tabela normal padronizada\n",
        "https://docs.scipy.org/doc/scipy/reference/generated/scipy.stats.norm.html"
      ]
    },
    {
      "cell_type": "code",
      "execution_count": null,
      "metadata": {
        "colab": {
          "base_uri": "https://localhost:8080/",
          "height": 1000
        },
        "id": "7SudUNlcG3D4",
        "outputId": "43c5824c-0cd9-4ad5-a734-842bc5cc39df"
      },
      "outputs": [
        {
          "output_type": "execute_result",
          "data": {
            "text/plain": [
              "Z       0.00    0.01    0.02    0.03    0.04    0.05    0.06    0.07    0.08  \\\n",
              "0.00  0.5000  0.5040  0.5080  0.5120  0.5160  0.5199  0.5239  0.5279  0.5319   \n",
              "0.10  0.5398  0.5438  0.5478  0.5517  0.5557  0.5596  0.5636  0.5675  0.5714   \n",
              "0.20  0.5793  0.5832  0.5871  0.5910  0.5948  0.5987  0.6026  0.6064  0.6103   \n",
              "0.30  0.6179  0.6217  0.6255  0.6293  0.6331  0.6368  0.6406  0.6443  0.6480   \n",
              "0.40  0.6554  0.6591  0.6628  0.6664  0.6700  0.6736  0.6772  0.6808  0.6844   \n",
              "0.50  0.6915  0.6950  0.6985  0.7019  0.7054  0.7088  0.7123  0.7157  0.7190   \n",
              "0.60  0.7257  0.7291  0.7324  0.7357  0.7389  0.7422  0.7454  0.7486  0.7517   \n",
              "0.70  0.7580  0.7611  0.7642  0.7673  0.7704  0.7734  0.7764  0.7794  0.7823   \n",
              "0.80  0.7881  0.7910  0.7939  0.7967  0.7995  0.8023  0.8051  0.8078  0.8106   \n",
              "0.90  0.8159  0.8186  0.8212  0.8238  0.8264  0.8289  0.8315  0.8340  0.8365   \n",
              "1.00  0.8413  0.8438  0.8461  0.8485  0.8508  0.8531  0.8554  0.8577  0.8599   \n",
              "1.10  0.8643  0.8665  0.8686  0.8708  0.8729  0.8749  0.8770  0.8790  0.8810   \n",
              "1.20  0.8849  0.8869  0.8888  0.8907  0.8925  0.8944  0.8962  0.8980  0.8997   \n",
              "1.30  0.9032  0.9049  0.9066  0.9082  0.9099  0.9115  0.9131  0.9147  0.9162   \n",
              "1.40  0.9192  0.9207  0.9222  0.9236  0.9251  0.9265  0.9279  0.9292  0.9306   \n",
              "1.50  0.9332  0.9345  0.9357  0.9370  0.9382  0.9394  0.9406  0.9418  0.9429   \n",
              "1.60  0.9452  0.9463  0.9474  0.9484  0.9495  0.9505  0.9515  0.9525  0.9535   \n",
              "1.70  0.9554  0.9564  0.9573  0.9582  0.9591  0.9599  0.9608  0.9616  0.9625   \n",
              "1.80  0.9641  0.9649  0.9656  0.9664  0.9671  0.9678  0.9686  0.9693  0.9699   \n",
              "1.90  0.9713  0.9719  0.9726  0.9732  0.9738  0.9744  0.9750  0.9756  0.9761   \n",
              "2.00  0.9772  0.9778  0.9783  0.9788  0.9793  0.9798  0.9803  0.9808  0.9812   \n",
              "2.10  0.9821  0.9826  0.9830  0.9834  0.9838  0.9842  0.9846  0.9850  0.9854   \n",
              "2.20  0.9861  0.9864  0.9868  0.9871  0.9875  0.9878  0.9881  0.9884  0.9887   \n",
              "2.30  0.9893  0.9896  0.9898  0.9901  0.9904  0.9906  0.9909  0.9911  0.9913   \n",
              "2.40  0.9918  0.9920  0.9922  0.9925  0.9927  0.9929  0.9931  0.9932  0.9934   \n",
              "2.50  0.9938  0.9940  0.9941  0.9943  0.9945  0.9946  0.9948  0.9949  0.9951   \n",
              "2.60  0.9953  0.9955  0.9956  0.9957  0.9959  0.9960  0.9961  0.9962  0.9963   \n",
              "2.70  0.9965  0.9966  0.9967  0.9968  0.9969  0.9970  0.9971  0.9972  0.9973   \n",
              "2.80  0.9974  0.9975  0.9976  0.9977  0.9977  0.9978  0.9979  0.9979  0.9980   \n",
              "2.90  0.9981  0.9982  0.9982  0.9983  0.9984  0.9984  0.9985  0.9985  0.9986   \n",
              "3.00  0.9987  0.9987  0.9987  0.9988  0.9988  0.9989  0.9989  0.9989  0.9990   \n",
              "3.10  0.9990  0.9991  0.9991  0.9991  0.9992  0.9992  0.9992  0.9992  0.9993   \n",
              "3.20  0.9993  0.9993  0.9994  0.9994  0.9994  0.9994  0.9994  0.9995  0.9995   \n",
              "3.30  0.9995  0.9995  0.9995  0.9996  0.9996  0.9996  0.9996  0.9996  0.9996   \n",
              "3.40  0.9997  0.9997  0.9997  0.9997  0.9997  0.9997  0.9997  0.9997  0.9997   \n",
              "3.50  0.9998  0.9998  0.9998  0.9998  0.9998  0.9998  0.9998  0.9998  0.9998   \n",
              "3.60  0.9998  0.9998  0.9999  0.9999  0.9999  0.9999  0.9999  0.9999  0.9999   \n",
              "3.70  0.9999  0.9999  0.9999  0.9999  0.9999  0.9999  0.9999  0.9999  0.9999   \n",
              "3.80  0.9999  0.9999  0.9999  0.9999  0.9999  0.9999  0.9999  0.9999  0.9999   \n",
              "3.90  1.0000  1.0000  1.0000  1.0000  1.0000  1.0000  1.0000  1.0000  1.0000   \n",
              "\n",
              "Z       0.09  \n",
              "0.00  0.5359  \n",
              "0.10  0.5753  \n",
              "0.20  0.6141  \n",
              "0.30  0.6517  \n",
              "0.40  0.6879  \n",
              "0.50  0.7224  \n",
              "0.60  0.7549  \n",
              "0.70  0.7852  \n",
              "0.80  0.8133  \n",
              "0.90  0.8389  \n",
              "1.00  0.8621  \n",
              "1.10  0.8830  \n",
              "1.20  0.9015  \n",
              "1.30  0.9177  \n",
              "1.40  0.9319  \n",
              "1.50  0.9441  \n",
              "1.60  0.9545  \n",
              "1.70  0.9633  \n",
              "1.80  0.9706  \n",
              "1.90  0.9767  \n",
              "2.00  0.9817  \n",
              "2.10  0.9857  \n",
              "2.20  0.9890  \n",
              "2.30  0.9916  \n",
              "2.40  0.9936  \n",
              "2.50  0.9952  \n",
              "2.60  0.9964  \n",
              "2.70  0.9974  \n",
              "2.80  0.9981  \n",
              "2.90  0.9986  \n",
              "3.00  0.9990  \n",
              "3.10  0.9993  \n",
              "3.20  0.9995  \n",
              "3.30  0.9997  \n",
              "3.40  0.9998  \n",
              "3.50  0.9998  \n",
              "3.60  0.9999  \n",
              "3.70  0.9999  \n",
              "3.80  0.9999  \n",
              "3.90  1.0000  "
            ],
            "text/html": [
              "\n",
              "  <div id=\"df-92894f30-ad57-4f97-812c-539c93975c9f\">\n",
              "    <div class=\"colab-df-container\">\n",
              "      <div>\n",
              "<style scoped>\n",
              "    .dataframe tbody tr th:only-of-type {\n",
              "        vertical-align: middle;\n",
              "    }\n",
              "\n",
              "    .dataframe tbody tr th {\n",
              "        vertical-align: top;\n",
              "    }\n",
              "\n",
              "    .dataframe thead th {\n",
              "        text-align: right;\n",
              "    }\n",
              "</style>\n",
              "<table border=\"1\" class=\"dataframe\">\n",
              "  <thead>\n",
              "    <tr style=\"text-align: right;\">\n",
              "      <th>Z</th>\n",
              "      <th>0.00</th>\n",
              "      <th>0.01</th>\n",
              "      <th>0.02</th>\n",
              "      <th>0.03</th>\n",
              "      <th>0.04</th>\n",
              "      <th>0.05</th>\n",
              "      <th>0.06</th>\n",
              "      <th>0.07</th>\n",
              "      <th>0.08</th>\n",
              "      <th>0.09</th>\n",
              "    </tr>\n",
              "  </thead>\n",
              "  <tbody>\n",
              "    <tr>\n",
              "      <th>0.00</th>\n",
              "      <td>0.5000</td>\n",
              "      <td>0.5040</td>\n",
              "      <td>0.5080</td>\n",
              "      <td>0.5120</td>\n",
              "      <td>0.5160</td>\n",
              "      <td>0.5199</td>\n",
              "      <td>0.5239</td>\n",
              "      <td>0.5279</td>\n",
              "      <td>0.5319</td>\n",
              "      <td>0.5359</td>\n",
              "    </tr>\n",
              "    <tr>\n",
              "      <th>0.10</th>\n",
              "      <td>0.5398</td>\n",
              "      <td>0.5438</td>\n",
              "      <td>0.5478</td>\n",
              "      <td>0.5517</td>\n",
              "      <td>0.5557</td>\n",
              "      <td>0.5596</td>\n",
              "      <td>0.5636</td>\n",
              "      <td>0.5675</td>\n",
              "      <td>0.5714</td>\n",
              "      <td>0.5753</td>\n",
              "    </tr>\n",
              "    <tr>\n",
              "      <th>0.20</th>\n",
              "      <td>0.5793</td>\n",
              "      <td>0.5832</td>\n",
              "      <td>0.5871</td>\n",
              "      <td>0.5910</td>\n",
              "      <td>0.5948</td>\n",
              "      <td>0.5987</td>\n",
              "      <td>0.6026</td>\n",
              "      <td>0.6064</td>\n",
              "      <td>0.6103</td>\n",
              "      <td>0.6141</td>\n",
              "    </tr>\n",
              "    <tr>\n",
              "      <th>0.30</th>\n",
              "      <td>0.6179</td>\n",
              "      <td>0.6217</td>\n",
              "      <td>0.6255</td>\n",
              "      <td>0.6293</td>\n",
              "      <td>0.6331</td>\n",
              "      <td>0.6368</td>\n",
              "      <td>0.6406</td>\n",
              "      <td>0.6443</td>\n",
              "      <td>0.6480</td>\n",
              "      <td>0.6517</td>\n",
              "    </tr>\n",
              "    <tr>\n",
              "      <th>0.40</th>\n",
              "      <td>0.6554</td>\n",
              "      <td>0.6591</td>\n",
              "      <td>0.6628</td>\n",
              "      <td>0.6664</td>\n",
              "      <td>0.6700</td>\n",
              "      <td>0.6736</td>\n",
              "      <td>0.6772</td>\n",
              "      <td>0.6808</td>\n",
              "      <td>0.6844</td>\n",
              "      <td>0.6879</td>\n",
              "    </tr>\n",
              "    <tr>\n",
              "      <th>0.50</th>\n",
              "      <td>0.6915</td>\n",
              "      <td>0.6950</td>\n",
              "      <td>0.6985</td>\n",
              "      <td>0.7019</td>\n",
              "      <td>0.7054</td>\n",
              "      <td>0.7088</td>\n",
              "      <td>0.7123</td>\n",
              "      <td>0.7157</td>\n",
              "      <td>0.7190</td>\n",
              "      <td>0.7224</td>\n",
              "    </tr>\n",
              "    <tr>\n",
              "      <th>0.60</th>\n",
              "      <td>0.7257</td>\n",
              "      <td>0.7291</td>\n",
              "      <td>0.7324</td>\n",
              "      <td>0.7357</td>\n",
              "      <td>0.7389</td>\n",
              "      <td>0.7422</td>\n",
              "      <td>0.7454</td>\n",
              "      <td>0.7486</td>\n",
              "      <td>0.7517</td>\n",
              "      <td>0.7549</td>\n",
              "    </tr>\n",
              "    <tr>\n",
              "      <th>0.70</th>\n",
              "      <td>0.7580</td>\n",
              "      <td>0.7611</td>\n",
              "      <td>0.7642</td>\n",
              "      <td>0.7673</td>\n",
              "      <td>0.7704</td>\n",
              "      <td>0.7734</td>\n",
              "      <td>0.7764</td>\n",
              "      <td>0.7794</td>\n",
              "      <td>0.7823</td>\n",
              "      <td>0.7852</td>\n",
              "    </tr>\n",
              "    <tr>\n",
              "      <th>0.80</th>\n",
              "      <td>0.7881</td>\n",
              "      <td>0.7910</td>\n",
              "      <td>0.7939</td>\n",
              "      <td>0.7967</td>\n",
              "      <td>0.7995</td>\n",
              "      <td>0.8023</td>\n",
              "      <td>0.8051</td>\n",
              "      <td>0.8078</td>\n",
              "      <td>0.8106</td>\n",
              "      <td>0.8133</td>\n",
              "    </tr>\n",
              "    <tr>\n",
              "      <th>0.90</th>\n",
              "      <td>0.8159</td>\n",
              "      <td>0.8186</td>\n",
              "      <td>0.8212</td>\n",
              "      <td>0.8238</td>\n",
              "      <td>0.8264</td>\n",
              "      <td>0.8289</td>\n",
              "      <td>0.8315</td>\n",
              "      <td>0.8340</td>\n",
              "      <td>0.8365</td>\n",
              "      <td>0.8389</td>\n",
              "    </tr>\n",
              "    <tr>\n",
              "      <th>1.00</th>\n",
              "      <td>0.8413</td>\n",
              "      <td>0.8438</td>\n",
              "      <td>0.8461</td>\n",
              "      <td>0.8485</td>\n",
              "      <td>0.8508</td>\n",
              "      <td>0.8531</td>\n",
              "      <td>0.8554</td>\n",
              "      <td>0.8577</td>\n",
              "      <td>0.8599</td>\n",
              "      <td>0.8621</td>\n",
              "    </tr>\n",
              "    <tr>\n",
              "      <th>1.10</th>\n",
              "      <td>0.8643</td>\n",
              "      <td>0.8665</td>\n",
              "      <td>0.8686</td>\n",
              "      <td>0.8708</td>\n",
              "      <td>0.8729</td>\n",
              "      <td>0.8749</td>\n",
              "      <td>0.8770</td>\n",
              "      <td>0.8790</td>\n",
              "      <td>0.8810</td>\n",
              "      <td>0.8830</td>\n",
              "    </tr>\n",
              "    <tr>\n",
              "      <th>1.20</th>\n",
              "      <td>0.8849</td>\n",
              "      <td>0.8869</td>\n",
              "      <td>0.8888</td>\n",
              "      <td>0.8907</td>\n",
              "      <td>0.8925</td>\n",
              "      <td>0.8944</td>\n",
              "      <td>0.8962</td>\n",
              "      <td>0.8980</td>\n",
              "      <td>0.8997</td>\n",
              "      <td>0.9015</td>\n",
              "    </tr>\n",
              "    <tr>\n",
              "      <th>1.30</th>\n",
              "      <td>0.9032</td>\n",
              "      <td>0.9049</td>\n",
              "      <td>0.9066</td>\n",
              "      <td>0.9082</td>\n",
              "      <td>0.9099</td>\n",
              "      <td>0.9115</td>\n",
              "      <td>0.9131</td>\n",
              "      <td>0.9147</td>\n",
              "      <td>0.9162</td>\n",
              "      <td>0.9177</td>\n",
              "    </tr>\n",
              "    <tr>\n",
              "      <th>1.40</th>\n",
              "      <td>0.9192</td>\n",
              "      <td>0.9207</td>\n",
              "      <td>0.9222</td>\n",
              "      <td>0.9236</td>\n",
              "      <td>0.9251</td>\n",
              "      <td>0.9265</td>\n",
              "      <td>0.9279</td>\n",
              "      <td>0.9292</td>\n",
              "      <td>0.9306</td>\n",
              "      <td>0.9319</td>\n",
              "    </tr>\n",
              "    <tr>\n",
              "      <th>1.50</th>\n",
              "      <td>0.9332</td>\n",
              "      <td>0.9345</td>\n",
              "      <td>0.9357</td>\n",
              "      <td>0.9370</td>\n",
              "      <td>0.9382</td>\n",
              "      <td>0.9394</td>\n",
              "      <td>0.9406</td>\n",
              "      <td>0.9418</td>\n",
              "      <td>0.9429</td>\n",
              "      <td>0.9441</td>\n",
              "    </tr>\n",
              "    <tr>\n",
              "      <th>1.60</th>\n",
              "      <td>0.9452</td>\n",
              "      <td>0.9463</td>\n",
              "      <td>0.9474</td>\n",
              "      <td>0.9484</td>\n",
              "      <td>0.9495</td>\n",
              "      <td>0.9505</td>\n",
              "      <td>0.9515</td>\n",
              "      <td>0.9525</td>\n",
              "      <td>0.9535</td>\n",
              "      <td>0.9545</td>\n",
              "    </tr>\n",
              "    <tr>\n",
              "      <th>1.70</th>\n",
              "      <td>0.9554</td>\n",
              "      <td>0.9564</td>\n",
              "      <td>0.9573</td>\n",
              "      <td>0.9582</td>\n",
              "      <td>0.9591</td>\n",
              "      <td>0.9599</td>\n",
              "      <td>0.9608</td>\n",
              "      <td>0.9616</td>\n",
              "      <td>0.9625</td>\n",
              "      <td>0.9633</td>\n",
              "    </tr>\n",
              "    <tr>\n",
              "      <th>1.80</th>\n",
              "      <td>0.9641</td>\n",
              "      <td>0.9649</td>\n",
              "      <td>0.9656</td>\n",
              "      <td>0.9664</td>\n",
              "      <td>0.9671</td>\n",
              "      <td>0.9678</td>\n",
              "      <td>0.9686</td>\n",
              "      <td>0.9693</td>\n",
              "      <td>0.9699</td>\n",
              "      <td>0.9706</td>\n",
              "    </tr>\n",
              "    <tr>\n",
              "      <th>1.90</th>\n",
              "      <td>0.9713</td>\n",
              "      <td>0.9719</td>\n",
              "      <td>0.9726</td>\n",
              "      <td>0.9732</td>\n",
              "      <td>0.9738</td>\n",
              "      <td>0.9744</td>\n",
              "      <td>0.9750</td>\n",
              "      <td>0.9756</td>\n",
              "      <td>0.9761</td>\n",
              "      <td>0.9767</td>\n",
              "    </tr>\n",
              "    <tr>\n",
              "      <th>2.00</th>\n",
              "      <td>0.9772</td>\n",
              "      <td>0.9778</td>\n",
              "      <td>0.9783</td>\n",
              "      <td>0.9788</td>\n",
              "      <td>0.9793</td>\n",
              "      <td>0.9798</td>\n",
              "      <td>0.9803</td>\n",
              "      <td>0.9808</td>\n",
              "      <td>0.9812</td>\n",
              "      <td>0.9817</td>\n",
              "    </tr>\n",
              "    <tr>\n",
              "      <th>2.10</th>\n",
              "      <td>0.9821</td>\n",
              "      <td>0.9826</td>\n",
              "      <td>0.9830</td>\n",
              "      <td>0.9834</td>\n",
              "      <td>0.9838</td>\n",
              "      <td>0.9842</td>\n",
              "      <td>0.9846</td>\n",
              "      <td>0.9850</td>\n",
              "      <td>0.9854</td>\n",
              "      <td>0.9857</td>\n",
              "    </tr>\n",
              "    <tr>\n",
              "      <th>2.20</th>\n",
              "      <td>0.9861</td>\n",
              "      <td>0.9864</td>\n",
              "      <td>0.9868</td>\n",
              "      <td>0.9871</td>\n",
              "      <td>0.9875</td>\n",
              "      <td>0.9878</td>\n",
              "      <td>0.9881</td>\n",
              "      <td>0.9884</td>\n",
              "      <td>0.9887</td>\n",
              "      <td>0.9890</td>\n",
              "    </tr>\n",
              "    <tr>\n",
              "      <th>2.30</th>\n",
              "      <td>0.9893</td>\n",
              "      <td>0.9896</td>\n",
              "      <td>0.9898</td>\n",
              "      <td>0.9901</td>\n",
              "      <td>0.9904</td>\n",
              "      <td>0.9906</td>\n",
              "      <td>0.9909</td>\n",
              "      <td>0.9911</td>\n",
              "      <td>0.9913</td>\n",
              "      <td>0.9916</td>\n",
              "    </tr>\n",
              "    <tr>\n",
              "      <th>2.40</th>\n",
              "      <td>0.9918</td>\n",
              "      <td>0.9920</td>\n",
              "      <td>0.9922</td>\n",
              "      <td>0.9925</td>\n",
              "      <td>0.9927</td>\n",
              "      <td>0.9929</td>\n",
              "      <td>0.9931</td>\n",
              "      <td>0.9932</td>\n",
              "      <td>0.9934</td>\n",
              "      <td>0.9936</td>\n",
              "    </tr>\n",
              "    <tr>\n",
              "      <th>2.50</th>\n",
              "      <td>0.9938</td>\n",
              "      <td>0.9940</td>\n",
              "      <td>0.9941</td>\n",
              "      <td>0.9943</td>\n",
              "      <td>0.9945</td>\n",
              "      <td>0.9946</td>\n",
              "      <td>0.9948</td>\n",
              "      <td>0.9949</td>\n",
              "      <td>0.9951</td>\n",
              "      <td>0.9952</td>\n",
              "    </tr>\n",
              "    <tr>\n",
              "      <th>2.60</th>\n",
              "      <td>0.9953</td>\n",
              "      <td>0.9955</td>\n",
              "      <td>0.9956</td>\n",
              "      <td>0.9957</td>\n",
              "      <td>0.9959</td>\n",
              "      <td>0.9960</td>\n",
              "      <td>0.9961</td>\n",
              "      <td>0.9962</td>\n",
              "      <td>0.9963</td>\n",
              "      <td>0.9964</td>\n",
              "    </tr>\n",
              "    <tr>\n",
              "      <th>2.70</th>\n",
              "      <td>0.9965</td>\n",
              "      <td>0.9966</td>\n",
              "      <td>0.9967</td>\n",
              "      <td>0.9968</td>\n",
              "      <td>0.9969</td>\n",
              "      <td>0.9970</td>\n",
              "      <td>0.9971</td>\n",
              "      <td>0.9972</td>\n",
              "      <td>0.9973</td>\n",
              "      <td>0.9974</td>\n",
              "    </tr>\n",
              "    <tr>\n",
              "      <th>2.80</th>\n",
              "      <td>0.9974</td>\n",
              "      <td>0.9975</td>\n",
              "      <td>0.9976</td>\n",
              "      <td>0.9977</td>\n",
              "      <td>0.9977</td>\n",
              "      <td>0.9978</td>\n",
              "      <td>0.9979</td>\n",
              "      <td>0.9979</td>\n",
              "      <td>0.9980</td>\n",
              "      <td>0.9981</td>\n",
              "    </tr>\n",
              "    <tr>\n",
              "      <th>2.90</th>\n",
              "      <td>0.9981</td>\n",
              "      <td>0.9982</td>\n",
              "      <td>0.9982</td>\n",
              "      <td>0.9983</td>\n",
              "      <td>0.9984</td>\n",
              "      <td>0.9984</td>\n",
              "      <td>0.9985</td>\n",
              "      <td>0.9985</td>\n",
              "      <td>0.9986</td>\n",
              "      <td>0.9986</td>\n",
              "    </tr>\n",
              "    <tr>\n",
              "      <th>3.00</th>\n",
              "      <td>0.9987</td>\n",
              "      <td>0.9987</td>\n",
              "      <td>0.9987</td>\n",
              "      <td>0.9988</td>\n",
              "      <td>0.9988</td>\n",
              "      <td>0.9989</td>\n",
              "      <td>0.9989</td>\n",
              "      <td>0.9989</td>\n",
              "      <td>0.9990</td>\n",
              "      <td>0.9990</td>\n",
              "    </tr>\n",
              "    <tr>\n",
              "      <th>3.10</th>\n",
              "      <td>0.9990</td>\n",
              "      <td>0.9991</td>\n",
              "      <td>0.9991</td>\n",
              "      <td>0.9991</td>\n",
              "      <td>0.9992</td>\n",
              "      <td>0.9992</td>\n",
              "      <td>0.9992</td>\n",
              "      <td>0.9992</td>\n",
              "      <td>0.9993</td>\n",
              "      <td>0.9993</td>\n",
              "    </tr>\n",
              "    <tr>\n",
              "      <th>3.20</th>\n",
              "      <td>0.9993</td>\n",
              "      <td>0.9993</td>\n",
              "      <td>0.9994</td>\n",
              "      <td>0.9994</td>\n",
              "      <td>0.9994</td>\n",
              "      <td>0.9994</td>\n",
              "      <td>0.9994</td>\n",
              "      <td>0.9995</td>\n",
              "      <td>0.9995</td>\n",
              "      <td>0.9995</td>\n",
              "    </tr>\n",
              "    <tr>\n",
              "      <th>3.30</th>\n",
              "      <td>0.9995</td>\n",
              "      <td>0.9995</td>\n",
              "      <td>0.9995</td>\n",
              "      <td>0.9996</td>\n",
              "      <td>0.9996</td>\n",
              "      <td>0.9996</td>\n",
              "      <td>0.9996</td>\n",
              "      <td>0.9996</td>\n",
              "      <td>0.9996</td>\n",
              "      <td>0.9997</td>\n",
              "    </tr>\n",
              "    <tr>\n",
              "      <th>3.40</th>\n",
              "      <td>0.9997</td>\n",
              "      <td>0.9997</td>\n",
              "      <td>0.9997</td>\n",
              "      <td>0.9997</td>\n",
              "      <td>0.9997</td>\n",
              "      <td>0.9997</td>\n",
              "      <td>0.9997</td>\n",
              "      <td>0.9997</td>\n",
              "      <td>0.9997</td>\n",
              "      <td>0.9998</td>\n",
              "    </tr>\n",
              "    <tr>\n",
              "      <th>3.50</th>\n",
              "      <td>0.9998</td>\n",
              "      <td>0.9998</td>\n",
              "      <td>0.9998</td>\n",
              "      <td>0.9998</td>\n",
              "      <td>0.9998</td>\n",
              "      <td>0.9998</td>\n",
              "      <td>0.9998</td>\n",
              "      <td>0.9998</td>\n",
              "      <td>0.9998</td>\n",
              "      <td>0.9998</td>\n",
              "    </tr>\n",
              "    <tr>\n",
              "      <th>3.60</th>\n",
              "      <td>0.9998</td>\n",
              "      <td>0.9998</td>\n",
              "      <td>0.9999</td>\n",
              "      <td>0.9999</td>\n",
              "      <td>0.9999</td>\n",
              "      <td>0.9999</td>\n",
              "      <td>0.9999</td>\n",
              "      <td>0.9999</td>\n",
              "      <td>0.9999</td>\n",
              "      <td>0.9999</td>\n",
              "    </tr>\n",
              "    <tr>\n",
              "      <th>3.70</th>\n",
              "      <td>0.9999</td>\n",
              "      <td>0.9999</td>\n",
              "      <td>0.9999</td>\n",
              "      <td>0.9999</td>\n",
              "      <td>0.9999</td>\n",
              "      <td>0.9999</td>\n",
              "      <td>0.9999</td>\n",
              "      <td>0.9999</td>\n",
              "      <td>0.9999</td>\n",
              "      <td>0.9999</td>\n",
              "    </tr>\n",
              "    <tr>\n",
              "      <th>3.80</th>\n",
              "      <td>0.9999</td>\n",
              "      <td>0.9999</td>\n",
              "      <td>0.9999</td>\n",
              "      <td>0.9999</td>\n",
              "      <td>0.9999</td>\n",
              "      <td>0.9999</td>\n",
              "      <td>0.9999</td>\n",
              "      <td>0.9999</td>\n",
              "      <td>0.9999</td>\n",
              "      <td>0.9999</td>\n",
              "    </tr>\n",
              "    <tr>\n",
              "      <th>3.90</th>\n",
              "      <td>1.0000</td>\n",
              "      <td>1.0000</td>\n",
              "      <td>1.0000</td>\n",
              "      <td>1.0000</td>\n",
              "      <td>1.0000</td>\n",
              "      <td>1.0000</td>\n",
              "      <td>1.0000</td>\n",
              "      <td>1.0000</td>\n",
              "      <td>1.0000</td>\n",
              "      <td>1.0000</td>\n",
              "    </tr>\n",
              "  </tbody>\n",
              "</table>\n",
              "</div>\n",
              "      <button class=\"colab-df-convert\" onclick=\"convertToInteractive('df-92894f30-ad57-4f97-812c-539c93975c9f')\"\n",
              "              title=\"Convert this dataframe to an interactive table.\"\n",
              "              style=\"display:none;\">\n",
              "        \n",
              "  <svg xmlns=\"http://www.w3.org/2000/svg\" height=\"24px\"viewBox=\"0 0 24 24\"\n",
              "       width=\"24px\">\n",
              "    <path d=\"M0 0h24v24H0V0z\" fill=\"none\"/>\n",
              "    <path d=\"M18.56 5.44l.94 2.06.94-2.06 2.06-.94-2.06-.94-.94-2.06-.94 2.06-2.06.94zm-11 1L8.5 8.5l.94-2.06 2.06-.94-2.06-.94L8.5 2.5l-.94 2.06-2.06.94zm10 10l.94 2.06.94-2.06 2.06-.94-2.06-.94-.94-2.06-.94 2.06-2.06.94z\"/><path d=\"M17.41 7.96l-1.37-1.37c-.4-.4-.92-.59-1.43-.59-.52 0-1.04.2-1.43.59L10.3 9.45l-7.72 7.72c-.78.78-.78 2.05 0 2.83L4 21.41c.39.39.9.59 1.41.59.51 0 1.02-.2 1.41-.59l7.78-7.78 2.81-2.81c.8-.78.8-2.07 0-2.86zM5.41 20L4 18.59l7.72-7.72 1.47 1.35L5.41 20z\"/>\n",
              "  </svg>\n",
              "      </button>\n",
              "      \n",
              "  <style>\n",
              "    .colab-df-container {\n",
              "      display:flex;\n",
              "      flex-wrap:wrap;\n",
              "      gap: 12px;\n",
              "    }\n",
              "\n",
              "    .colab-df-convert {\n",
              "      background-color: #E8F0FE;\n",
              "      border: none;\n",
              "      border-radius: 50%;\n",
              "      cursor: pointer;\n",
              "      display: none;\n",
              "      fill: #1967D2;\n",
              "      height: 32px;\n",
              "      padding: 0 0 0 0;\n",
              "      width: 32px;\n",
              "    }\n",
              "\n",
              "    .colab-df-convert:hover {\n",
              "      background-color: #E2EBFA;\n",
              "      box-shadow: 0px 1px 2px rgba(60, 64, 67, 0.3), 0px 1px 3px 1px rgba(60, 64, 67, 0.15);\n",
              "      fill: #174EA6;\n",
              "    }\n",
              "\n",
              "    [theme=dark] .colab-df-convert {\n",
              "      background-color: #3B4455;\n",
              "      fill: #D2E3FC;\n",
              "    }\n",
              "\n",
              "    [theme=dark] .colab-df-convert:hover {\n",
              "      background-color: #434B5C;\n",
              "      box-shadow: 0px 1px 3px 1px rgba(0, 0, 0, 0.15);\n",
              "      filter: drop-shadow(0px 1px 2px rgba(0, 0, 0, 0.3));\n",
              "      fill: #FFFFFF;\n",
              "    }\n",
              "  </style>\n",
              "\n",
              "      <script>\n",
              "        const buttonEl =\n",
              "          document.querySelector('#df-92894f30-ad57-4f97-812c-539c93975c9f button.colab-df-convert');\n",
              "        buttonEl.style.display =\n",
              "          google.colab.kernel.accessAllowed ? 'block' : 'none';\n",
              "\n",
              "        async function convertToInteractive(key) {\n",
              "          const element = document.querySelector('#df-92894f30-ad57-4f97-812c-539c93975c9f');\n",
              "          const dataTable =\n",
              "            await google.colab.kernel.invokeFunction('convertToInteractive',\n",
              "                                                     [key], {});\n",
              "          if (!dataTable) return;\n",
              "\n",
              "          const docLinkHtml = 'Like what you see? Visit the ' +\n",
              "            '<a target=\"_blank\" href=https://colab.research.google.com/notebooks/data_table.ipynb>data table notebook</a>'\n",
              "            + ' to learn more about interactive tables.';\n",
              "          element.innerHTML = '';\n",
              "          dataTable['output_type'] = 'display_data';\n",
              "          await google.colab.output.renderOutput(dataTable, element);\n",
              "          const docLink = document.createElement('div');\n",
              "          docLink.innerHTML = docLinkHtml;\n",
              "          element.appendChild(docLink);\n",
              "        }\n",
              "      </script>\n",
              "    </div>\n",
              "  </div>\n",
              "  "
            ]
          },
          "metadata": {},
          "execution_count": 44
        }
      ],
      "source": [
        "import pandas as pd\n",
        "import numpy as np\n",
        "from scipy.stats import norm\n",
        "\n",
        "tabela_normal_padronizada = pd.DataFrame(\n",
        "    [],\n",
        "    index=[\"{0:0.2f}\".format(i / 100) for i in range(0, 400, 10)],\n",
        "    columns = [\"{0:0.2f}\".format(i / 100) for i in range(0, 10)])\n",
        "\n",
        "for index in tabela_normal_padronizada.index:\n",
        "    for column in tabela_normal_padronizada.columns:\n",
        "        Z = np.round(float(index) + float(column), 2)\n",
        "        tabela_normal_padronizada.loc[index, column] = \"{0:0.4f}\".format(norm.cdf(Z))\n",
        "\n",
        "tabela_normal_padronizada.rename_axis('Z', axis = 'columns', inplace = True)\n",
        "\n",
        "tabela_normal_padronizada"
      ]
    },
    {
      "cell_type": "markdown",
      "metadata": {
        "id": "XHYeMaN3G3D9"
      },
      "source": [
        "<img src='https://caelum-online-public.s3.amazonaws.com/1178-estatistica-parte2/01/img003.png' width='250px'>\n",
        "\n",
        "A tabela acima fornece a área sob a curva entre $-\\infty$ e $Z$ desvios padrão acima da média. Lembrando que por se tratar de valores padronizados temos $\\mu = 0$."
      ]
    },
    {
      "cell_type": "markdown",
      "metadata": {
        "id": "Bs-KyZAJG3D-"
      },
      "source": [
        "## <font color='blue'>Exemplo: Qual sua altura?</font>"
      ]
    },
    {
      "cell_type": "markdown",
      "metadata": {
        "id": "8PFIjXejG3EA"
      },
      "source": [
        "Em um estudo sobre as alturas dos moradores de uma cidade verificou-se que o conjunto de dados segue uma **distribuição aproximadamente normal**, com **média 1,70** e **desvio padrão de 0,1**. Com estas informações obtenha o seguinte conjunto de probabilidades:\n",
        "\n",
        "> **A.** probabilidade de uma pessoa, selecionada ao acaso, ter menos de 1,80 metros.\n",
        "\n",
        "> **B.** probabilidade de uma pessoa, selecionada ao acaso, ter entre 1,60 metros e 1,80 metros.    \n",
        "\n",
        "> **C.** probabilidade de uma pessoa, selecionada ao acaso, ter mais de 1,90 metros."
      ]
    },
    {
      "cell_type": "markdown",
      "metadata": {
        "id": "aHpZLwt1G3EC"
      },
      "source": [
        "### Problema A - Identificação da área sob a curva"
      ]
    },
    {
      "cell_type": "markdown",
      "metadata": {
        "id": "V1eC7tydG3EF"
      },
      "source": [
        "<img style='float: left' src='https://caelum-online-public.s3.amazonaws.com/1178-estatistica-parte2/01/img004.png' width='350px'>"
      ]
    },
    {
      "cell_type": "markdown",
      "metadata": {
        "id": "X61wEuRrG3EI"
      },
      "source": [
        "### Obter a variável padronizada $Z$"
      ]
    },
    {
      "cell_type": "code",
      "execution_count": null,
      "metadata": {
        "id": "gNSNIMvZG3EK",
        "colab": {
          "base_uri": "https://localhost:8080/"
        },
        "outputId": "7928f7af-ba61-4850-f5af-ac3409c79e0a"
      },
      "outputs": [
        {
          "output_type": "execute_result",
          "data": {
            "text/plain": [
              "1.7"
            ]
          },
          "metadata": {},
          "execution_count": 45
        }
      ],
      "source": [
        "media = 1.70\n",
        "media"
      ]
    },
    {
      "cell_type": "code",
      "execution_count": null,
      "metadata": {
        "id": "E_f2lycRG3ES",
        "colab": {
          "base_uri": "https://localhost:8080/"
        },
        "outputId": "528def54-b8ae-4589-ba67-8c714f10f833"
      },
      "outputs": [
        {
          "output_type": "execute_result",
          "data": {
            "text/plain": [
              "0.1"
            ]
          },
          "metadata": {},
          "execution_count": 46
        }
      ],
      "source": [
        "desvio_padrao = 0.1\n",
        "desvio_padrao"
      ]
    },
    {
      "cell_type": "code",
      "execution_count": null,
      "metadata": {
        "id": "xnsCkUb6G3EX",
        "colab": {
          "base_uri": "https://localhost:8080/"
        },
        "outputId": "28e0832c-4754-4887-9afa-3d4d3a8dba82"
      },
      "outputs": [
        {
          "output_type": "execute_result",
          "data": {
            "text/plain": [
              "1.0000000000000009"
            ]
          },
          "metadata": {},
          "execution_count": 47
        }
      ],
      "source": [
        "Z = (1.8 - media) / desvio_padrao\n",
        "Z\n"
      ]
    },
    {
      "cell_type": "markdown",
      "metadata": {
        "id": "oj9sgHbkG3Eb"
      },
      "source": [
        "### Solução 1 - Utilizando tabela"
      ]
    },
    {
      "cell_type": "code",
      "execution_count": null,
      "metadata": {
        "id": "ReDTH3WgG3Ec"
      },
      "outputs": [],
      "source": [
        "probabilidade = 0.8413\n",
        "# A resposta do exercicio seria 84.13% de chances"
      ]
    },
    {
      "cell_type": "markdown",
      "metadata": {
        "id": "4ud0OnQOG3Eh"
      },
      "source": [
        "### Solução 2 - Utilizando Scipy"
      ]
    },
    {
      "cell_type": "code",
      "execution_count": null,
      "metadata": {
        "id": "sx7riZVlG3Ei",
        "colab": {
          "base_uri": "https://localhost:8080/"
        },
        "outputId": "f4d006a7-4ab1-4db4-caaf-c7f4b72fae07"
      },
      "outputs": [
        {
          "output_type": "execute_result",
          "data": {
            "text/plain": [
              "0.8413447460685429"
            ]
          },
          "metadata": {},
          "execution_count": 49
        }
      ],
      "source": [
        "from scipy.stats import norm\n",
        "norm.cdf(1)\n",
        "# A resposta do exercicio seria 84.13% de chances, usando a formulo.\n",
        "# seria uma boa forma de consultar a tabela, ao invez de fazer manualmente."
      ]
    },
    {
      "cell_type": "code",
      "source": [
        "## Exercicio Proposto\n",
        "#  A aplicação de uma prova de estatística em um concurso apresentou um conjunto de notas normalmente distribuídas.\n",
        "#  Verificou-se que o conjunto de notas tinha média 70 e desvio padrão de 5 pontos.\n",
        "\n",
        "# Qual a probabilidade de um aluno, selecionado ao acaso, ter nota menor que 85?\n",
        "# media = 70\n",
        "# desvio_padrao = 5\n",
        "# Z = (85 - media) / desvio_padrao\n"
      ],
      "metadata": {
        "id": "v9YXcjbWejqE"
      },
      "execution_count": null,
      "outputs": []
    },
    {
      "cell_type": "code",
      "source": [
        "# media = 70\n",
        "# desvio_padrao = 5\n",
        "# Z = (85 - media) / desvio_padrao\n",
        "# Z\n"
      ],
      "metadata": {
        "id": "LLTQHXyBejad"
      },
      "execution_count": null,
      "outputs": []
    },
    {
      "cell_type": "code",
      "source": [
        "# from scipy.stats import norm\n",
        "# norm.cdf(3)"
      ],
      "metadata": {
        "id": "hs6gxDgVfk1r"
      },
      "execution_count": null,
      "outputs": []
    },
    {
      "cell_type": "markdown",
      "metadata": {
        "id": "ZsnMjGzJG3Ep"
      },
      "source": [
        "### Problema B - Identificação da área sob a curva"
      ]
    },
    {
      "cell_type": "markdown",
      "metadata": {
        "id": "LN2HY-UCG3Ep"
      },
      "source": [
        "<img style='float: left' src='https://caelum-online-public.s3.amazonaws.com/1178-estatistica-parte2/01/img005.png' width='350px'>"
      ]
    },
    {
      "cell_type": "markdown",
      "metadata": {
        "id": "FS6WNg88G3Eq"
      },
      "source": [
        "### Obter a variável padronizada $Z$"
      ]
    },
    {
      "cell_type": "code",
      "execution_count": null,
      "metadata": {
        "id": "mxPsPIOYG3Er",
        "colab": {
          "base_uri": "https://localhost:8080/"
        },
        "outputId": "f317d44e-850f-4362-83f7-87a18fc3771a"
      },
      "outputs": [
        {
          "output_type": "execute_result",
          "data": {
            "text/plain": [
              "-1.0"
            ]
          },
          "metadata": {},
          "execution_count": 53
        }
      ],
      "source": [
        "Z_inferior = (1.6 - media) / desvio_padrao\n",
        "round(Z_inferior, 2)"
      ]
    },
    {
      "cell_type": "code",
      "execution_count": null,
      "metadata": {
        "id": "s0Vf0GXHG3Et",
        "colab": {
          "base_uri": "https://localhost:8080/"
        },
        "outputId": "5099f52a-217f-433d-a472-2d65ee5d3af5"
      },
      "outputs": [
        {
          "output_type": "execute_result",
          "data": {
            "text/plain": [
              "1.0"
            ]
          },
          "metadata": {},
          "execution_count": 54
        }
      ],
      "source": [
        "Z_superior = (1.8 - media) / desvio_padrao\n",
        "round(Z_superior, 2)"
      ]
    },
    {
      "cell_type": "markdown",
      "metadata": {
        "id": "MseXjmZ7G3E0"
      },
      "source": [
        "### Solução 1 - Utilizando tabela"
      ]
    },
    {
      "cell_type": "code",
      "execution_count": null,
      "metadata": {
        "id": "swZ6SVQGG3E0",
        "colab": {
          "base_uri": "https://localhost:8080/"
        },
        "outputId": "34b26b37-8617-4ba0-87b2-ba27874fc7fa"
      },
      "outputs": [
        {
          "output_type": "execute_result",
          "data": {
            "text/plain": [
              "0.6826000000000001"
            ]
          },
          "metadata": {},
          "execution_count": 55
        }
      ],
      "source": [
        "probabilidade = (0.8413 - 0.5000)*2\n",
        "#  Como agora queremos somente o valor de 1.7 até 1.8, teremos que tirar todo o valor da probabilidade\n",
        "#  de 0.5 relativo a área de menos infinito até a metade.\n",
        "probabilidade"
      ]
    },
    {
      "cell_type": "code",
      "source": [
        "probabilidade = 0.8413 - (1 - 0.8413)\n",
        "probabilidade"
      ],
      "metadata": {
        "colab": {
          "base_uri": "https://localhost:8080/"
        },
        "id": "HeG7Fsbgjr5D",
        "outputId": "75c7f293-0afb-4349-98e3-9e3ba574d2d4"
      },
      "execution_count": null,
      "outputs": [
        {
          "output_type": "execute_result",
          "data": {
            "text/plain": [
              "0.6826000000000001"
            ]
          },
          "metadata": {},
          "execution_count": 56
        }
      ]
    },
    {
      "cell_type": "markdown",
      "metadata": {
        "id": "y5e4zAifG3E2"
      },
      "source": [
        "### Solução 2 - Utilizando Scipy"
      ]
    },
    {
      "cell_type": "code",
      "execution_count": null,
      "metadata": {
        "id": "hcps6lkNG3E3",
        "colab": {
          "base_uri": "https://localhost:8080/"
        },
        "outputId": "4dd78c99-5424-40eb-e0a3-8784c411c47d"
      },
      "outputs": [
        {
          "output_type": "execute_result",
          "data": {
            "text/plain": [
              "0.68"
            ]
          },
          "metadata": {},
          "execution_count": 57
        }
      ],
      "source": [
        "probabilidade = norm.cdf(Z_superior) - (1 - norm.cdf(Z_superior))\n",
        "round(probabilidade, 2)"
      ]
    },
    {
      "cell_type": "code",
      "execution_count": null,
      "metadata": {
        "id": "MjEfhnQEG3E5",
        "colab": {
          "base_uri": "https://localhost:8080/"
        },
        "outputId": "e03ea53d-b9dc-45bf-9104-1d4576bf0698"
      },
      "outputs": [
        {
          "output_type": "execute_result",
          "data": {
            "text/plain": [
              "0.6826894921370857"
            ]
          },
          "metadata": {},
          "execution_count": 58
        }
      ],
      "source": [
        "probabilidade = norm.cdf(Z_superior) - norm.cdf(Z_inferior)\n",
        "probabilidade"
      ]
    },
    {
      "cell_type": "code",
      "source": [
        "# Exercicio Proposto\n",
        "\n",
        "# O faturamento diário de um motorista de aplicativo segue uma distribuição aproximadamente normal,\n",
        "# com média R$ 300,00 e desvio padrão igual a R$ 50,00. Obtenha as probabilidades de que, em um dia aleatório,\n",
        "# o motorista ganhe:\n",
        "# 1) Entre R$ 250,00 e R$ 350,00\n",
        "# 2) Entre R$ 400,00 e R$ 500,00\n",
        "\n",
        "media_exercicio = 300\n",
        "desvio_padrao_exercico = 50\n"
      ],
      "metadata": {
        "id": "oZfqAhfXkpEX"
      },
      "execution_count": null,
      "outputs": []
    },
    {
      "cell_type": "code",
      "source": [
        "Z_1_maximo = (350 - media_exercicio) / desvio_padrao_exercico\n",
        "Z_1_maximo"
      ],
      "metadata": {
        "colab": {
          "base_uri": "https://localhost:8080/"
        },
        "id": "PMISaITAko1s",
        "outputId": "6748e7d0-7036-4b59-d0b8-40f9e81dbfc3"
      },
      "execution_count": null,
      "outputs": [
        {
          "output_type": "execute_result",
          "data": {
            "text/plain": [
              "1.0"
            ]
          },
          "metadata": {},
          "execution_count": 60
        }
      ]
    },
    {
      "cell_type": "code",
      "source": [
        "Z_1_minimo = (250 - media_exercicio) / desvio_padrao_exercico\n",
        "Z_1_minimo"
      ],
      "metadata": {
        "colab": {
          "base_uri": "https://localhost:8080/"
        },
        "id": "RRSeD9mTkol0",
        "outputId": "69c611d7-cae4-4318-be80-7365a8c20ff1"
      },
      "execution_count": null,
      "outputs": [
        {
          "output_type": "execute_result",
          "data": {
            "text/plain": [
              "-1.0"
            ]
          },
          "metadata": {},
          "execution_count": 61
        }
      ]
    },
    {
      "cell_type": "code",
      "source": [
        "probabilidade_1 = norm.cdf(Z_1_maximo) - norm.cdf(Z_1_minimo)\n",
        "print(\"{0:.2%}\".format(probabilidade_1))"
      ],
      "metadata": {
        "colab": {
          "base_uri": "https://localhost:8080/"
        },
        "id": "oQpe1qV2mGW6",
        "outputId": "5894b510-7533-400a-9cbf-8f9d29010bf5"
      },
      "execution_count": null,
      "outputs": [
        {
          "output_type": "stream",
          "name": "stdout",
          "text": [
            "68.27%\n"
          ]
        }
      ]
    },
    {
      "cell_type": "code",
      "source": [
        "Z_2_maximo = (500 - media_exercicio) / desvio_padrao_exercico\n",
        "Z_2_maximo"
      ],
      "metadata": {
        "colab": {
          "base_uri": "https://localhost:8080/"
        },
        "id": "mo8fbh0amGKM",
        "outputId": "662c3c13-4ea4-4ff9-fad5-84dfe69413af"
      },
      "execution_count": null,
      "outputs": [
        {
          "output_type": "execute_result",
          "data": {
            "text/plain": [
              "4.0"
            ]
          },
          "metadata": {},
          "execution_count": 63
        }
      ]
    },
    {
      "cell_type": "code",
      "source": [
        "Z_2_minimo = (400 - media_exercicio) / desvio_padrao_exercico\n",
        "Z_2_minimo"
      ],
      "metadata": {
        "colab": {
          "base_uri": "https://localhost:8080/"
        },
        "id": "R3VDuELEmF-p",
        "outputId": "e50b5da4-bff3-4599-fb02-7a21cd0c4dd5"
      },
      "execution_count": null,
      "outputs": [
        {
          "output_type": "execute_result",
          "data": {
            "text/plain": [
              "2.0"
            ]
          },
          "metadata": {},
          "execution_count": 64
        }
      ]
    },
    {
      "cell_type": "code",
      "source": [
        "probabilidade_2 = norm.cdf(Z_2_maximo) - norm.cdf(Z_2_minimo)\n",
        "print(\"{0:.2%}\".format(probabilidade_2))"
      ],
      "metadata": {
        "colab": {
          "base_uri": "https://localhost:8080/"
        },
        "id": "I9DJtHR4mFx9",
        "outputId": "afc69c4b-24e4-4bb8-d6cb-57d12ab7998a"
      },
      "execution_count": null,
      "outputs": [
        {
          "output_type": "stream",
          "name": "stdout",
          "text": [
            "2.27%\n"
          ]
        }
      ]
    },
    {
      "cell_type": "markdown",
      "metadata": {
        "id": "05sqVgdaG3E-"
      },
      "source": [
        "### Problema C - Identificação da área sob a curva"
      ]
    },
    {
      "cell_type": "markdown",
      "metadata": {
        "id": "EPKhGTEkG3E_"
      },
      "source": [
        "<img style='float: left' src='https://caelum-online-public.s3.amazonaws.com/1178-estatistica-parte2/01/img006.png' width='350px'>"
      ]
    },
    {
      "cell_type": "markdown",
      "metadata": {
        "id": "BA6jYbsSG3E_"
      },
      "source": [
        "### Obter a variável padronizada $Z$"
      ]
    },
    {
      "cell_type": "code",
      "execution_count": null,
      "metadata": {
        "id": "3OVj60MzG3E_",
        "colab": {
          "base_uri": "https://localhost:8080/"
        },
        "outputId": "85c8c82f-a438-4492-a191-5e0ac2b3bd3a"
      },
      "outputs": [
        {
          "output_type": "execute_result",
          "data": {
            "text/plain": [
              "1.9999999999999996"
            ]
          },
          "metadata": {},
          "execution_count": 66
        }
      ],
      "source": [
        "Z = (1.9 - media) / desvio_padrao\n",
        "Z"
      ]
    },
    {
      "cell_type": "markdown",
      "metadata": {
        "id": "hCiiWAm_G3FC"
      },
      "source": [
        "### Solução 1 - Utilizando tabela"
      ]
    },
    {
      "cell_type": "code",
      "execution_count": null,
      "metadata": {
        "id": "mSNfoO6VG3FC",
        "colab": {
          "base_uri": "https://localhost:8080/"
        },
        "outputId": "d9ca452c-110f-4d78-d165-d7465d1c582c"
      },
      "outputs": [
        {
          "output_type": "stream",
          "name": "stdout",
          "text": [
            "2.33%\n"
          ]
        }
      ],
      "source": [
        "probabilidade = 1 - 0.9767\n",
        "print(\"{0:.2%}\".format(probabilidade))"
      ]
    },
    {
      "cell_type": "markdown",
      "source": [
        "\n"
      ],
      "metadata": {
        "id": "_Idfrk81oKb5"
      }
    },
    {
      "cell_type": "markdown",
      "metadata": {
        "id": "QCyoVXOdG3FF"
      },
      "source": [
        "### Solução 2 - Utilizando Scipy"
      ]
    },
    {
      "cell_type": "code",
      "execution_count": null,
      "metadata": {
        "id": "caIE-t83G3FF",
        "colab": {
          "base_uri": "https://localhost:8080/"
        },
        "outputId": "1f44a84b-9306-4c40-a1fb-2e44d987f204"
      },
      "outputs": [
        {
          "output_type": "stream",
          "name": "stdout",
          "text": [
            "2.28%\n"
          ]
        }
      ],
      "source": [
        "probabilidade = 1 - norm.cdf(Z)\n",
        "print(\"{0:.2%}\".format(probabilidade))\n"
      ]
    },
    {
      "cell_type": "code",
      "execution_count": null,
      "metadata": {
        "id": "wKjqQGgMG3FI",
        "colab": {
          "base_uri": "https://localhost:8080/"
        },
        "outputId": "b55748d3-752c-4149-91c9-997d0b3fbf76"
      },
      "outputs": [
        {
          "output_type": "stream",
          "name": "stdout",
          "text": [
            "2.28%\n"
          ]
        }
      ],
      "source": [
        "probabilidade = norm.cdf(-Z)\n",
        "print(\"{0:.2%}\".format(probabilidade))"
      ]
    },
    {
      "cell_type": "code",
      "source": [
        "# Exercicios Propostos"
      ],
      "metadata": {
        "id": "30e2Ni5XQUix"
      },
      "execution_count": null,
      "outputs": []
    },
    {
      "cell_type": "code",
      "source": [
        "# O Inmetro verificou que as lâmpadas incandescentes da fabricante XPTO apresentam uma vida útil normalmente distribuída, com média igual a 720 dias\n",
        "# e desvio padrão igual a 30 dias. Calcule a probabilidade de uma lâmpada, escolhida ao acaso, durar:"
      ],
      "metadata": {
        "id": "7RESQmE6QUTs"
      },
      "execution_count": null,
      "outputs": []
    },
    {
      "cell_type": "code",
      "source": [
        "# 1) Entre 650 e 750 dias\n",
        "\n",
        "media_1 = 720\n",
        "desvio_padrao_1 = 30\n",
        "Z_1_minimo = (650 - media_1) / desvio_padrao_1\n",
        "Z_1_minimo"
      ],
      "metadata": {
        "colab": {
          "base_uri": "https://localhost:8080/"
        },
        "id": "ZyCQEOZdQUB_",
        "outputId": "e7cc80d8-9904-4090-8723-2ea443e7d155"
      },
      "execution_count": null,
      "outputs": [
        {
          "output_type": "execute_result",
          "data": {
            "text/plain": [
              "-2.3333333333333335"
            ]
          },
          "metadata": {},
          "execution_count": 72
        }
      ]
    },
    {
      "cell_type": "code",
      "source": [
        "# 1) Entre 650 e 750 dias\n",
        "\n",
        "media_1 = 720\n",
        "desvio_padrao_1 = 30\n",
        "Z_1_maximo = (750 - media_1) / desvio_padrao_1\n",
        "Z_1_maximo"
      ],
      "metadata": {
        "colab": {
          "base_uri": "https://localhost:8080/"
        },
        "id": "MKSMffSSRsJW",
        "outputId": "a57a1f4a-b7cb-4c10-ef79-db4d7dbe6e58"
      },
      "execution_count": null,
      "outputs": [
        {
          "output_type": "execute_result",
          "data": {
            "text/plain": [
              "1.0"
            ]
          },
          "metadata": {},
          "execution_count": 73
        }
      ]
    },
    {
      "cell_type": "code",
      "source": [
        "from scipy.stats import norm\n",
        "probabilidade_1 = norm.cdf(Z_1_maximo) - norm.cdf(Z_1_minimo)\n",
        "print(\"{0:.2%}\".format(probabilidade_1))"
      ],
      "metadata": {
        "colab": {
          "base_uri": "https://localhost:8080/"
        },
        "id": "EqGb5rsdR4g_",
        "outputId": "b4c31dc6-4e9f-465b-886e-86795ceb4c67"
      },
      "execution_count": null,
      "outputs": [
        {
          "output_type": "stream",
          "name": "stdout",
          "text": [
            "83.15%\n"
          ]
        }
      ]
    },
    {
      "cell_type": "code",
      "source": [
        "# 2) Mais que 800 dias\n",
        "media_1 = 720\n",
        "desvio_padrao_1 = 30\n",
        "Z_2 = (800 - media_1) / desvio_padrao_1\n",
        "Z_2\n"
      ],
      "metadata": {
        "colab": {
          "base_uri": "https://localhost:8080/"
        },
        "id": "XutGjbADR4T0",
        "outputId": "726660cb-ba05-486a-8e71-1c9ce02cbc1f"
      },
      "execution_count": null,
      "outputs": [
        {
          "output_type": "execute_result",
          "data": {
            "text/plain": [
              "2.6666666666666665"
            ]
          },
          "metadata": {},
          "execution_count": 75
        }
      ]
    },
    {
      "cell_type": "code",
      "source": [
        "probabilidade_2 = norm.cdf( - Z_2)\n",
        "print(\"{0:.2%}\".format(probabilidade_2))"
      ],
      "metadata": {
        "colab": {
          "base_uri": "https://localhost:8080/"
        },
        "id": "UuxCsqp2R4Fd",
        "outputId": "b9519429-c45e-4d31-ed55-4b931f9f2be7"
      },
      "execution_count": null,
      "outputs": [
        {
          "output_type": "stream",
          "name": "stdout",
          "text": [
            "0.38%\n"
          ]
        }
      ]
    },
    {
      "cell_type": "code",
      "source": [
        "# 3) Menos que 700 dias\n",
        "media_1 = 720\n",
        "desvio_padrao_1 = 30\n",
        "Z_3 = (700 - media_1) / desvio_padrao_1\n",
        "Z_3"
      ],
      "metadata": {
        "colab": {
          "base_uri": "https://localhost:8080/"
        },
        "id": "PCe4GZS4R313",
        "outputId": "733aacf8-6ccf-461e-88b3-cc138c175e05"
      },
      "execution_count": null,
      "outputs": [
        {
          "output_type": "execute_result",
          "data": {
            "text/plain": [
              "-0.6666666666666666"
            ]
          },
          "metadata": {},
          "execution_count": 77
        }
      ]
    },
    {
      "cell_type": "code",
      "source": [
        "probabilidade_3 = norm.cdf(Z_3)\n",
        "print(\"{0:.2%}\".format(probabilidade_3))"
      ],
      "metadata": {
        "colab": {
          "base_uri": "https://localhost:8080/"
        },
        "id": "m6nHrAN7R3kt",
        "outputId": "60f33629-6e09-45cc-e3a9-bcfdf2dd27b1"
      },
      "execution_count": null,
      "outputs": [
        {
          "output_type": "stream",
          "name": "stdout",
          "text": [
            "25.25%\n"
          ]
        }
      ]
    },
    {
      "cell_type": "code",
      "source": [
        "# Exercicio Proposto\n",
        "# Utilizando a tabela padronizada, ou o ferramental disponibilizado pelo Python, encontre a área sob a curva normal para os valores de Z abaixo:"
      ],
      "metadata": {
        "id": "Jqsyi4gNUibB"
      },
      "execution_count": null,
      "outputs": []
    },
    {
      "cell_type": "code",
      "source": [
        "# 1) Z < 1,96\n",
        "Z_2_1 = 1.96\n",
        "probabilidade = norm.cdf(Z_2_1)\n",
        "probabilidade"
      ],
      "metadata": {
        "colab": {
          "base_uri": "https://localhost:8080/"
        },
        "id": "0U3yIz02UiM7",
        "outputId": "2ce26f0b-de7c-4c99-ea04-76ad8f8c4609"
      },
      "execution_count": null,
      "outputs": [
        {
          "output_type": "execute_result",
          "data": {
            "text/plain": [
              "0.9750021048517795"
            ]
          },
          "metadata": {},
          "execution_count": 80
        }
      ]
    },
    {
      "cell_type": "code",
      "source": [
        "# 2) Z > 2,15\n",
        "Z_2_2 = 2.15\n",
        "probabilidade = norm.cdf(- Z_2_2)\n",
        "probabilidade"
      ],
      "metadata": {
        "colab": {
          "base_uri": "https://localhost:8080/"
        },
        "id": "VycB1nCUUh_T",
        "outputId": "2f7f3607-ade8-40f6-a0da-14960d321274"
      },
      "execution_count": null,
      "outputs": [
        {
          "output_type": "execute_result",
          "data": {
            "text/plain": [
              "0.0157776073910905"
            ]
          },
          "metadata": {},
          "execution_count": 81
        }
      ]
    },
    {
      "cell_type": "code",
      "source": [
        "# 3) Z < -0,78\n",
        "Z_2_3 = -0.78\n",
        "probabilidade = norm.cdf(Z_2_3)\n",
        "probabilidade"
      ],
      "metadata": {
        "colab": {
          "base_uri": "https://localhost:8080/"
        },
        "id": "aiRbmBrnUhv9",
        "outputId": "7d913d81-2768-4ce1-b43d-ddc74c25606f"
      },
      "execution_count": null,
      "outputs": [
        {
          "output_type": "execute_result",
          "data": {
            "text/plain": [
              "0.21769543758573312"
            ]
          },
          "metadata": {},
          "execution_count": 82
        }
      ]
    },
    {
      "cell_type": "code",
      "source": [
        "# 4) Z > 0,59\n",
        "Z_2_4 = 0.59\n",
        "probabilidade = norm.cdf(- Z_2_4)\n",
        "probabilidade"
      ],
      "metadata": {
        "colab": {
          "base_uri": "https://localhost:8080/"
        },
        "id": "SMBIu_eJUhkZ",
        "outputId": "06ba09a9-53e1-4cce-e9ab-0fceffe6ad0e"
      },
      "execution_count": null,
      "outputs": [
        {
          "output_type": "execute_result",
          "data": {
            "text/plain": [
              "0.27759532475346493"
            ]
          },
          "metadata": {},
          "execution_count": 83
        }
      ]
    },
    {
      "cell_type": "code",
      "source": [
        "probabilidade = norm.sf(0.59)\n",
        "probabilidade\n",
        "#  O método sf() de norm serve para obtermos o complemento da probabilidade reportada pelo método cdf(), isto é, norm.sf(Z) = 1 - norm.cdf(Z)."
      ],
      "metadata": {
        "colab": {
          "base_uri": "https://localhost:8080/"
        },
        "id": "Wjl4jMjhUhbo",
        "outputId": "d7cbec39-b870-44a8-9b00-53518e11526f"
      },
      "execution_count": null,
      "outputs": [
        {
          "output_type": "execute_result",
          "data": {
            "text/plain": [
              "0.27759532475346493"
            ]
          },
          "metadata": {},
          "execution_count": 84
        }
      ]
    },
    {
      "cell_type": "code",
      "source": [],
      "metadata": {
        "id": "UbffvVcbUhW-"
      },
      "execution_count": null,
      "outputs": []
    },
    {
      "cell_type": "code",
      "source": [],
      "metadata": {
        "id": "9-G6e__ZUhGV"
      },
      "execution_count": null,
      "outputs": []
    },
    {
      "cell_type": "markdown",
      "metadata": {
        "id": "GmmzChE2t4wW"
      },
      "source": [
        "# <font color=green>3 AMOSTRAGEM</font>\n",
        "***"
      ]
    },
    {
      "cell_type": "markdown",
      "metadata": {
        "id": "g8PbtmQZt4Wv"
      },
      "source": [
        "## <font color=green>3.1 População e Amostra</font>\n",
        "***"
      ]
    },
    {
      "cell_type": "markdown",
      "metadata": {
        "id": "sedD5gB9G3FV"
      },
      "source": [
        "### População\n",
        "Conjunto de todos os elementos de interesse em um estudo. Diversos elementos podem compor uma população, por exemplo: pessoas, idades, alturas, carros etc.\n",
        "\n",
        "Com relação ao tamanho, as populações podem ser limitadas (populações finitas) ou ilimitadas (populações infinitas)."
      ]
    },
    {
      "cell_type": "markdown",
      "metadata": {
        "id": "XBFhAWNcG3FW"
      },
      "source": [
        "### Populações finitas\n",
        "\n",
        "Permitem a contagem de seus elementos. Como exemplos temos o número de funcionário de uma empresa, a quantidade de alunos em uma escola etc."
      ]
    },
    {
      "cell_type": "markdown",
      "metadata": {
        "id": "YT8V2GB1G3FW"
      },
      "source": [
        "### Populações infinitas\n",
        "\n",
        "Não é possível contar seus elementos. Como exemplos temos a quantidade de porções que se pode extrair da água do mar para uma análise, temperatura medida em cada ponto de um território etc.\n",
        "\n",
        "<font color=red>Quando os elementos de uma população puderem ser contados, porém apresentando uma quantidade muito grande, assume-se a população como infinita.</font>."
      ]
    },
    {
      "cell_type": "markdown",
      "metadata": {
        "id": "a-WtAXv1G3FX"
      },
      "source": [
        "### Amostra\n",
        "Subconjunto representativo da população."
      ]
    },
    {
      "cell_type": "markdown",
      "metadata": {
        "id": "QWnDYpPSG3FX"
      },
      "source": [
        "Os atributos numéricos de uma população como sua média, variância e desvio padrão, são conhecidos como **parâmetros**. O principal foco da inferência estatística é justamente gerar estimativas e testar hipóteses sobre os parâmetros populacionais utilizando as informações de amostras."
      ]
    },
    {
      "cell_type": "markdown",
      "metadata": {
        "id": "dDz6vFbDG3FZ"
      },
      "source": [
        "## <font color=green>3.2 Quando utilizar uma amostra?</font>\n",
        "***"
      ]
    },
    {
      "cell_type": "markdown",
      "metadata": {
        "id": "5X1YwCGlG3Fe"
      },
      "source": [
        "### Populações infinitas\n",
        "\n",
        "O estudo não chegaria nunca ao fim. Não é possível investigar todos os elementos da população."
      ]
    },
    {
      "cell_type": "markdown",
      "metadata": {
        "id": "jHLtG8HSG3Ff"
      },
      "source": [
        "### Testes destrutivos\n",
        "\n",
        "Estudos onde os elementos avaliados são totalmente consumidos ou destruídos. Exemplo: testes de vida útil, testes de segurança contra colisões em automóveis."
      ]
    },
    {
      "cell_type": "markdown",
      "metadata": {
        "id": "lxYxepmdG3Ff"
      },
      "source": [
        "### Resultados rápidos\n",
        "\n",
        "Pesquisas que precisam de mais agilidade na divulgação. Exemplo: pesquisas de opinião, pesquisas que envolvam problemas de saúde pública."
      ]
    },
    {
      "cell_type": "markdown",
      "metadata": {
        "id": "PeUCGL5nG3Fj"
      },
      "source": [
        "### Custos elevados\n",
        "\n",
        "Quando a população é finita mas muito numerosa, o custo de um censo pode tornar o processo inviável."
      ]
    },
    {
      "cell_type": "markdown",
      "metadata": {
        "id": "1sbJeMpSG3Fj"
      },
      "source": [
        "## <font color=green>3.3 Amostragem Aleatória Simples</font>\n",
        "***"
      ]
    },
    {
      "cell_type": "markdown",
      "metadata": {
        "id": "Kiq9cYMYG3Fp"
      },
      "source": [
        "É uma das principais maneiras de se extrair uma amostra de uma população. A exigência fundamental deste tipo de abordagem é que cada elemeto da população tenha as mesmas chances de ser selecionado para fazer parte da amostra."
      ]
    },
    {
      "cell_type": "code",
      "execution_count": null,
      "metadata": {
        "id": "NtQ8HOYdG3Fq",
        "colab": {
          "base_uri": "https://localhost:8080/"
        },
        "outputId": "e7d59e36-6466-4200-888a-1701e245b966"
      },
      "outputs": [
        {
          "output_type": "execute_result",
          "data": {
            "text/plain": [
              "76840"
            ]
          },
          "metadata": {},
          "execution_count": 86
        }
      ],
      "source": [
        "dados.shape[0]"
      ]
    },
    {
      "cell_type": "code",
      "source": [
        "dados.Renda.mean()"
      ],
      "metadata": {
        "colab": {
          "base_uri": "https://localhost:8080/"
        },
        "id": "Gc45OlpEyR2T",
        "outputId": "145f394d-9c6a-4984-89ec-3f8abee3c19f"
      },
      "execution_count": null,
      "outputs": [
        {
          "output_type": "execute_result",
          "data": {
            "text/plain": [
              "2000.3831988547631"
            ]
          },
          "metadata": {},
          "execution_count": 87
        }
      ]
    },
    {
      "cell_type": "code",
      "execution_count": null,
      "metadata": {
        "id": "DsXJHWhMG3Fs"
      },
      "outputs": [],
      "source": [
        "amostra = dados.sample(n = 1000, random_state = 101)"
      ]
    },
    {
      "cell_type": "code",
      "execution_count": null,
      "metadata": {
        "id": "k7yJucVMG3Fw",
        "colab": {
          "base_uri": "https://localhost:8080/"
        },
        "outputId": "88f3c306-4d94-465b-930e-9acf88ca7cba"
      },
      "outputs": [
        {
          "output_type": "execute_result",
          "data": {
            "text/plain": [
              "1000"
            ]
          },
          "metadata": {},
          "execution_count": 96
        }
      ],
      "source": [
        "amostra.shape[0]"
      ]
    },
    {
      "cell_type": "code",
      "execution_count": null,
      "metadata": {
        "id": "wUyXS65sG3F2",
        "colab": {
          "base_uri": "https://localhost:8080/"
        },
        "outputId": "d5d971ea-cbc0-4238-de9b-752a4c0a4f32"
      },
      "outputs": [
        {
          "output_type": "execute_result",
          "data": {
            "text/plain": [
              "1998.783"
            ]
          },
          "metadata": {},
          "execution_count": 97
        }
      ],
      "source": [
        "amostra.Renda.mean()"
      ]
    },
    {
      "cell_type": "code",
      "execution_count": null,
      "metadata": {
        "id": "y0J4UtOwG3F5",
        "colab": {
          "base_uri": "https://localhost:8080/"
        },
        "outputId": "ecb26500-1986-4d91-8080-9e510209ee83"
      },
      "outputs": [
        {
          "output_type": "execute_result",
          "data": {
            "text/plain": [
              "0    0.692998\n",
              "1    0.307002\n",
              "Name: Sexo, dtype: float64"
            ]
          },
          "metadata": {},
          "execution_count": 98
        }
      ],
      "source": [
        "dados.Sexo.value_counts(normalize = True)"
      ]
    },
    {
      "cell_type": "code",
      "execution_count": null,
      "metadata": {
        "id": "WGZT_wnjSgPy",
        "colab": {
          "base_uri": "https://localhost:8080/"
        },
        "outputId": "5b7c2c30-c26c-459d-a214-adb428a16fe3"
      },
      "outputs": [
        {
          "output_type": "execute_result",
          "data": {
            "text/plain": [
              "0    0.706\n",
              "1    0.294\n",
              "Name: Sexo, dtype: float64"
            ]
          },
          "metadata": {},
          "execution_count": 99
        }
      ],
      "source": [
        "amostra.Sexo.value_counts(normalize = True)"
      ]
    },
    {
      "cell_type": "markdown",
      "metadata": {
        "id": "stcKhnJBG3F7"
      },
      "source": [
        "## <font color=green>3.4 Amostragem Estratificada</font>\n",
        "***"
      ]
    },
    {
      "cell_type": "markdown",
      "metadata": {
        "id": "W1uEZMRIG3GA"
      },
      "source": [
        "É uma melhoria do processo de amostragem aleatória simples. Neste método é proposta a divisão da população em subgrupos de elementos com características similares, ou seja, grupos mais homogêneos. Com estes subgrupos separados, aplica-se a técnica de amostragem aleatória simples dentro de cada subgrupo individualmente."
      ]
    },
    {
      "cell_type": "markdown",
      "metadata": {
        "id": "xRjUHDAbG3GB"
      },
      "source": [
        "## <font color=green>3.5 Amostragem por Conglomerados</font>\n",
        "***"
      ]
    },
    {
      "cell_type": "markdown",
      "metadata": {
        "id": "sW9IuaL9G3GH"
      },
      "source": [
        "Também visa melhorar o critério de amostragem aleatória simples. Na amostragem por conglomerados são também criados subgrupos, porém não serão homogêneas como na amostragem estratificada. Na amostragem por conglomerados os subgrupos serão heterogêneos, onde, em seguida, serão aplicadas a amostragem aleatória simples ou estratificada.\n",
        "\n",
        "Um exemplo bastante comum de aplicação deste tipo de técnica é na divisão da população em grupos territoriais, onde os elementos investigados terão características bastante variadas."
      ]
    },
    {
      "cell_type": "markdown",
      "metadata": {
        "id": "2LNJT4FEuzO4"
      },
      "source": [
        "# <font color=green>4 ESTIMAÇÃO</font>\n",
        "***"
      ]
    },
    {
      "cell_type": "markdown",
      "metadata": {
        "id": "z69W2sVGmybS"
      },
      "source": [
        "## <font color='red'>Problema </font>"
      ]
    },
    {
      "cell_type": "markdown",
      "metadata": {
        "id": "ytP6VpismwDY"
      },
      "source": [
        "Suponha que os pesos dos sacos de arroz de uma indústria alimentícia se distribuem aproximadamente como uma normal de **desvio padrão populacional igual a 150 g**. Selecionada uma **amostra aleatório de 20 sacos** de um lote específico, obteve-se um **peso médio de 5.050 g**. Construa um **intervalo de confiança para a média populacional** assumindo um **nível de significância de 5%**."
      ]
    },
    {
      "cell_type": "markdown",
      "metadata": {
        "id": "PCqEvJMOwvUf"
      },
      "source": [
        "---"
      ]
    },
    {
      "cell_type": "markdown",
      "metadata": {
        "id": "HU578SXBG3GN"
      },
      "source": [
        "É a forma de se fazer suposições generalizadas sobre os parâmetros de uma população tendo como base as informações de uma amostra.\n",
        "\n",
        "- **Parâmetros** são os atributos numéricos de uma população, tal como a média, desvio padrão etc.\n",
        "\n",
        "- **Estimativa** é o valor obtido para determinado parâmetro a partir dos dados de uma amostra da população."
      ]
    },
    {
      "cell_type": "markdown",
      "metadata": {
        "id": "klWVkoUDG3GR"
      },
      "source": [
        "## <font color=green>4.1 Teorema do limite central</font>\n",
        "***"
      ]
    },
    {
      "cell_type": "markdown",
      "metadata": {
        "id": "QpgTvbISG3GU"
      },
      "source": [
        "> O **Teorema do Limite Central** afirma que, com o aumento do tamanho da amostra, a distribuição das médias amostrais se aproxima de uma distribuição normal com média igual à média da população e desvio padrão igual ao desvio padrão da variável original dividido pela raiz quadrada do tamanho da amostra. Este fato é assegurado para $n$ maior ou igual a 30."
      ]
    },
    {
      "cell_type": "markdown",
      "metadata": {
        "id": "ZIAr6is3wEMp"
      },
      "source": [
        "# $$\\sigma_\\bar{x} = \\frac{\\sigma}{\\sqrt{n}}$$\n",
        "\n",
        "O desvio padrão das médias amostrais é conhecido como **erro padrão da média**"
      ]
    },
    {
      "cell_type": "markdown",
      "metadata": {
        "id": "eFtSo6H0iz7z"
      },
      "source": [
        "### Entendendo o Teorema do Limite Central"
      ]
    },
    {
      "cell_type": "code",
      "execution_count": null,
      "metadata": {
        "id": "S3q73XpnizTi"
      },
      "outputs": [],
      "source": [
        "n = 2000\n",
        "total_de_amostras = 1500"
      ]
    },
    {
      "cell_type": "code",
      "execution_count": null,
      "metadata": {
        "id": "uXZvARZ0izQp",
        "colab": {
          "base_uri": "https://localhost:8080/",
          "height": 49
        },
        "outputId": "b79405e0-dd6a-428d-9c2b-0bb4286881d8"
      },
      "outputs": [
        {
          "output_type": "execute_result",
          "data": {
            "text/plain": [
              "Empty DataFrame\n",
              "Columns: []\n",
              "Index: []"
            ],
            "text/html": [
              "\n",
              "  <div id=\"df-6451778f-8ec5-42f6-9316-48baede7a8e8\">\n",
              "    <div class=\"colab-df-container\">\n",
              "      <div>\n",
              "<style scoped>\n",
              "    .dataframe tbody tr th:only-of-type {\n",
              "        vertical-align: middle;\n",
              "    }\n",
              "\n",
              "    .dataframe tbody tr th {\n",
              "        vertical-align: top;\n",
              "    }\n",
              "\n",
              "    .dataframe thead th {\n",
              "        text-align: right;\n",
              "    }\n",
              "</style>\n",
              "<table border=\"1\" class=\"dataframe\">\n",
              "  <thead>\n",
              "    <tr style=\"text-align: right;\">\n",
              "      <th></th>\n",
              "    </tr>\n",
              "  </thead>\n",
              "  <tbody>\n",
              "  </tbody>\n",
              "</table>\n",
              "</div>\n",
              "      <button class=\"colab-df-convert\" onclick=\"convertToInteractive('df-6451778f-8ec5-42f6-9316-48baede7a8e8')\"\n",
              "              title=\"Convert this dataframe to an interactive table.\"\n",
              "              style=\"display:none;\">\n",
              "        \n",
              "  <svg xmlns=\"http://www.w3.org/2000/svg\" height=\"24px\"viewBox=\"0 0 24 24\"\n",
              "       width=\"24px\">\n",
              "    <path d=\"M0 0h24v24H0V0z\" fill=\"none\"/>\n",
              "    <path d=\"M18.56 5.44l.94 2.06.94-2.06 2.06-.94-2.06-.94-.94-2.06-.94 2.06-2.06.94zm-11 1L8.5 8.5l.94-2.06 2.06-.94-2.06-.94L8.5 2.5l-.94 2.06-2.06.94zm10 10l.94 2.06.94-2.06 2.06-.94-2.06-.94-.94-2.06-.94 2.06-2.06.94z\"/><path d=\"M17.41 7.96l-1.37-1.37c-.4-.4-.92-.59-1.43-.59-.52 0-1.04.2-1.43.59L10.3 9.45l-7.72 7.72c-.78.78-.78 2.05 0 2.83L4 21.41c.39.39.9.59 1.41.59.51 0 1.02-.2 1.41-.59l7.78-7.78 2.81-2.81c.8-.78.8-2.07 0-2.86zM5.41 20L4 18.59l7.72-7.72 1.47 1.35L5.41 20z\"/>\n",
              "  </svg>\n",
              "      </button>\n",
              "      \n",
              "  <style>\n",
              "    .colab-df-container {\n",
              "      display:flex;\n",
              "      flex-wrap:wrap;\n",
              "      gap: 12px;\n",
              "    }\n",
              "\n",
              "    .colab-df-convert {\n",
              "      background-color: #E8F0FE;\n",
              "      border: none;\n",
              "      border-radius: 50%;\n",
              "      cursor: pointer;\n",
              "      display: none;\n",
              "      fill: #1967D2;\n",
              "      height: 32px;\n",
              "      padding: 0 0 0 0;\n",
              "      width: 32px;\n",
              "    }\n",
              "\n",
              "    .colab-df-convert:hover {\n",
              "      background-color: #E2EBFA;\n",
              "      box-shadow: 0px 1px 2px rgba(60, 64, 67, 0.3), 0px 1px 3px 1px rgba(60, 64, 67, 0.15);\n",
              "      fill: #174EA6;\n",
              "    }\n",
              "\n",
              "    [theme=dark] .colab-df-convert {\n",
              "      background-color: #3B4455;\n",
              "      fill: #D2E3FC;\n",
              "    }\n",
              "\n",
              "    [theme=dark] .colab-df-convert:hover {\n",
              "      background-color: #434B5C;\n",
              "      box-shadow: 0px 1px 3px 1px rgba(0, 0, 0, 0.15);\n",
              "      filter: drop-shadow(0px 1px 2px rgba(0, 0, 0, 0.3));\n",
              "      fill: #FFFFFF;\n",
              "    }\n",
              "  </style>\n",
              "\n",
              "      <script>\n",
              "        const buttonEl =\n",
              "          document.querySelector('#df-6451778f-8ec5-42f6-9316-48baede7a8e8 button.colab-df-convert');\n",
              "        buttonEl.style.display =\n",
              "          google.colab.kernel.accessAllowed ? 'block' : 'none';\n",
              "\n",
              "        async function convertToInteractive(key) {\n",
              "          const element = document.querySelector('#df-6451778f-8ec5-42f6-9316-48baede7a8e8');\n",
              "          const dataTable =\n",
              "            await google.colab.kernel.invokeFunction('convertToInteractive',\n",
              "                                                     [key], {});\n",
              "          if (!dataTable) return;\n",
              "\n",
              "          const docLinkHtml = 'Like what you see? Visit the ' +\n",
              "            '<a target=\"_blank\" href=https://colab.research.google.com/notebooks/data_table.ipynb>data table notebook</a>'\n",
              "            + ' to learn more about interactive tables.';\n",
              "          element.innerHTML = '';\n",
              "          dataTable['output_type'] = 'display_data';\n",
              "          await google.colab.output.renderOutput(dataTable, element);\n",
              "          const docLink = document.createElement('div');\n",
              "          docLink.innerHTML = docLinkHtml;\n",
              "          element.appendChild(docLink);\n",
              "        }\n",
              "      </script>\n",
              "    </div>\n",
              "  </div>\n",
              "  "
            ]
          },
          "metadata": {},
          "execution_count": 102
        }
      ],
      "source": [
        "amostras = pd.DataFrame()\n",
        "amostras"
      ]
    },
    {
      "cell_type": "code",
      "execution_count": null,
      "metadata": {
        "id": "tXa7XKhKTyMu",
        "scrolled": true,
        "colab": {
          "base_uri": "https://localhost:8080/",
          "height": 488
        },
        "outputId": "4bab0962-8ad7-4b47-d0ee-4c490e08ebc1"
      },
      "outputs": [
        {
          "output_type": "execute_result",
          "data": {
            "text/plain": [
              "      Amostra_0  Amostra_1  Amostra_2  Amostra_3  Amostra_4  Amostra_5  \\\n",
              "0            57         53         39         31         42         35   \n",
              "1            44         54         54         54         80         58   \n",
              "2            24         75         41         33         48         46   \n",
              "3            48         41         29         41         49         60   \n",
              "4            36         69         36         44         38         48   \n",
              "...         ...        ...        ...        ...        ...        ...   \n",
              "1995         59         29         45         42         41         36   \n",
              "1996         66         68         34         52         22         30   \n",
              "1997         39         59         22         39         71         33   \n",
              "1998         58         50         40         26         43         56   \n",
              "1999         51         61         41         52         50         38   \n",
              "\n",
              "      Amostra_6  Amostra_7  Amostra_8  Amostra_9  ...  Amostra_1490  \\\n",
              "0            28         37         35         41  ...            35   \n",
              "1            64         78         76         24  ...            21   \n",
              "2            27         39         29         29  ...            19   \n",
              "3            33         20         46         56  ...            48   \n",
              "4            42         68         20         71  ...            62   \n",
              "...         ...        ...        ...        ...  ...           ...   \n",
              "1995         29         53         30         34  ...            28   \n",
              "1996         49         44         39         51  ...            50   \n",
              "1997         42         45         47         42  ...            60   \n",
              "1998         37         27         41         32  ...            19   \n",
              "1999         33         28         41         57  ...            50   \n",
              "\n",
              "      Amostra_1491  Amostra_1492  Amostra_1493  Amostra_1494  Amostra_1495  \\\n",
              "0               58            28            61            53            43   \n",
              "1               41            64            60            55            31   \n",
              "2               32            59            23            60            54   \n",
              "3               45            24            26            30            36   \n",
              "4               49            67            40            42            56   \n",
              "...            ...           ...           ...           ...           ...   \n",
              "1995            55            72            63            41            75   \n",
              "1996            40            43            30            43            33   \n",
              "1997            52            52            40            35            41   \n",
              "1998            52            45            52            29            30   \n",
              "1999            51            48            69            24            51   \n",
              "\n",
              "      Amostra_1496  Amostra_1497  Amostra_1498  Amostra_1499  \n",
              "0               34            33            29            50  \n",
              "1               50            28            72            39  \n",
              "2               51            57            50            73  \n",
              "3               24            55            32            57  \n",
              "4               61            51            64            47  \n",
              "...            ...           ...           ...           ...  \n",
              "1995            33            59            40            53  \n",
              "1996            40            26            23            38  \n",
              "1997            32            21            55            24  \n",
              "1998            27            45            36            39  \n",
              "1999            28            52            45            23  \n",
              "\n",
              "[2000 rows x 1500 columns]"
            ],
            "text/html": [
              "\n",
              "  <div id=\"df-f82ecc05-aa30-40a6-af1a-091aaadbf3ad\">\n",
              "    <div class=\"colab-df-container\">\n",
              "      <div>\n",
              "<style scoped>\n",
              "    .dataframe tbody tr th:only-of-type {\n",
              "        vertical-align: middle;\n",
              "    }\n",
              "\n",
              "    .dataframe tbody tr th {\n",
              "        vertical-align: top;\n",
              "    }\n",
              "\n",
              "    .dataframe thead th {\n",
              "        text-align: right;\n",
              "    }\n",
              "</style>\n",
              "<table border=\"1\" class=\"dataframe\">\n",
              "  <thead>\n",
              "    <tr style=\"text-align: right;\">\n",
              "      <th></th>\n",
              "      <th>Amostra_0</th>\n",
              "      <th>Amostra_1</th>\n",
              "      <th>Amostra_2</th>\n",
              "      <th>Amostra_3</th>\n",
              "      <th>Amostra_4</th>\n",
              "      <th>Amostra_5</th>\n",
              "      <th>Amostra_6</th>\n",
              "      <th>Amostra_7</th>\n",
              "      <th>Amostra_8</th>\n",
              "      <th>Amostra_9</th>\n",
              "      <th>...</th>\n",
              "      <th>Amostra_1490</th>\n",
              "      <th>Amostra_1491</th>\n",
              "      <th>Amostra_1492</th>\n",
              "      <th>Amostra_1493</th>\n",
              "      <th>Amostra_1494</th>\n",
              "      <th>Amostra_1495</th>\n",
              "      <th>Amostra_1496</th>\n",
              "      <th>Amostra_1497</th>\n",
              "      <th>Amostra_1498</th>\n",
              "      <th>Amostra_1499</th>\n",
              "    </tr>\n",
              "  </thead>\n",
              "  <tbody>\n",
              "    <tr>\n",
              "      <th>0</th>\n",
              "      <td>57</td>\n",
              "      <td>53</td>\n",
              "      <td>39</td>\n",
              "      <td>31</td>\n",
              "      <td>42</td>\n",
              "      <td>35</td>\n",
              "      <td>28</td>\n",
              "      <td>37</td>\n",
              "      <td>35</td>\n",
              "      <td>41</td>\n",
              "      <td>...</td>\n",
              "      <td>35</td>\n",
              "      <td>58</td>\n",
              "      <td>28</td>\n",
              "      <td>61</td>\n",
              "      <td>53</td>\n",
              "      <td>43</td>\n",
              "      <td>34</td>\n",
              "      <td>33</td>\n",
              "      <td>29</td>\n",
              "      <td>50</td>\n",
              "    </tr>\n",
              "    <tr>\n",
              "      <th>1</th>\n",
              "      <td>44</td>\n",
              "      <td>54</td>\n",
              "      <td>54</td>\n",
              "      <td>54</td>\n",
              "      <td>80</td>\n",
              "      <td>58</td>\n",
              "      <td>64</td>\n",
              "      <td>78</td>\n",
              "      <td>76</td>\n",
              "      <td>24</td>\n",
              "      <td>...</td>\n",
              "      <td>21</td>\n",
              "      <td>41</td>\n",
              "      <td>64</td>\n",
              "      <td>60</td>\n",
              "      <td>55</td>\n",
              "      <td>31</td>\n",
              "      <td>50</td>\n",
              "      <td>28</td>\n",
              "      <td>72</td>\n",
              "      <td>39</td>\n",
              "    </tr>\n",
              "    <tr>\n",
              "      <th>2</th>\n",
              "      <td>24</td>\n",
              "      <td>75</td>\n",
              "      <td>41</td>\n",
              "      <td>33</td>\n",
              "      <td>48</td>\n",
              "      <td>46</td>\n",
              "      <td>27</td>\n",
              "      <td>39</td>\n",
              "      <td>29</td>\n",
              "      <td>29</td>\n",
              "      <td>...</td>\n",
              "      <td>19</td>\n",
              "      <td>32</td>\n",
              "      <td>59</td>\n",
              "      <td>23</td>\n",
              "      <td>60</td>\n",
              "      <td>54</td>\n",
              "      <td>51</td>\n",
              "      <td>57</td>\n",
              "      <td>50</td>\n",
              "      <td>73</td>\n",
              "    </tr>\n",
              "    <tr>\n",
              "      <th>3</th>\n",
              "      <td>48</td>\n",
              "      <td>41</td>\n",
              "      <td>29</td>\n",
              "      <td>41</td>\n",
              "      <td>49</td>\n",
              "      <td>60</td>\n",
              "      <td>33</td>\n",
              "      <td>20</td>\n",
              "      <td>46</td>\n",
              "      <td>56</td>\n",
              "      <td>...</td>\n",
              "      <td>48</td>\n",
              "      <td>45</td>\n",
              "      <td>24</td>\n",
              "      <td>26</td>\n",
              "      <td>30</td>\n",
              "      <td>36</td>\n",
              "      <td>24</td>\n",
              "      <td>55</td>\n",
              "      <td>32</td>\n",
              "      <td>57</td>\n",
              "    </tr>\n",
              "    <tr>\n",
              "      <th>4</th>\n",
              "      <td>36</td>\n",
              "      <td>69</td>\n",
              "      <td>36</td>\n",
              "      <td>44</td>\n",
              "      <td>38</td>\n",
              "      <td>48</td>\n",
              "      <td>42</td>\n",
              "      <td>68</td>\n",
              "      <td>20</td>\n",
              "      <td>71</td>\n",
              "      <td>...</td>\n",
              "      <td>62</td>\n",
              "      <td>49</td>\n",
              "      <td>67</td>\n",
              "      <td>40</td>\n",
              "      <td>42</td>\n",
              "      <td>56</td>\n",
              "      <td>61</td>\n",
              "      <td>51</td>\n",
              "      <td>64</td>\n",
              "      <td>47</td>\n",
              "    </tr>\n",
              "    <tr>\n",
              "      <th>...</th>\n",
              "      <td>...</td>\n",
              "      <td>...</td>\n",
              "      <td>...</td>\n",
              "      <td>...</td>\n",
              "      <td>...</td>\n",
              "      <td>...</td>\n",
              "      <td>...</td>\n",
              "      <td>...</td>\n",
              "      <td>...</td>\n",
              "      <td>...</td>\n",
              "      <td>...</td>\n",
              "      <td>...</td>\n",
              "      <td>...</td>\n",
              "      <td>...</td>\n",
              "      <td>...</td>\n",
              "      <td>...</td>\n",
              "      <td>...</td>\n",
              "      <td>...</td>\n",
              "      <td>...</td>\n",
              "      <td>...</td>\n",
              "      <td>...</td>\n",
              "    </tr>\n",
              "    <tr>\n",
              "      <th>1995</th>\n",
              "      <td>59</td>\n",
              "      <td>29</td>\n",
              "      <td>45</td>\n",
              "      <td>42</td>\n",
              "      <td>41</td>\n",
              "      <td>36</td>\n",
              "      <td>29</td>\n",
              "      <td>53</td>\n",
              "      <td>30</td>\n",
              "      <td>34</td>\n",
              "      <td>...</td>\n",
              "      <td>28</td>\n",
              "      <td>55</td>\n",
              "      <td>72</td>\n",
              "      <td>63</td>\n",
              "      <td>41</td>\n",
              "      <td>75</td>\n",
              "      <td>33</td>\n",
              "      <td>59</td>\n",
              "      <td>40</td>\n",
              "      <td>53</td>\n",
              "    </tr>\n",
              "    <tr>\n",
              "      <th>1996</th>\n",
              "      <td>66</td>\n",
              "      <td>68</td>\n",
              "      <td>34</td>\n",
              "      <td>52</td>\n",
              "      <td>22</td>\n",
              "      <td>30</td>\n",
              "      <td>49</td>\n",
              "      <td>44</td>\n",
              "      <td>39</td>\n",
              "      <td>51</td>\n",
              "      <td>...</td>\n",
              "      <td>50</td>\n",
              "      <td>40</td>\n",
              "      <td>43</td>\n",
              "      <td>30</td>\n",
              "      <td>43</td>\n",
              "      <td>33</td>\n",
              "      <td>40</td>\n",
              "      <td>26</td>\n",
              "      <td>23</td>\n",
              "      <td>38</td>\n",
              "    </tr>\n",
              "    <tr>\n",
              "      <th>1997</th>\n",
              "      <td>39</td>\n",
              "      <td>59</td>\n",
              "      <td>22</td>\n",
              "      <td>39</td>\n",
              "      <td>71</td>\n",
              "      <td>33</td>\n",
              "      <td>42</td>\n",
              "      <td>45</td>\n",
              "      <td>47</td>\n",
              "      <td>42</td>\n",
              "      <td>...</td>\n",
              "      <td>60</td>\n",
              "      <td>52</td>\n",
              "      <td>52</td>\n",
              "      <td>40</td>\n",
              "      <td>35</td>\n",
              "      <td>41</td>\n",
              "      <td>32</td>\n",
              "      <td>21</td>\n",
              "      <td>55</td>\n",
              "      <td>24</td>\n",
              "    </tr>\n",
              "    <tr>\n",
              "      <th>1998</th>\n",
              "      <td>58</td>\n",
              "      <td>50</td>\n",
              "      <td>40</td>\n",
              "      <td>26</td>\n",
              "      <td>43</td>\n",
              "      <td>56</td>\n",
              "      <td>37</td>\n",
              "      <td>27</td>\n",
              "      <td>41</td>\n",
              "      <td>32</td>\n",
              "      <td>...</td>\n",
              "      <td>19</td>\n",
              "      <td>52</td>\n",
              "      <td>45</td>\n",
              "      <td>52</td>\n",
              "      <td>29</td>\n",
              "      <td>30</td>\n",
              "      <td>27</td>\n",
              "      <td>45</td>\n",
              "      <td>36</td>\n",
              "      <td>39</td>\n",
              "    </tr>\n",
              "    <tr>\n",
              "      <th>1999</th>\n",
              "      <td>51</td>\n",
              "      <td>61</td>\n",
              "      <td>41</td>\n",
              "      <td>52</td>\n",
              "      <td>50</td>\n",
              "      <td>38</td>\n",
              "      <td>33</td>\n",
              "      <td>28</td>\n",
              "      <td>41</td>\n",
              "      <td>57</td>\n",
              "      <td>...</td>\n",
              "      <td>50</td>\n",
              "      <td>51</td>\n",
              "      <td>48</td>\n",
              "      <td>69</td>\n",
              "      <td>24</td>\n",
              "      <td>51</td>\n",
              "      <td>28</td>\n",
              "      <td>52</td>\n",
              "      <td>45</td>\n",
              "      <td>23</td>\n",
              "    </tr>\n",
              "  </tbody>\n",
              "</table>\n",
              "<p>2000 rows × 1500 columns</p>\n",
              "</div>\n",
              "      <button class=\"colab-df-convert\" onclick=\"convertToInteractive('df-f82ecc05-aa30-40a6-af1a-091aaadbf3ad')\"\n",
              "              title=\"Convert this dataframe to an interactive table.\"\n",
              "              style=\"display:none;\">\n",
              "        \n",
              "  <svg xmlns=\"http://www.w3.org/2000/svg\" height=\"24px\"viewBox=\"0 0 24 24\"\n",
              "       width=\"24px\">\n",
              "    <path d=\"M0 0h24v24H0V0z\" fill=\"none\"/>\n",
              "    <path d=\"M18.56 5.44l.94 2.06.94-2.06 2.06-.94-2.06-.94-.94-2.06-.94 2.06-2.06.94zm-11 1L8.5 8.5l.94-2.06 2.06-.94-2.06-.94L8.5 2.5l-.94 2.06-2.06.94zm10 10l.94 2.06.94-2.06 2.06-.94-2.06-.94-.94-2.06-.94 2.06-2.06.94z\"/><path d=\"M17.41 7.96l-1.37-1.37c-.4-.4-.92-.59-1.43-.59-.52 0-1.04.2-1.43.59L10.3 9.45l-7.72 7.72c-.78.78-.78 2.05 0 2.83L4 21.41c.39.39.9.59 1.41.59.51 0 1.02-.2 1.41-.59l7.78-7.78 2.81-2.81c.8-.78.8-2.07 0-2.86zM5.41 20L4 18.59l7.72-7.72 1.47 1.35L5.41 20z\"/>\n",
              "  </svg>\n",
              "      </button>\n",
              "      \n",
              "  <style>\n",
              "    .colab-df-container {\n",
              "      display:flex;\n",
              "      flex-wrap:wrap;\n",
              "      gap: 12px;\n",
              "    }\n",
              "\n",
              "    .colab-df-convert {\n",
              "      background-color: #E8F0FE;\n",
              "      border: none;\n",
              "      border-radius: 50%;\n",
              "      cursor: pointer;\n",
              "      display: none;\n",
              "      fill: #1967D2;\n",
              "      height: 32px;\n",
              "      padding: 0 0 0 0;\n",
              "      width: 32px;\n",
              "    }\n",
              "\n",
              "    .colab-df-convert:hover {\n",
              "      background-color: #E2EBFA;\n",
              "      box-shadow: 0px 1px 2px rgba(60, 64, 67, 0.3), 0px 1px 3px 1px rgba(60, 64, 67, 0.15);\n",
              "      fill: #174EA6;\n",
              "    }\n",
              "\n",
              "    [theme=dark] .colab-df-convert {\n",
              "      background-color: #3B4455;\n",
              "      fill: #D2E3FC;\n",
              "    }\n",
              "\n",
              "    [theme=dark] .colab-df-convert:hover {\n",
              "      background-color: #434B5C;\n",
              "      box-shadow: 0px 1px 3px 1px rgba(0, 0, 0, 0.15);\n",
              "      filter: drop-shadow(0px 1px 2px rgba(0, 0, 0, 0.3));\n",
              "      fill: #FFFFFF;\n",
              "    }\n",
              "  </style>\n",
              "\n",
              "      <script>\n",
              "        const buttonEl =\n",
              "          document.querySelector('#df-f82ecc05-aa30-40a6-af1a-091aaadbf3ad button.colab-df-convert');\n",
              "        buttonEl.style.display =\n",
              "          google.colab.kernel.accessAllowed ? 'block' : 'none';\n",
              "\n",
              "        async function convertToInteractive(key) {\n",
              "          const element = document.querySelector('#df-f82ecc05-aa30-40a6-af1a-091aaadbf3ad');\n",
              "          const dataTable =\n",
              "            await google.colab.kernel.invokeFunction('convertToInteractive',\n",
              "                                                     [key], {});\n",
              "          if (!dataTable) return;\n",
              "\n",
              "          const docLinkHtml = 'Like what you see? Visit the ' +\n",
              "            '<a target=\"_blank\" href=https://colab.research.google.com/notebooks/data_table.ipynb>data table notebook</a>'\n",
              "            + ' to learn more about interactive tables.';\n",
              "          element.innerHTML = '';\n",
              "          dataTable['output_type'] = 'display_data';\n",
              "          await google.colab.output.renderOutput(dataTable, element);\n",
              "          const docLink = document.createElement('div');\n",
              "          docLink.innerHTML = docLinkHtml;\n",
              "          element.appendChild(docLink);\n",
              "        }\n",
              "      </script>\n",
              "    </div>\n",
              "  </div>\n",
              "  "
            ]
          },
          "metadata": {},
          "execution_count": 106
        }
      ],
      "source": [
        "for i in range(total_de_amostras):\n",
        "  _ = dados.Idade.sample(n)\n",
        "  _.index = range(0, len(_)) # Linhas: de 0 a 2000\n",
        "  amostras['Amostra_' + str(i)] = _ # Colunas\n",
        "\n",
        "amostras"
      ]
    },
    {
      "cell_type": "code",
      "execution_count": null,
      "metadata": {
        "id": "v5Q-rnS_izNd",
        "scrolled": true,
        "colab": {
          "base_uri": "https://localhost:8080/"
        },
        "outputId": "2c13fa63-74c5-4a69-98b5-389b484d2520"
      },
      "outputs": [
        {
          "output_type": "execute_result",
          "data": {
            "text/plain": [
              "Amostra_0       44.525\n",
              "Amostra_1       43.978\n",
              "Amostra_2       44.405\n",
              "Amostra_3       43.948\n",
              "Amostra_4       43.837\n",
              "                 ...  \n",
              "Amostra_1495    44.128\n",
              "Amostra_1496    44.447\n",
              "Amostra_1497    44.382\n",
              "Amostra_1498    43.893\n",
              "Amostra_1499    43.751\n",
              "Length: 1500, dtype: float64"
            ]
          },
          "metadata": {},
          "execution_count": 107
        }
      ],
      "source": [
        "amostras.mean()"
      ]
    },
    {
      "cell_type": "markdown",
      "metadata": {
        "id": "JfgEBDx0jDzf"
      },
      "source": [
        "> O Teorema do Limite Central afirma que, **com o aumento do tamanho da amostra, a distribuição das médias amostrais se aproxima de uma distribuição normal** com média igual à média da população e desvio padrão igual ao desvio padrão da variável original dividido pela raiz quadrada do tamanho da amostra. Este fato é assegurado para n maior ou igual a 30."
      ]
    },
    {
      "cell_type": "code",
      "execution_count": null,
      "metadata": {
        "id": "giJKqa_9izKF",
        "colab": {
          "base_uri": "https://localhost:8080/",
          "height": 447
        },
        "outputId": "02442419-f44a-4a6b-d8e6-d2f793f66c40"
      },
      "outputs": [
        {
          "output_type": "execute_result",
          "data": {
            "text/plain": [
              "<Axes: >"
            ]
          },
          "metadata": {},
          "execution_count": 109
        },
        {
          "output_type": "display_data",
          "data": {
            "text/plain": [
              "<Figure size 640x480 with 1 Axes>"
            ],
            "image/png": "[encoded data removed]"
          },
          "metadata": {}
        }
      ],
      "source": [
        "amostras.mean().hist()"
      ]
    },
    {
      "cell_type": "markdown",
      "metadata": {
        "id": "_A4RKStwjkLI"
      },
      "source": [
        "> O Teorema do Limite Central afirma que, com o aumento do tamanho da amostra, a distribuição das médias amostrais se aproxima de uma distribuição normal **com média igual à média da população** e desvio padrão igual ao desvio padrão da variável original dividido pela raiz quadrada do tamanho da amostra. Este fato é assegurado para n maior ou igual a 30."
      ]
    },
    {
      "cell_type": "code",
      "source": [
        "dados.Idade.mean()"
      ],
      "metadata": {
        "colab": {
          "base_uri": "https://localhost:8080/"
        },
        "id": "OQBnnMvS7G0Z",
        "outputId": "1edbe972-ff2a-42b8-cc8d-c2ab92caa493"
      },
      "execution_count": null,
      "outputs": [
        {
          "output_type": "execute_result",
          "data": {
            "text/plain": [
              "44.07142113482561"
            ]
          },
          "metadata": {},
          "execution_count": 110
        }
      ]
    },
    {
      "cell_type": "code",
      "execution_count": null,
      "metadata": {
        "id": "vXE-UOj_izGZ",
        "colab": {
          "base_uri": "https://localhost:8080/"
        },
        "outputId": "82e327da-3d47-4ea8-ff9e-7d54cfd53892"
      },
      "outputs": [
        {
          "output_type": "execute_result",
          "data": {
            "text/plain": [
              "44.063964666666664"
            ]
          },
          "metadata": {},
          "execution_count": 114
        }
      ],
      "source": [
        "amostras.mean().mean()"
      ]
    },
    {
      "cell_type": "markdown",
      "metadata": {
        "id": "7lIWJCAKlPmA"
      },
      "source": [
        "> O Teorema do Limite Central afirma que, com o aumento do tamanho da amostra, a distribuição das médias amostrais se aproxima de uma distribuição normal com média igual à média da população e **desvio padrão igual ao desvio padrão da variável original dividido pela raiz quadrada do tamanho da amostra**. Este fato é assegurado para n maior ou igual a 30.\n",
        "\n",
        "# $$\\sigma_\\bar{x} = \\frac{\\sigma}{\\sqrt{n}}$$"
      ]
    },
    {
      "cell_type": "code",
      "execution_count": null,
      "metadata": {
        "id": "qKrG0zqhVNzn",
        "colab": {
          "base_uri": "https://localhost:8080/"
        },
        "outputId": "5b218a69-171c-46ec-ea9c-82cc759c29ba"
      },
      "outputs": [
        {
          "output_type": "execute_result",
          "data": {
            "text/plain": [
              "0.27352617753715563"
            ]
          },
          "metadata": {},
          "execution_count": 116
        }
      ],
      "source": [
        "amostras.mean().std()"
      ]
    },
    {
      "cell_type": "code",
      "execution_count": null,
      "metadata": {
        "id": "83ILp8Quiy_W",
        "colab": {
          "base_uri": "https://localhost:8080/"
        },
        "outputId": "3dc00f47-44d5-4a79-9b73-c25105291589"
      },
      "outputs": [
        {
          "output_type": "execute_result",
          "data": {
            "text/plain": [
              "0.27907433027404266"
            ]
          },
          "metadata": {},
          "execution_count": 117
        }
      ],
      "source": [
        "dados.Idade.std() / np.sqrt(n)"
      ]
    },
    {
      "cell_type": "markdown",
      "metadata": {
        "id": "ku8CE67iG3Ge"
      },
      "source": [
        "## <font color=green>4.2 Níveis de confiança e significância</font>\n",
        "***"
      ]
    },
    {
      "cell_type": "markdown",
      "metadata": {
        "id": "mk6ZsvgyG3Gf"
      },
      "source": [
        "O **nível de confiança** ($1 - \\alpha$) representa a probabilidade de acerto da estimativa. De forma complementar o **nível de significância** ($\\alpha$) expressa a probabilidade de erro da estimativa.\n",
        "\n",
        "O **nível de confiança** representa o grau de confiabilidade do resultado da estimativa estar dentro de determinado intervalo. Quando fixamos em uma pesquisa um **nível de confiança** de 95%, por exemplo, estamos assumindo que existe uma probabilidade de 95% dos resultados da pesquisa representarem bem a realidade, ou seja, estarem corretos.\n",
        "\n",
        "O **nível de confiança** de uma estimativa pode ser obtido a partir da área sob a curva normal como ilustrado na figura abaixo."
      ]
    },
    {
      "cell_type": "markdown",
      "metadata": {
        "id": "WeGyDfvaG3Gg"
      },
      "source": [
        "![alt text](https://caelum-online-public.s3.amazonaws.com/1178-estatistica-parte2/01/img007.png)"
      ]
    },
    {
      "cell_type": "markdown",
      "metadata": {
        "id": "AN8WDZ-HG3Gi"
      },
      "source": [
        "## <font color=green>4.3 Erro inferencial</font>\n",
        "***"
      ]
    },
    {
      "cell_type": "markdown",
      "metadata": {
        "id": "tk-TwhhfG3Gi"
      },
      "source": [
        "O **erro inferencial** é definido pelo **desvio padrão das médias amostrais** $\\sigma_\\bar{x}$ e pelo **nível de confiança** determinado para o processo."
      ]
    },
    {
      "cell_type": "markdown",
      "metadata": {
        "id": "FKOQUPYHG3Gk"
      },
      "source": [
        "# $$e = z \\frac{\\sigma}{\\sqrt{n}}$$"
      ]
    },
    {
      "cell_type": "markdown",
      "metadata": {
        "id": "ELbWQW4sG3HS"
      },
      "source": [
        "## <font color=green>4.4 Intervalos de confiança</font>\n",
        "***"
      ]
    },
    {
      "cell_type": "markdown",
      "metadata": {
        "id": "-r6EMnH-G3HT"
      },
      "source": [
        "### Intevalo de confiança para a média da população"
      ]
    },
    {
      "cell_type": "markdown",
      "metadata": {
        "id": "QWgBFeRnG3HT"
      },
      "source": [
        "#### Com desvio padrão populacional conhecido\n",
        "\n",
        "## $$\\mu = \\bar{x} \\pm z\\frac{\\sigma}{\\sqrt{n}}$$\n",
        "\n",
        "#### Com desvio padrão populacional desconhecido\n",
        "\n",
        "## $$\\mu = \\bar{x} \\pm z\\frac{s}{\\sqrt{n}}$$"
      ]
    },
    {
      "cell_type": "markdown",
      "metadata": {
        "id": "R2qqLneeG3HT"
      },
      "source": [
        "## <font color='blue'>Exemplo: </font>"
      ]
    },
    {
      "cell_type": "markdown",
      "metadata": {
        "id": "AgnrFjdMG3HT"
      },
      "source": [
        "Suponha que os pesos dos sacos de arroz de uma indústria alimentícia se distribuem aproximadamente como uma normal de **desvio padrão populacional igual a 150 g**. Selecionada uma **amostra aleatório de 20 sacos** de um lote específico, obteve-se um **peso médio de 5.050 g**. Construa um intervalo de confiança para a **média populacional** assumindo um **nível de significância de 5%**."
      ]
    },
    {
      "cell_type": "markdown",
      "metadata": {
        "id": "LpGQGksTG3HU"
      },
      "source": [
        "### Média amostral"
      ]
    },
    {
      "cell_type": "code",
      "execution_count": null,
      "metadata": {
        "id": "aF2QQ0z3G3HU",
        "colab": {
          "base_uri": "https://localhost:8080/"
        },
        "outputId": "898651b9-90b3-47a5-e489-466880147eb4"
      },
      "outputs": [
        {
          "output_type": "execute_result",
          "data": {
            "text/plain": [
              "5050"
            ]
          },
          "metadata": {},
          "execution_count": 118
        }
      ],
      "source": [
        "media_amostral = 5050\n",
        "media_amostral"
      ]
    },
    {
      "cell_type": "markdown",
      "metadata": {
        "id": "Jly1bVP9G3HY"
      },
      "source": [
        "### Nível de significância ($\\alpha$)"
      ]
    },
    {
      "cell_type": "code",
      "execution_count": null,
      "metadata": {
        "id": "BzIgN3C7G3HY",
        "colab": {
          "base_uri": "https://localhost:8080/"
        },
        "outputId": "5dae30b7-9eee-4f4d-bcd6-015aac5a8215"
      },
      "outputs": [
        {
          "output_type": "execute_result",
          "data": {
            "text/plain": [
              "0.05"
            ]
          },
          "metadata": {},
          "execution_count": 119
        }
      ],
      "source": [
        "significancia = 0.05\n",
        "significancia"
      ]
    },
    {
      "cell_type": "markdown",
      "metadata": {
        "id": "SrZAbQRKG3Ha"
      },
      "source": [
        "### Nível de confiança ($1 - \\alpha$)"
      ]
    },
    {
      "cell_type": "code",
      "execution_count": null,
      "metadata": {
        "id": "1JeWXwA6G3Ha",
        "colab": {
          "base_uri": "https://localhost:8080/"
        },
        "outputId": "27e5c179-d936-4f09-ab85-f71fedac67b1"
      },
      "outputs": [
        {
          "output_type": "execute_result",
          "data": {
            "text/plain": [
              "0.95"
            ]
          },
          "metadata": {},
          "execution_count": 120
        }
      ],
      "source": [
        "confianca = 1 - significancia\n",
        "confianca"
      ]
    },
    {
      "cell_type": "markdown",
      "metadata": {
        "id": "mZoUFr1nG3Hf"
      },
      "source": [
        "### Obtendo $z$"
      ]
    },
    {
      "cell_type": "code",
      "execution_count": null,
      "metadata": {
        "id": "f9IMOwY2Xeva",
        "colab": {
          "base_uri": "https://localhost:8080/",
          "height": 363
        },
        "outputId": "a836bee5-8789-4208-c3b4-f66f9ad62169"
      },
      "outputs": [
        {
          "output_type": "execute_result",
          "data": {
            "text/plain": [
              "Z       0.00    0.01    0.02    0.03    0.04    0.05    0.06    0.07    0.08  \\\n",
              "1.60  0.9452  0.9463  0.9474  0.9484  0.9495  0.9505  0.9515  0.9525  0.9535   \n",
              "1.70  0.9554  0.9564  0.9573  0.9582  0.9591  0.9599  0.9608  0.9616  0.9625   \n",
              "1.80  0.9641  0.9649  0.9656  0.9664  0.9671  0.9678  0.9686  0.9693  0.9699   \n",
              "1.90  0.9713  0.9719  0.9726  0.9732  0.9738  0.9744  0.9750  0.9756  0.9761   \n",
              "2.00  0.9772  0.9778  0.9783  0.9788  0.9793  0.9798  0.9803  0.9808  0.9812   \n",
              "2.10  0.9821  0.9826  0.9830  0.9834  0.9838  0.9842  0.9846  0.9850  0.9854   \n",
              "2.20  0.9861  0.9864  0.9868  0.9871  0.9875  0.9878  0.9881  0.9884  0.9887   \n",
              "2.30  0.9893  0.9896  0.9898  0.9901  0.9904  0.9906  0.9909  0.9911  0.9913   \n",
              "2.40  0.9918  0.9920  0.9922  0.9925  0.9927  0.9929  0.9931  0.9932  0.9934   \n",
              "2.50  0.9938  0.9940  0.9941  0.9943  0.9945  0.9946  0.9948  0.9949  0.9951   \n",
              "\n",
              "Z       0.09  \n",
              "1.60  0.9545  \n",
              "1.70  0.9633  \n",
              "1.80  0.9706  \n",
              "1.90  0.9767  \n",
              "2.00  0.9817  \n",
              "2.10  0.9857  \n",
              "2.20  0.9890  \n",
              "2.30  0.9916  \n",
              "2.40  0.9936  \n",
              "2.50  0.9952  "
            ],
            "text/html": [
              "\n",
              "  <div id=\"df-d46d5516-9eb3-4ca1-987a-87e0159acb34\">\n",
              "    <div class=\"colab-df-container\">\n",
              "      <div>\n",
              "<style scoped>\n",
              "    .dataframe tbody tr th:only-of-type {\n",
              "        vertical-align: middle;\n",
              "    }\n",
              "\n",
              "    .dataframe tbody tr th {\n",
              "        vertical-align: top;\n",
              "    }\n",
              "\n",
              "    .dataframe thead th {\n",
              "        text-align: right;\n",
              "    }\n",
              "</style>\n",
              "<table border=\"1\" class=\"dataframe\">\n",
              "  <thead>\n",
              "    <tr style=\"text-align: right;\">\n",
              "      <th>Z</th>\n",
              "      <th>0.00</th>\n",
              "      <th>0.01</th>\n",
              "      <th>0.02</th>\n",
              "      <th>0.03</th>\n",
              "      <th>0.04</th>\n",
              "      <th>0.05</th>\n",
              "      <th>0.06</th>\n",
              "      <th>0.07</th>\n",
              "      <th>0.08</th>\n",
              "      <th>0.09</th>\n",
              "    </tr>\n",
              "  </thead>\n",
              "  <tbody>\n",
              "    <tr>\n",
              "      <th>1.60</th>\n",
              "      <td>0.9452</td>\n",
              "      <td>0.9463</td>\n",
              "      <td>0.9474</td>\n",
              "      <td>0.9484</td>\n",
              "      <td>0.9495</td>\n",
              "      <td>0.9505</td>\n",
              "      <td>0.9515</td>\n",
              "      <td>0.9525</td>\n",
              "      <td>0.9535</td>\n",
              "      <td>0.9545</td>\n",
              "    </tr>\n",
              "    <tr>\n",
              "      <th>1.70</th>\n",
              "      <td>0.9554</td>\n",
              "      <td>0.9564</td>\n",
              "      <td>0.9573</td>\n",
              "      <td>0.9582</td>\n",
              "      <td>0.9591</td>\n",
              "      <td>0.9599</td>\n",
              "      <td>0.9608</td>\n",
              "      <td>0.9616</td>\n",
              "      <td>0.9625</td>\n",
              "      <td>0.9633</td>\n",
              "    </tr>\n",
              "    <tr>\n",
              "      <th>1.80</th>\n",
              "      <td>0.9641</td>\n",
              "      <td>0.9649</td>\n",
              "      <td>0.9656</td>\n",
              "      <td>0.9664</td>\n",
              "      <td>0.9671</td>\n",
              "      <td>0.9678</td>\n",
              "      <td>0.9686</td>\n",
              "      <td>0.9693</td>\n",
              "      <td>0.9699</td>\n",
              "      <td>0.9706</td>\n",
              "    </tr>\n",
              "    <tr>\n",
              "      <th>1.90</th>\n",
              "      <td>0.9713</td>\n",
              "      <td>0.9719</td>\n",
              "      <td>0.9726</td>\n",
              "      <td>0.9732</td>\n",
              "      <td>0.9738</td>\n",
              "      <td>0.9744</td>\n",
              "      <td>0.9750</td>\n",
              "      <td>0.9756</td>\n",
              "      <td>0.9761</td>\n",
              "      <td>0.9767</td>\n",
              "    </tr>\n",
              "    <tr>\n",
              "      <th>2.00</th>\n",
              "      <td>0.9772</td>\n",
              "      <td>0.9778</td>\n",
              "      <td>0.9783</td>\n",
              "      <td>0.9788</td>\n",
              "      <td>0.9793</td>\n",
              "      <td>0.9798</td>\n",
              "      <td>0.9803</td>\n",
              "      <td>0.9808</td>\n",
              "      <td>0.9812</td>\n",
              "      <td>0.9817</td>\n",
              "    </tr>\n",
              "    <tr>\n",
              "      <th>2.10</th>\n",
              "      <td>0.9821</td>\n",
              "      <td>0.9826</td>\n",
              "      <td>0.9830</td>\n",
              "      <td>0.9834</td>\n",
              "      <td>0.9838</td>\n",
              "      <td>0.9842</td>\n",
              "      <td>0.9846</td>\n",
              "      <td>0.9850</td>\n",
              "      <td>0.9854</td>\n",
              "      <td>0.9857</td>\n",
              "    </tr>\n",
              "    <tr>\n",
              "      <th>2.20</th>\n",
              "      <td>0.9861</td>\n",
              "      <td>0.9864</td>\n",
              "      <td>0.9868</td>\n",
              "      <td>0.9871</td>\n",
              "      <td>0.9875</td>\n",
              "      <td>0.9878</td>\n",
              "      <td>0.9881</td>\n",
              "      <td>0.9884</td>\n",
              "      <td>0.9887</td>\n",
              "      <td>0.9890</td>\n",
              "    </tr>\n",
              "    <tr>\n",
              "      <th>2.30</th>\n",
              "      <td>0.9893</td>\n",
              "      <td>0.9896</td>\n",
              "      <td>0.9898</td>\n",
              "      <td>0.9901</td>\n",
              "      <td>0.9904</td>\n",
              "      <td>0.9906</td>\n",
              "      <td>0.9909</td>\n",
              "      <td>0.9911</td>\n",
              "      <td>0.9913</td>\n",
              "      <td>0.9916</td>\n",
              "    </tr>\n",
              "    <tr>\n",
              "      <th>2.40</th>\n",
              "      <td>0.9918</td>\n",
              "      <td>0.9920</td>\n",
              "      <td>0.9922</td>\n",
              "      <td>0.9925</td>\n",
              "      <td>0.9927</td>\n",
              "      <td>0.9929</td>\n",
              "      <td>0.9931</td>\n",
              "      <td>0.9932</td>\n",
              "      <td>0.9934</td>\n",
              "      <td>0.9936</td>\n",
              "    </tr>\n",
              "    <tr>\n",
              "      <th>2.50</th>\n",
              "      <td>0.9938</td>\n",
              "      <td>0.9940</td>\n",
              "      <td>0.9941</td>\n",
              "      <td>0.9943</td>\n",
              "      <td>0.9945</td>\n",
              "      <td>0.9946</td>\n",
              "      <td>0.9948</td>\n",
              "      <td>0.9949</td>\n",
              "      <td>0.9951</td>\n",
              "      <td>0.9952</td>\n",
              "    </tr>\n",
              "  </tbody>\n",
              "</table>\n",
              "</div>\n",
              "      <button class=\"colab-df-convert\" onclick=\"convertToInteractive('df-d46d5516-9eb3-4ca1-987a-87e0159acb34')\"\n",
              "              title=\"Convert this dataframe to an interactive table.\"\n",
              "              style=\"display:none;\">\n",
              "        \n",
              "  <svg xmlns=\"http://www.w3.org/2000/svg\" height=\"24px\"viewBox=\"0 0 24 24\"\n",
              "       width=\"24px\">\n",
              "    <path d=\"M0 0h24v24H0V0z\" fill=\"none\"/>\n",
              "    <path d=\"M18.56 5.44l.94 2.06.94-2.06 2.06-.94-2.06-.94-.94-2.06-.94 2.06-2.06.94zm-11 1L8.5 8.5l.94-2.06 2.06-.94-2.06-.94L8.5 2.5l-.94 2.06-2.06.94zm10 10l.94 2.06.94-2.06 2.06-.94-2.06-.94-.94-2.06-.94 2.06-2.06.94z\"/><path d=\"M17.41 7.96l-1.37-1.37c-.4-.4-.92-.59-1.43-.59-.52 0-1.04.2-1.43.59L10.3 9.45l-7.72 7.72c-.78.78-.78 2.05 0 2.83L4 21.41c.39.39.9.59 1.41.59.51 0 1.02-.2 1.41-.59l7.78-7.78 2.81-2.81c.8-.78.8-2.07 0-2.86zM5.41 20L4 18.59l7.72-7.72 1.47 1.35L5.41 20z\"/>\n",
              "  </svg>\n",
              "      </button>\n",
              "      \n",
              "  <style>\n",
              "    .colab-df-container {\n",
              "      display:flex;\n",
              "      flex-wrap:wrap;\n",
              "      gap: 12px;\n",
              "    }\n",
              "\n",
              "    .colab-df-convert {\n",
              "      background-color: #E8F0FE;\n",
              "      border: none;\n",
              "      border-radius: 50%;\n",
              "      cursor: pointer;\n",
              "      display: none;\n",
              "      fill: #1967D2;\n",
              "      height: 32px;\n",
              "      padding: 0 0 0 0;\n",
              "      width: 32px;\n",
              "    }\n",
              "\n",
              "    .colab-df-convert:hover {\n",
              "      background-color: #E2EBFA;\n",
              "      box-shadow: 0px 1px 2px rgba(60, 64, 67, 0.3), 0px 1px 3px 1px rgba(60, 64, 67, 0.15);\n",
              "      fill: #174EA6;\n",
              "    }\n",
              "\n",
              "    [theme=dark] .colab-df-convert {\n",
              "      background-color: #3B4455;\n",
              "      fill: #D2E3FC;\n",
              "    }\n",
              "\n",
              "    [theme=dark] .colab-df-convert:hover {\n",
              "      background-color: #434B5C;\n",
              "      box-shadow: 0px 1px 3px 1px rgba(0, 0, 0, 0.15);\n",
              "      filter: drop-shadow(0px 1px 2px rgba(0, 0, 0, 0.3));\n",
              "      fill: #FFFFFF;\n",
              "    }\n",
              "  </style>\n",
              "\n",
              "      <script>\n",
              "        const buttonEl =\n",
              "          document.querySelector('#df-d46d5516-9eb3-4ca1-987a-87e0159acb34 button.colab-df-convert');\n",
              "        buttonEl.style.display =\n",
              "          google.colab.kernel.accessAllowed ? 'block' : 'none';\n",
              "\n",
              "        async function convertToInteractive(key) {\n",
              "          const element = document.querySelector('#df-d46d5516-9eb3-4ca1-987a-87e0159acb34');\n",
              "          const dataTable =\n",
              "            await google.colab.kernel.invokeFunction('convertToInteractive',\n",
              "                                                     [key], {});\n",
              "          if (!dataTable) return;\n",
              "\n",
              "          const docLinkHtml = 'Like what you see? Visit the ' +\n",
              "            '<a target=\"_blank\" href=https://colab.research.google.com/notebooks/data_table.ipynb>data table notebook</a>'\n",
              "            + ' to learn more about interactive tables.';\n",
              "          element.innerHTML = '';\n",
              "          dataTable['output_type'] = 'display_data';\n",
              "          await google.colab.output.renderOutput(dataTable, element);\n",
              "          const docLink = document.createElement('div');\n",
              "          docLink.innerHTML = docLinkHtml;\n",
              "          element.appendChild(docLink);\n",
              "        }\n",
              "      </script>\n",
              "    </div>\n",
              "  </div>\n",
              "  "
            ]
          },
          "metadata": {},
          "execution_count": 121
        }
      ],
      "source": [
        "tabela_normal_padronizada[16:26]"
      ]
    },
    {
      "cell_type": "markdown",
      "metadata": {
        "id": "rMRmnaNPG3Go"
      },
      "source": [
        "### Obtendo $z$"
      ]
    },
    {
      "cell_type": "markdown",
      "metadata": {
        "id": "T-3mV1qlUj1t"
      },
      "source": [
        "![alt text](https://caelum-online-public.s3.amazonaws.com/1178-estatistica-parte2/01/img008.png)"
      ]
    },
    {
      "cell_type": "code",
      "execution_count": null,
      "metadata": {
        "id": "nT5ZTwjOG3Go",
        "colab": {
          "base_uri": "https://localhost:8080/"
        },
        "outputId": "c8b3da1a-3cfe-442e-a8d9-1b0761627f33"
      },
      "outputs": [
        {
          "output_type": "execute_result",
          "data": {
            "text/plain": [
              "0.475"
            ]
          },
          "metadata": {},
          "execution_count": 122
        }
      ],
      "source": [
        "0.95 / 2"
      ]
    },
    {
      "cell_type": "code",
      "execution_count": null,
      "metadata": {
        "id": "vMjck-3ZU_sz",
        "colab": {
          "base_uri": "https://localhost:8080/"
        },
        "outputId": "2ab87e2f-dd04-4724-b5cf-3452c0ddebd3"
      },
      "outputs": [
        {
          "output_type": "execute_result",
          "data": {
            "text/plain": [
              "0.975"
            ]
          },
          "metadata": {},
          "execution_count": 123
        }
      ],
      "source": [
        "0.5 + (0.95 / 2)"
      ]
    },
    {
      "cell_type": "code",
      "execution_count": null,
      "metadata": {
        "id": "L4CMGZ3oVHLX",
        "colab": {
          "base_uri": "https://localhost:8080/"
        },
        "outputId": "fd58ec1d-079a-4386-f043-47dceb220c7d"
      },
      "outputs": [
        {
          "output_type": "execute_result",
          "data": {
            "text/plain": [
              "2.5"
            ]
          },
          "metadata": {},
          "execution_count": 124
        }
      ],
      "source": [
        "1.9 + 0.6"
      ]
    },
    {
      "cell_type": "code",
      "execution_count": null,
      "metadata": {
        "id": "JJS6Z-85G3Hf",
        "colab": {
          "base_uri": "https://localhost:8080/"
        },
        "outputId": "94a6c4d0-d423-49b7-cba5-2e6bb35ac7f3"
      },
      "outputs": [
        {
          "output_type": "execute_result",
          "data": {
            "text/plain": [
              "1.959963984540054"
            ]
          },
          "metadata": {},
          "execution_count": 126
        }
      ],
      "source": [
        "z = norm.ppf(0.975)\n",
        "z"
      ]
    },
    {
      "cell_type": "markdown",
      "metadata": {
        "id": "ggXXP8QqTyNA"
      },
      "source": [
        "### Valores de $z$ para os níveis de confiança mais utilizados\n",
        "\n",
        "|Nível de<br>confiança|Valor da área sob<br>a curva normal| $z$ |\n",
        "|:----------------:|:---------------------------------:|:---:|\n",
        "|90%               |0,95                               |1,645|\n",
        "|95%               |0,975                              |1,96 |\n",
        "|99%               |0,995                              |2,575|"
      ]
    },
    {
      "cell_type": "markdown",
      "metadata": {
        "id": "MfE1ru0AG3Hg"
      },
      "source": [
        "### Obtendo $\\sigma_\\bar{x}$"
      ]
    },
    {
      "cell_type": "code",
      "execution_count": null,
      "metadata": {
        "id": "LyQ6UUYtG3Hh",
        "colab": {
          "base_uri": "https://localhost:8080/"
        },
        "outputId": "7fed18ce-879b-4c1d-cdd6-8bee30619e32"
      },
      "outputs": [
        {
          "output_type": "execute_result",
          "data": {
            "text/plain": [
              "150"
            ]
          },
          "metadata": {},
          "execution_count": 127
        }
      ],
      "source": [
        "desvio_padrao = 150\n",
        "desvio_padrao"
      ]
    },
    {
      "cell_type": "code",
      "execution_count": null,
      "metadata": {
        "id": "ebvikT95G3Hi",
        "colab": {
          "base_uri": "https://localhost:8080/"
        },
        "outputId": "c7e7bd64-172c-4052-a6b0-d6d213dde627"
      },
      "outputs": [
        {
          "output_type": "execute_result",
          "data": {
            "text/plain": [
              "20"
            ]
          },
          "metadata": {},
          "execution_count": 129
        }
      ],
      "source": [
        "n = 20\n",
        "n"
      ]
    },
    {
      "cell_type": "code",
      "execution_count": null,
      "metadata": {
        "id": "TxM3yTpjG3Hk",
        "colab": {
          "base_uri": "https://localhost:8080/"
        },
        "outputId": "86edb1d5-b4fc-4fab-9067-91511dec5102"
      },
      "outputs": [
        {
          "output_type": "execute_result",
          "data": {
            "text/plain": [
              "4.47213595499958"
            ]
          },
          "metadata": {},
          "execution_count": 130
        }
      ],
      "source": [
        "raiz_de_n = np.sqrt(n)\n",
        "raiz_de_n"
      ]
    },
    {
      "cell_type": "code",
      "execution_count": null,
      "metadata": {
        "id": "HNAcOpl0G3Hl",
        "colab": {
          "base_uri": "https://localhost:8080/"
        },
        "outputId": "141b0e31-7d81-4495-a37c-8c76c4f9971e"
      },
      "outputs": [
        {
          "output_type": "execute_result",
          "data": {
            "text/plain": [
              "33.54101966249684"
            ]
          },
          "metadata": {},
          "execution_count": 132
        }
      ],
      "source": [
        "sigma = desvio_padrao / raiz_de_n\n",
        "sigma"
      ]
    },
    {
      "cell_type": "markdown",
      "metadata": {
        "id": "NHbXlLk-G3Hn"
      },
      "source": [
        "### Obtendo $e$"
      ]
    },
    {
      "cell_type": "code",
      "execution_count": null,
      "metadata": {
        "id": "gAfakih5G3Ho",
        "colab": {
          "base_uri": "https://localhost:8080/"
        },
        "outputId": "a95d944e-ae07-4e74-95bc-452f67cba446"
      },
      "outputs": [
        {
          "output_type": "execute_result",
          "data": {
            "text/plain": [
              "65.73919054324361"
            ]
          },
          "metadata": {},
          "execution_count": 133
        }
      ],
      "source": [
        "e = z * sigma\n",
        "e"
      ]
    },
    {
      "cell_type": "markdown",
      "metadata": {
        "id": "sx1QTfNrG3Hq"
      },
      "source": [
        "### Solução 1 - Calculando o intervalo de confiança para a média"
      ]
    },
    {
      "cell_type": "code",
      "execution_count": null,
      "metadata": {
        "id": "NlJCcPZnG3Hq",
        "colab": {
          "base_uri": "https://localhost:8080/"
        },
        "outputId": "54a037d2-f38c-4f12-f2c1-688647dda075"
      },
      "outputs": [
        {
          "output_type": "execute_result",
          "data": {
            "text/plain": [
              "(4984.260809456757, 5115.739190543243)"
            ]
          },
          "metadata": {},
          "execution_count": 134
        }
      ],
      "source": [
        "intervalo = (\n",
        "    media_amostral - e,\n",
        "    media_amostral + e\n",
        ")\n",
        "intervalo\n",
        "# Nosso Intervalo de Confiança será (4984.260809456757, 5115.739190543243) com Nível de Confiança de 95%, ou seja,\n",
        "# teremos uma probabilidade de 95% de o parâmetro da população estar dentro do intervalo."
      ]
    },
    {
      "cell_type": "markdown",
      "metadata": {
        "id": "DkFJL7fcG3Ht"
      },
      "source": [
        "### Solução 2 - Calculando o intervalo de confiança para a média"
      ]
    },
    {
      "cell_type": "code",
      "execution_count": null,
      "metadata": {
        "id": "U92vSYMkG3Hu",
        "colab": {
          "base_uri": "https://localhost:8080/"
        },
        "outputId": "90f837c8-a092-4ad8-d6a6-68991d0a99ff"
      },
      "outputs": [
        {
          "output_type": "stream",
          "name": "stderr",
          "text": [
            "<ipython-input-135-ca9315d4b868>:1: DeprecationWarning: Use of keyword argument 'alpha' for method 'interval' is deprecated and wil be removed in SciPy 1.11.0. Use first positional argument or keyword argument 'confidence' instead.\n",
            "  norm.interval(alpha = 0.95, loc = media_amostral, scale = sigma)\n"
          ]
        },
        {
          "output_type": "execute_result",
          "data": {
            "text/plain": [
              "(4984.260809456757, 5115.739190543243)"
            ]
          },
          "metadata": {},
          "execution_count": 135
        }
      ],
      "source": [
        "norm.interval(alpha = 0.95, loc = media_amostral, scale = sigma)"
      ]
    },
    {
      "cell_type": "code",
      "source": [
        "# Para estimar o valor médio gasto por cada cliente de uma grande rede de fast-food, foi selecionada uma amostra de 50\n",
        "# clientes.\n",
        "\n",
        "# Assumindo que o valor do desvio padrão da população seja de R$ 6,00 e que esta população se distribui normalmente,\n",
        "# obtenha a margem de erro desta estimativa para um nível de confiança de 95%."
      ],
      "metadata": {
        "id": "IUC1raZMJb4t"
      },
      "execution_count": null,
      "outputs": []
    },
    {
      "cell_type": "code",
      "source": [
        "z = norm.ppf(0.975)\n",
        "desvio_padrao = 6\n",
        "n = 50\n",
        "\n",
        "e = z * (desvio_padrao / np.sqrt(n))\n",
        "print(\"R$ {0:0.2f}\".format(e))"
      ],
      "metadata": {
        "colab": {
          "base_uri": "https://localhost:8080/"
        },
        "id": "HLqTO3hHJbbs",
        "outputId": "ce5030f1-9e13-44c3-875d-bdb53cd15a16"
      },
      "execution_count": null,
      "outputs": [
        {
          "output_type": "stream",
          "name": "stdout",
          "text": [
            "R$ 1.66\n"
          ]
        }
      ]
    },
    {
      "cell_type": "code",
      "source": [
        "# Uma amostra aleatória simples de 1976 itens de uma população normalmente distribuída, com desvio padrão populacional\n",
        "# igual a 11, resultou em uma média amostral de 28.\n",
        "\n",
        "# Qual o intervalo de confiança de 90% para a média populacional?"
      ],
      "metadata": {
        "id": "XLrRq1D6LLDC"
      },
      "execution_count": null,
      "outputs": []
    },
    {
      "cell_type": "code",
      "source": [
        "media_amostral = 28\n",
        "desvio_padrao = 11\n",
        "n = 1976"
      ],
      "metadata": {
        "id": "FFmJ8CxzLKqk"
      },
      "execution_count": null,
      "outputs": []
    },
    {
      "cell_type": "markdown",
      "metadata": {
        "id": "aF9jAC6yG3Gl"
      },
      "source": [
        "# <font color=green>5 CÁLCULO DO TAMANHO DA AMOSTRA</font>\n",
        "***"
      ]
    },
    {
      "cell_type": "markdown",
      "metadata": {
        "id": "BwiygaNqnjrr"
      },
      "source": [
        "## <font color='red'>Problema </font>"
      ]
    },
    {
      "cell_type": "markdown",
      "metadata": {
        "id": "a7RjjVVUnlI3"
      },
      "source": [
        "Estamos estudando o rendimento mensal dos chefes de domicílios com renda até R$\\$$ 5.000,00 no Brasil. Nosso supervisor determinou que o **erro máximo em relação a média seja de R$\\$$ 10,00**. Sabemos que o **desvio padrão populacional** deste grupo de trabalhadores é de **R$\\$$ 1.082,79**. Para um **nível de confiança de 95%**, qual deve ser o tamanho da amostra de nosso estudo?"
      ]
    },
    {
      "cell_type": "markdown",
      "metadata": {
        "id": "za2sGJt6G3Gm"
      },
      "source": [
        "## <font color=green>5.1 Variáveis quantitativas e população infinita</font>\n",
        "***"
      ]
    },
    {
      "cell_type": "markdown",
      "metadata": {
        "id": "3wqMjJWR5sVq"
      },
      "source": [
        "# $$e = z \\frac{\\sigma}{\\sqrt{n}}$$"
      ]
    },
    {
      "cell_type": "markdown",
      "metadata": {
        "id": "X1AxpKtIG3Gn"
      },
      "source": [
        "#### Com desvio padrão conhecido\n",
        "\n",
        "## $$n = \\left(z\\frac{\\sigma}{e}\\right)^2$$\n",
        "\n",
        "#### Com desvio padrão desconhecido\n",
        "\n",
        "## $$n = \\left(z\\frac{s}{e}\\right)^2$$\n",
        "\n",
        "Onde:\n",
        "\n",
        "$z$ = variável normal padronizada\n",
        "\n",
        "$\\sigma$ = desvio padrão populacional\n",
        "\n",
        "$s$ = desvio padrão amostral\n",
        "\n",
        "$e$ = erro inferencial"
      ]
    },
    {
      "cell_type": "markdown",
      "metadata": {
        "id": "T0fysCyDG3Gn"
      },
      "source": [
        "### <font color='red'>Observações</font>\n",
        "\n",
        "1. O desvio padrão ($\\sigma$ ou $s$) e o erro ($e$) devem estar na mesma unidade de medida.\n",
        "\n",
        "2. Quando o erro ($e$) for representado em termos percentuais, deve ser interpretado como um percentual relacionado à média."
      ]
    },
    {
      "cell_type": "markdown",
      "metadata": {
        "id": "WHYBTaupG3Gn"
      },
      "source": [
        "## <font color='blue'>Exemplo: Rendimento médio</font>"
      ]
    },
    {
      "cell_type": "markdown",
      "metadata": {
        "id": "dcdzo7EgG3Go"
      },
      "source": [
        "Estamos estudando o rendimento mensal dos chefes de domicílios no Brasil. Nosso supervisor determinou que o **erro máximo em relação a média seja de R$\\$$ 100,00**. Sabemos que o **desvio padrão populacional** deste grupo de trabalhadores é de **R$\\$$ 3.323,39**. Para um **nível de confiança de 95%**, qual deve ser o tamanho da amostra de nosso estudo?"
      ]
    },
    {
      "cell_type": "code",
      "source": [
        "0.95/2"
      ],
      "metadata": {
        "colab": {
          "base_uri": "https://localhost:8080/"
        },
        "id": "YVxG5JY-hiRH",
        "outputId": "5ad94666-6cac-4b6a-91ce-6c67d662dbbc"
      },
      "execution_count": null,
      "outputs": [
        {
          "output_type": "execute_result",
          "data": {
            "text/plain": [
              "0.475"
            ]
          },
          "metadata": {},
          "execution_count": 147
        }
      ]
    },
    {
      "cell_type": "code",
      "source": [
        "0.5 + (0.95/2)"
      ],
      "metadata": {
        "colab": {
          "base_uri": "https://localhost:8080/"
        },
        "id": "27pdiKh9hb9H",
        "outputId": "f2b04ca6-9b95-4a51-eaf4-908538ed00e4"
      },
      "execution_count": null,
      "outputs": [
        {
          "output_type": "execute_result",
          "data": {
            "text/plain": [
              "0.975"
            ]
          },
          "metadata": {},
          "execution_count": 148
        }
      ]
    },
    {
      "cell_type": "code",
      "execution_count": null,
      "metadata": {
        "id": "XtJ5I_kaKDN3",
        "colab": {
          "base_uri": "https://localhost:8080/"
        },
        "outputId": "00657953-94d8-41b2-ad01-fde009228b83"
      },
      "outputs": [
        {
          "output_type": "execute_result",
          "data": {
            "text/plain": [
              "1.959963984540054"
            ]
          },
          "metadata": {},
          "execution_count": 150
        }
      ],
      "source": [
        "z = norm.ppf(0.975)\n",
        "z"
      ]
    },
    {
      "cell_type": "markdown",
      "metadata": {
        "id": "6uCkW4KlG3Gr"
      },
      "source": [
        "### Obtendo $\\sigma$"
      ]
    },
    {
      "cell_type": "code",
      "execution_count": null,
      "metadata": {
        "id": "1RmtZfj-G3Gr",
        "colab": {
          "base_uri": "https://localhost:8080/"
        },
        "outputId": "5fd4008c-2bb2-4f1d-d61c-1f57482ed6ee"
      },
      "outputs": [
        {
          "output_type": "execute_result",
          "data": {
            "text/plain": [
              "3323.39"
            ]
          },
          "metadata": {},
          "execution_count": 151
        }
      ],
      "source": [
        "sigma = 3323.39\n",
        "sigma"
      ]
    },
    {
      "cell_type": "markdown",
      "metadata": {
        "id": "Cl39PIZ2G3Gt"
      },
      "source": [
        "### Obtendo $e$"
      ]
    },
    {
      "cell_type": "code",
      "execution_count": null,
      "metadata": {
        "id": "NTRMt2gWG3Gt",
        "colab": {
          "base_uri": "https://localhost:8080/"
        },
        "outputId": "9a3af39b-2eaf-461a-89f3-c20d639c2a21"
      },
      "outputs": [
        {
          "output_type": "execute_result",
          "data": {
            "text/plain": [
              "100"
            ]
          },
          "metadata": {},
          "execution_count": 152
        }
      ],
      "source": [
        "e = 100\n",
        "e"
      ]
    },
    {
      "cell_type": "markdown",
      "metadata": {
        "id": "OlAX3Gj6G3Gv"
      },
      "source": [
        "### Obtendo $n$"
      ]
    },
    {
      "cell_type": "code",
      "execution_count": null,
      "metadata": {
        "id": "0MjluwHPG3Gv",
        "scrolled": true,
        "colab": {
          "base_uri": "https://localhost:8080/"
        },
        "outputId": "bd4c7110-4daf-42c7-8344-42db9a40da19"
      },
      "outputs": [
        {
          "output_type": "execute_result",
          "data": {
            "text/plain": [
              "4243"
            ]
          },
          "metadata": {},
          "execution_count": 156
        }
      ],
      "source": [
        "n = (z * (sigma / e)) **2\n",
        "int(n.round())\n"
      ]
    },
    {
      "cell_type": "markdown",
      "metadata": {
        "id": "MjP0xsqyTyNO"
      },
      "source": [
        "---\n",
        "---"
      ]
    },
    {
      "cell_type": "code",
      "source": [
        "# Exercicio\n",
        "# O valor do gasto médio dos clientes de uma loja de conveniência é de R$ 45,50. Assumindo que o desvio padrão dos\n",
        "# gastos é igual a R$ 15,00, qual deve ser o tamanho da amostra para estimarmos a média populacional com um nível de\n",
        "# significância de 10%?\n",
        "# Considere que o erro máximo aceitável seja de 10%."
      ],
      "metadata": {
        "id": "kzgZN6pri8Ms"
      },
      "execution_count": null,
      "outputs": []
    },
    {
      "cell_type": "code",
      "source": [
        "media = 45.5\n",
        "sigma = 15\n",
        "significancia = 0.10\n",
        "confianca = 1 - significancia\n",
        "\n",
        "z = norm.ppf(0.5 + (confianca / 2))\n",
        "erro_percentual = 0.10\n",
        "e = media * erro_percentual\n",
        "\n",
        "n = (z * (sigma / e)) ** 2\n",
        "n.round()"
      ],
      "metadata": {
        "colab": {
          "base_uri": "https://localhost:8080/"
        },
        "id": "NYXWE7T1lowE",
        "outputId": "2641aea8-ddba-4eeb-edad-1448bcd31be9"
      },
      "execution_count": null,
      "outputs": [
        {
          "output_type": "execute_result",
          "data": {
            "text/plain": [
              "29.0"
            ]
          },
          "metadata": {},
          "execution_count": 164
        }
      ]
    },
    {
      "cell_type": "markdown",
      "metadata": {
        "id": "dx2vyLC-TyNP"
      },
      "source": [
        "## <font color='red'>Problema</font>"
      ]
    },
    {
      "cell_type": "markdown",
      "metadata": {
        "id": "uzK2fAOFTyNP"
      },
      "source": [
        "Em um lote de **10.000 latas** de refrigerante foi realizada uma amostra aleatória simples de **100 latas** e foi obtido o **desvio padrão amostral do conteúdo das latas igual a 12 ml**. O fabricante estipula um **erro máximo sobre a média populacional de apenas 5 ml**. Para garantir um **nível de confiança de 95%** qual o tamanho de amostra deve ser selecionado para este estudo?"
      ]
    },
    {
      "cell_type": "markdown",
      "metadata": {
        "id": "FlAz5kycTyNQ"
      },
      "source": [
        "## <font color=green>5.2 Variáveis quantitativas e população finita</font>\n",
        "***"
      ]
    },
    {
      "cell_type": "markdown",
      "metadata": {
        "id": "UOe02McSTyNR"
      },
      "source": [
        "#### Com desvio padrão conhecido\n",
        "\n",
        "## $$n = \\frac{z^2 \\sigma^2 N}{z^2 \\sigma^2 + e^2(N-1)}$$\n",
        "\n",
        "#### Com desvio padrão desconhecido\n",
        "\n",
        "## $$n = \\frac{z^2 s^2 N}{z^2 s^2 + e^2(N-1)}$$\n",
        "\n",
        "Onde:\n",
        "\n",
        "$N$ = tamanho da população\n",
        "\n",
        "$z$ = variável normal padronizada\n",
        "\n",
        "$\\sigma$ = desvio padrão populacional\n",
        "\n",
        "$s$ = desvio padrão amostral\n",
        "\n",
        "$e$ = erro inferencial"
      ]
    },
    {
      "cell_type": "markdown",
      "metadata": {
        "id": "cUELtYTKTyNS"
      },
      "source": [
        "## <font color='blue'>Exemplo: Indústria de refrigerantes</font>"
      ]
    },
    {
      "cell_type": "markdown",
      "metadata": {
        "id": "upv1mM7fTyNS"
      },
      "source": [
        "Em um lote de **10.000 latas** de refrigerante foi realizada uma amostra aleatória simples de **100 latas** e foi obtido o **desvio padrão amostral do conteúdo das latas igual a 12 ml**. O fabricante estipula um **erro máximo sobre a média populacional de apenas 5 ml**. Para garantir um **nível de confiança de 95%** qual o tamanho de amostra deve ser selecionado para este estudo?"
      ]
    },
    {
      "cell_type": "markdown",
      "metadata": {
        "id": "_y3-3VIBTyNS"
      },
      "source": [
        "### Obtendo $N$"
      ]
    },
    {
      "cell_type": "code",
      "execution_count": null,
      "metadata": {
        "id": "gXWn9zTETyNS",
        "colab": {
          "base_uri": "https://localhost:8080/"
        },
        "outputId": "3ff380c4-1493-4abe-f35a-fb255c2cc852"
      },
      "outputs": [
        {
          "output_type": "execute_result",
          "data": {
            "text/plain": [
              "10000"
            ]
          },
          "metadata": {},
          "execution_count": 165
        }
      ],
      "source": [
        "N = 10000\n",
        "N"
      ]
    },
    {
      "cell_type": "markdown",
      "metadata": {
        "id": "xCgZ1JSjTyNT"
      },
      "source": [
        "### Obtendo $z$"
      ]
    },
    {
      "cell_type": "code",
      "source": [
        "0.5 + (0.95 / 2)"
      ],
      "metadata": {
        "colab": {
          "base_uri": "https://localhost:8080/"
        },
        "id": "5qSH4RH1novb",
        "outputId": "8a8a0992-8353-44b3-b8c9-6fa2afe109a3"
      },
      "execution_count": null,
      "outputs": [
        {
          "output_type": "execute_result",
          "data": {
            "text/plain": [
              "0.975"
            ]
          },
          "metadata": {},
          "execution_count": 166
        }
      ]
    },
    {
      "cell_type": "code",
      "source": [
        "z = norm.ppf(0.975)\n",
        "z"
      ],
      "metadata": {
        "colab": {
          "base_uri": "https://localhost:8080/"
        },
        "id": "Ee1Lrc1vnocM",
        "outputId": "88efb9a9-6d72-44b0-dfc2-9c98db2f6ee7"
      },
      "execution_count": null,
      "outputs": [
        {
          "output_type": "execute_result",
          "data": {
            "text/plain": [
              "1.959963984540054"
            ]
          },
          "metadata": {},
          "execution_count": 167
        }
      ]
    },
    {
      "cell_type": "markdown",
      "metadata": {
        "id": "KCnigJd8TyNU"
      },
      "source": [
        "### Obtendo $s$"
      ]
    },
    {
      "cell_type": "code",
      "execution_count": null,
      "metadata": {
        "id": "fKqFI_TZTyNU",
        "colab": {
          "base_uri": "https://localhost:8080/"
        },
        "outputId": "72e06d0c-bdea-4734-8f25-36e64762826d"
      },
      "outputs": [
        {
          "output_type": "execute_result",
          "data": {
            "text/plain": [
              "12"
            ]
          },
          "metadata": {},
          "execution_count": 168
        }
      ],
      "source": [
        "s = 12\n",
        "s"
      ]
    },
    {
      "cell_type": "markdown",
      "metadata": {
        "id": "K9gDEIUdTyNX"
      },
      "source": [
        "### Obtendo $e$"
      ]
    },
    {
      "cell_type": "code",
      "execution_count": null,
      "metadata": {
        "id": "hyhJ3MQKTyNX"
      },
      "outputs": [],
      "source": [
        "e = 5"
      ]
    },
    {
      "cell_type": "markdown",
      "metadata": {
        "id": "Dsm3bg9gTyNX"
      },
      "source": [
        "### Obtendo $n$\n",
        "\n",
        "## $$n = \\frac{z^2 s^2 N}{z^2 s^2 + e^2(N-1)}$$"
      ]
    },
    {
      "cell_type": "code",
      "execution_count": null,
      "metadata": {
        "id": "0XxWfaPdTyNY",
        "scrolled": true,
        "colab": {
          "base_uri": "https://localhost:8080/"
        },
        "outputId": "39d27092-57fe-4896-d3bd-662cb1897cc7"
      },
      "outputs": [
        {
          "output_type": "execute_result",
          "data": {
            "text/plain": [
              "22"
            ]
          },
          "metadata": {},
          "execution_count": 173
        }
      ],
      "source": [
        "n = ((z**2) * (s**2) * (N)) / ((z**2) * (s**2) + ((e**2)*(N - 1)))\n",
        "int(n.round())"
      ]
    },
    {
      "cell_type": "code",
      "source": [
        "#  Um fabricante de farinha verificou que, em uma amostra aleatória formada por 200 sacos de 25 kg de um lote formado\n",
        "#  por 2.000 sacos, apresentou um desvio padrão amostral do peso igual a 480 g.\n",
        "\n",
        "#  Considerando um erro máximo associado à média populacional igual a 0,3 kg e um nível de confiança igual a 95%,\n",
        "#  qual tamanho de amostra deveria ser selecionado para obtermos uma estimativa confiável do parâmetro populacional?"
      ],
      "metadata": {
        "id": "wXDVMdCcp9EN"
      },
      "execution_count": null,
      "outputs": []
    },
    {
      "cell_type": "code",
      "source": [
        "N = 2000\n",
        "N\n"
      ],
      "metadata": {
        "colab": {
          "base_uri": "https://localhost:8080/"
        },
        "id": "9INg-vCSp8wT",
        "outputId": "2650c41e-781a-4825-81d2-1a313667719d"
      },
      "execution_count": null,
      "outputs": [
        {
          "output_type": "execute_result",
          "data": {
            "text/plain": [
              "2000"
            ]
          },
          "metadata": {},
          "execution_count": 174
        }
      ]
    },
    {
      "cell_type": "code",
      "source": [
        "z = norm.ppf(0.5 + (0.95 / 2))\n",
        "z"
      ],
      "metadata": {
        "colab": {
          "base_uri": "https://localhost:8080/"
        },
        "id": "qabKwd2Tp8hd",
        "outputId": "a0e9f420-8c0f-41b1-9bd9-55c0c13073df"
      },
      "execution_count": null,
      "outputs": [
        {
          "output_type": "execute_result",
          "data": {
            "text/plain": [
              "1.959963984540054"
            ]
          },
          "metadata": {},
          "execution_count": 179
        }
      ]
    },
    {
      "cell_type": "code",
      "source": [
        "s = 480 / 1000\n",
        "s"
      ],
      "metadata": {
        "colab": {
          "base_uri": "https://localhost:8080/"
        },
        "id": "EqxJty24p8RF",
        "outputId": "51faf17e-f2aa-4045-f77a-3ecaa67555c3"
      },
      "execution_count": null,
      "outputs": [
        {
          "output_type": "execute_result",
          "data": {
            "text/plain": [
              "0.48"
            ]
          },
          "metadata": {},
          "execution_count": 187
        }
      ]
    },
    {
      "cell_type": "code",
      "source": [
        "e = 0.3\n",
        "e"
      ],
      "metadata": {
        "colab": {
          "base_uri": "https://localhost:8080/"
        },
        "id": "TjyqMamep8FF",
        "outputId": "e4afd6cc-d3c6-4457-8619-35e0147d9b3b"
      },
      "execution_count": null,
      "outputs": [
        {
          "output_type": "execute_result",
          "data": {
            "text/plain": [
              "0.3"
            ]
          },
          "metadata": {},
          "execution_count": 188
        }
      ]
    },
    {
      "cell_type": "code",
      "source": [
        "n = ((z**2) * (s**2) * (N)) / ((z**2) * (s**2) + ((e**2)*(N - 1)))\n",
        "int(n.round())"
      ],
      "metadata": {
        "colab": {
          "base_uri": "https://localhost:8080/"
        },
        "id": "FBNwE37ZroD1",
        "outputId": "7f04d519-39d8-4b7d-d2b3-4d02d5673b97"
      },
      "execution_count": null,
      "outputs": [
        {
          "output_type": "execute_result",
          "data": {
            "text/plain": [
              "10"
            ]
          },
          "metadata": {},
          "execution_count": 189
        }
      ]
    },
    {
      "cell_type": "markdown",
      "metadata": {
        "id": "XNH7CMglG3Hv"
      },
      "source": [
        "# <font color=green>6 FIXANDO O CONTEÚDO</font>\n",
        "***"
      ]
    },
    {
      "cell_type": "markdown",
      "metadata": {
        "id": "iRYqVAxuG3Hv"
      },
      "source": [
        "## <font color='blue'>Exemplo: Rendimento médio</font>"
      ]
    },
    {
      "cell_type": "markdown",
      "metadata": {
        "id": "ggloHI5sG3Hw"
      },
      "source": [
        "Estamos estudando o **rendimento mensal dos chefes de domicílios com renda até R$\\$$ 5.000,00 no Brasil**. Nosso supervisor determinou que o **erro máximo em relação a média seja de R$\\$$ 10,00**. Sabemos que o **desvio padrão populacional** deste grupo de trabalhadores é de **R$\\$$ 1.082,79** e que a **média populacional** é de **R$\\$$ 1.426,54**. Para um **nível de confiança de 95%**, qual deve ser o tamanho da amostra de nosso estudo? Qual o intervalo de confiança para a média considerando o tamanho de amostra obtido?"
      ]
    },
    {
      "cell_type": "markdown",
      "metadata": {
        "id": "JZDvLD-NG3Hw"
      },
      "source": [
        "### Construindo o dataset conforme especificado pelo problema"
      ]
    },
    {
      "cell_type": "code",
      "execution_count": null,
      "metadata": {
        "id": "qlnYQeaKG3Hw"
      },
      "outputs": [],
      "source": [
        "renda_5000 = dados.query('Renda <= 5000').Renda"
      ]
    },
    {
      "cell_type": "code",
      "execution_count": null,
      "metadata": {
        "id": "VKuxbygIG3Hy",
        "colab": {
          "base_uri": "https://localhost:8080/"
        },
        "outputId": "125cf731-3565-4f55-b8db-bd8db2eb27f7"
      },
      "outputs": [
        {
          "output_type": "execute_result",
          "data": {
            "text/plain": [
              "1082.7945490306845"
            ]
          },
          "metadata": {},
          "execution_count": 191
        }
      ],
      "source": [
        "sigma = renda_5000.std()\n",
        "sigma"
      ]
    },
    {
      "cell_type": "code",
      "execution_count": null,
      "metadata": {
        "id": "Q2Ku3mVPG3Hz",
        "colab": {
          "base_uri": "https://localhost:8080/"
        },
        "outputId": "e14f6fcc-852f-4582-e3c6-10cf103b1133"
      },
      "outputs": [
        {
          "output_type": "execute_result",
          "data": {
            "text/plain": [
              "1426.5372144947232"
            ]
          },
          "metadata": {},
          "execution_count": 193
        }
      ],
      "source": [
        "media = renda_5000.mean()\n",
        "media"
      ]
    },
    {
      "cell_type": "markdown",
      "metadata": {
        "id": "F33TdkXdG3H2"
      },
      "source": [
        "### Calculando o tamanho da amostra"
      ]
    },
    {
      "cell_type": "code",
      "execution_count": null,
      "metadata": {
        "id": "sWIvnmygG3H2",
        "colab": {
          "base_uri": "https://localhost:8080/"
        },
        "outputId": "47bb6c3e-2530-4f33-b1c7-9b80748997f4"
      },
      "outputs": [
        {
          "output_type": "execute_result",
          "data": {
            "text/plain": [
              "1.959963984540054"
            ]
          },
          "metadata": {},
          "execution_count": 194
        }
      ],
      "source": [
        "z = norm.ppf(0.975)\n",
        "z"
      ]
    },
    {
      "cell_type": "code",
      "source": [
        "e = 10\n",
        "e"
      ],
      "metadata": {
        "colab": {
          "base_uri": "https://localhost:8080/"
        },
        "id": "FUaLbWFEtfrV",
        "outputId": "62aba9e1-f6ce-4161-aa17-bad292dd692a"
      },
      "execution_count": null,
      "outputs": [
        {
          "output_type": "execute_result",
          "data": {
            "text/plain": [
              "10"
            ]
          },
          "metadata": {},
          "execution_count": 195
        }
      ]
    },
    {
      "cell_type": "code",
      "source": [
        "n = (z * (sigma / e)) ** 2\n",
        "n = int(n.round())\n",
        "n"
      ],
      "metadata": {
        "colab": {
          "base_uri": "https://localhost:8080/"
        },
        "id": "zXahEcHdtfWC",
        "outputId": "078cec70-884f-4b18-ce0a-0e8d4074c617"
      },
      "execution_count": null,
      "outputs": [
        {
          "output_type": "execute_result",
          "data": {
            "text/plain": [
              "45039"
            ]
          },
          "metadata": {},
          "execution_count": 198
        }
      ]
    },
    {
      "cell_type": "markdown",
      "metadata": {
        "id": "xRN_gmmLG3H6"
      },
      "source": [
        "### Calculando o intervalo de confiança para a média"
      ]
    },
    {
      "cell_type": "code",
      "execution_count": null,
      "metadata": {
        "id": "HoG6JKxxG3H6",
        "colab": {
          "base_uri": "https://localhost:8080/"
        },
        "outputId": "f47bb8c6-8b7e-4300-b80c-d0d27e618495"
      },
      "outputs": [
        {
          "output_type": "stream",
          "name": "stderr",
          "text": [
            "<ipython-input-199-de8f0a0f0e2e>:1: DeprecationWarning: Use of keyword argument 'alpha' for method 'interval' is deprecated and wil be removed in SciPy 1.11.0. Use first positional argument or keyword argument 'confidence' instead.\n",
            "  intervalo = norm.interval(alpha = 0.95, loc = media, scale = sigma / np.sqrt(n))\n"
          ]
        },
        {
          "output_type": "execute_result",
          "data": {
            "text/plain": [
              "(1416.5372195108237, 1436.5372094786228)"
            ]
          },
          "metadata": {},
          "execution_count": 199
        }
      ],
      "source": [
        "intervalo = norm.interval(alpha = 0.95, loc = media, scale = sigma / np.sqrt(n))\n",
        "intervalo"
      ]
    },
    {
      "cell_type": "markdown",
      "metadata": {
        "id": "xWAG8q8oG3H8"
      },
      "source": [
        "### Realizando uma prova gráfica"
      ]
    },
    {
      "cell_type": "code",
      "execution_count": null,
      "metadata": {
        "id": "pxjJyWnNG3H8",
        "colab": {
          "base_uri": "https://localhost:8080/",
          "height": 511
        },
        "outputId": "31b7abf0-ce03-4948-83b5-533c7303926a"
      },
      "outputs": [
        {
          "output_type": "execute_result",
          "data": {
            "text/plain": [
              "<Axes: >"
            ]
          },
          "metadata": {},
          "execution_count": 200
        },
        {
          "output_type": "display_data",
          "data": {
            "text/plain": [
              "<Figure size 1200x600 with 1 Axes>"
            ],
            "image/png": "[encoded data removed]"
          },
          "metadata": {}
        }
      ],
      "source": [
        "import matplotlib.pyplot as plt\n",
        "\n",
        "tamanho_simulacao = 1000\n",
        "\n",
        "medias = [renda_5000.sample(n = n).mean() for i in range(1, tamanho_simulacao)]\n",
        "medias = pd.DataFrame(medias)\n",
        "\n",
        "ax = medias.plot(style = '.')\n",
        "ax.figure.set_size_inches(12, 6)\n",
        "ax.hlines(y = media, xmin = 0, xmax = tamanho_simulacao, colors='black', linestyles='dashed')\n",
        "ax.hlines(y = intervalo[0], xmin = 0, xmax = tamanho_simulacao, colors='red', linestyles='dashed')\n",
        "ax.hlines(y = intervalo[1], xmin = 0, xmax = tamanho_simulacao, colors='red', linestyles='dashed')\n",
        "ax"
      ]
    },
    {
      "cell_type": "code",
      "execution_count": null,
      "metadata": {
        "id": "L5BFsSI8G3IB"
      },
      "outputs": [],
      "source": []
    }
  ],
  "metadata": {
    "colab": {
      "provenance": []
    },
    "kernelspec": {
      "display_name": "Python 3",
      "language": "python",
      "name": "python3"
    },
    "language_info": {
      "codemirror_mode": {
        "name": "ipython",
        "version": 3
      },
      "file_extension": ".py",
      "mimetype": "text/x-python",
      "name": "python",
      "nbconvert_exporter": "python",
      "pygments_lexer": "ipython3",
      "version": "3.6.5"
    }
  },
  "nbformat": 4,
  "nbformat_minor": 0
}